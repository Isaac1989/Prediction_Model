{
 "cells": [
  {
   "cell_type": "code",
   "execution_count": 82,
   "metadata": {
    "collapsed": true
   },
   "outputs": [],
   "source": [
    "import matplotlib.pyplot as plt\n",
    "import seaborn as sns\n",
    "%matplotlib inline\n",
    "import pandas as pd\n",
    "import numpy as np\n",
    "import datetime as dt"
   ]
  },
  {
   "cell_type": "code",
   "execution_count": 132,
   "metadata": {
    "collapsed": false
   },
   "outputs": [],
   "source": [
    "tci = pd.read_csv('model_data/tci_2_1.csv')\n",
    "ppns = set(tci['ppn'])\n",
    "ppns_num = set(tci['ppn'].apply(lambda x: x.replace('-','')))"
   ]
  },
  {
   "cell_type": "markdown",
   "metadata": {},
   "source": [
    "## Violations"
   ]
  },
  {
   "cell_type": "code",
   "execution_count": 180,
   "metadata": {
    "collapsed": true
   },
   "outputs": [],
   "source": [
    "vs = pd.read_csv('clean_data/violations_collinwood.csv', parse_dates = [1,4])"
   ]
  },
  {
   "cell_type": "code",
   "execution_count": 181,
   "metadata": {
    "collapsed": false
   },
   "outputs": [
    {
     "name": "stdout",
     "output_type": "stream",
     "text": [
      "<class 'pandas.core.frame.DataFrame'>\n",
      "Int64Index: 9911 entries, 0 to 9910\n",
      "Data columns (total 18 columns):\n",
      "VIN                     9911 non-null object\n",
      "v_file_date             9911 non-null datetime64[ns]\n",
      "v_wf_task               9911 non-null object\n",
      "v_wf_task_status        9848 non-null object\n",
      "v_wf_task_date          9911 non-null datetime64[ns]\n",
      "v_type_of_violation     9433 non-null object\n",
      "parcel1                 3659 non-null object\n",
      "parcel                  9911 non-null object\n",
      "cond_gar                1183 non-null float64\n",
      "cond                    2852 non-null float64\n",
      "other                   2194 non-null float64\n",
      "maint                   2985 non-null float64\n",
      "fire                    136 non-null float64\n",
      "int_ext                 81 non-null float64\n",
      "vin_id                  6397 non-null object\n",
      "violation_issue_date    6397 non-null object\n",
      "vn_created              6397 non-null float64\n",
      "vn_source               6397 non-null float64\n",
      "dtypes: datetime64[ns](2), float64(8), object(8)\n",
      "memory usage: 1.4+ MB\n"
     ]
    }
   ],
   "source": [
    "vs.info()"
   ]
  },
  {
   "cell_type": "code",
   "execution_count": 182,
   "metadata": {
    "collapsed": false
   },
   "outputs": [
    {
     "data": {
      "text/html": [
       "<div>\n",
       "<table border=\"1\" class=\"dataframe\">\n",
       "  <thead>\n",
       "    <tr style=\"text-align: right;\">\n",
       "      <th></th>\n",
       "      <th>VIN</th>\n",
       "      <th>v_file_date</th>\n",
       "      <th>v_wf_task</th>\n",
       "      <th>v_wf_task_status</th>\n",
       "      <th>v_wf_task_date</th>\n",
       "      <th>v_type_of_violation</th>\n",
       "      <th>parcel1</th>\n",
       "      <th>parcel</th>\n",
       "      <th>cond_gar</th>\n",
       "      <th>cond</th>\n",
       "      <th>other</th>\n",
       "      <th>maint</th>\n",
       "      <th>fire</th>\n",
       "      <th>int_ext</th>\n",
       "      <th>vin_id</th>\n",
       "      <th>violation_issue_date</th>\n",
       "      <th>vn_created</th>\n",
       "      <th>vn_source</th>\n",
       "    </tr>\n",
       "  </thead>\n",
       "  <tbody>\n",
       "    <tr>\n",
       "      <th>0</th>\n",
       "      <td>V06048780</td>\n",
       "      <td>2006-06-03</td>\n",
       "      <td>Closure</td>\n",
       "      <td>Case Closed</td>\n",
       "      <td>2009-12-21</td>\n",
       "      <td>Exterior Maintenance</td>\n",
       "      <td>NaN</td>\n",
       "      <td>111-22-126</td>\n",
       "      <td>NaN</td>\n",
       "      <td>NaN</td>\n",
       "      <td>NaN</td>\n",
       "      <td>1</td>\n",
       "      <td>NaN</td>\n",
       "      <td>NaN</td>\n",
       "      <td>V06048780</td>\n",
       "      <td>06/02/2006</td>\n",
       "      <td>1</td>\n",
       "      <td>2</td>\n",
       "    </tr>\n",
       "    <tr>\n",
       "      <th>1</th>\n",
       "      <td>V06048780</td>\n",
       "      <td>2006-06-03</td>\n",
       "      <td>Inspection</td>\n",
       "      <td>Violation Resolved</td>\n",
       "      <td>2009-12-21</td>\n",
       "      <td>Exterior Maintenance</td>\n",
       "      <td>NaN</td>\n",
       "      <td>111-22-126</td>\n",
       "      <td>NaN</td>\n",
       "      <td>NaN</td>\n",
       "      <td>NaN</td>\n",
       "      <td>1</td>\n",
       "      <td>NaN</td>\n",
       "      <td>NaN</td>\n",
       "      <td>V06048780</td>\n",
       "      <td>06/02/2006</td>\n",
       "      <td>1</td>\n",
       "      <td>2</td>\n",
       "    </tr>\n",
       "    <tr>\n",
       "      <th>2</th>\n",
       "      <td>V06048780</td>\n",
       "      <td>2006-06-03</td>\n",
       "      <td>Application Acceptance</td>\n",
       "      <td>Violation Notice Rvw Approved</td>\n",
       "      <td>2006-06-12</td>\n",
       "      <td>Exterior Maintenance</td>\n",
       "      <td>NaN</td>\n",
       "      <td>111-22-126</td>\n",
       "      <td>NaN</td>\n",
       "      <td>NaN</td>\n",
       "      <td>NaN</td>\n",
       "      <td>1</td>\n",
       "      <td>NaN</td>\n",
       "      <td>NaN</td>\n",
       "      <td>V06048780</td>\n",
       "      <td>06/02/2006</td>\n",
       "      <td>1</td>\n",
       "      <td>2</td>\n",
       "    </tr>\n",
       "    <tr>\n",
       "      <th>3</th>\n",
       "      <td>V06048955</td>\n",
       "      <td>2006-06-06</td>\n",
       "      <td>Closure</td>\n",
       "      <td>Case Closed</td>\n",
       "      <td>2007-02-01</td>\n",
       "      <td>Exterior Maintenance</td>\n",
       "      <td>NaN</td>\n",
       "      <td>115-29-099</td>\n",
       "      <td>NaN</td>\n",
       "      <td>NaN</td>\n",
       "      <td>NaN</td>\n",
       "      <td>1</td>\n",
       "      <td>NaN</td>\n",
       "      <td>NaN</td>\n",
       "      <td>V06048955</td>\n",
       "      <td>06/06/2006</td>\n",
       "      <td>1</td>\n",
       "      <td>2</td>\n",
       "    </tr>\n",
       "    <tr>\n",
       "      <th>4</th>\n",
       "      <td>V06048955</td>\n",
       "      <td>2006-06-06</td>\n",
       "      <td>Inspection</td>\n",
       "      <td>Violation Resolved</td>\n",
       "      <td>2007-02-01</td>\n",
       "      <td>Exterior Maintenance</td>\n",
       "      <td>NaN</td>\n",
       "      <td>115-29-099</td>\n",
       "      <td>NaN</td>\n",
       "      <td>NaN</td>\n",
       "      <td>NaN</td>\n",
       "      <td>1</td>\n",
       "      <td>NaN</td>\n",
       "      <td>NaN</td>\n",
       "      <td>V06048955</td>\n",
       "      <td>06/06/2006</td>\n",
       "      <td>1</td>\n",
       "      <td>2</td>\n",
       "    </tr>\n",
       "  </tbody>\n",
       "</table>\n",
       "</div>"
      ],
      "text/plain": [
       "         VIN v_file_date               v_wf_task  \\\n",
       "0  V06048780  2006-06-03                 Closure   \n",
       "1  V06048780  2006-06-03              Inspection   \n",
       "2  V06048780  2006-06-03  Application Acceptance   \n",
       "3  V06048955  2006-06-06                 Closure   \n",
       "4  V06048955  2006-06-06              Inspection   \n",
       "\n",
       "                v_wf_task_status v_wf_task_date   v_type_of_violation parcel1  \\\n",
       "0                    Case Closed     2009-12-21  Exterior Maintenance     NaN   \n",
       "1             Violation Resolved     2009-12-21  Exterior Maintenance     NaN   \n",
       "2  Violation Notice Rvw Approved     2006-06-12  Exterior Maintenance     NaN   \n",
       "3                    Case Closed     2007-02-01  Exterior Maintenance     NaN   \n",
       "4             Violation Resolved     2007-02-01  Exterior Maintenance     NaN   \n",
       "\n",
       "       parcel  cond_gar  cond  other  maint  fire  int_ext     vin_id  \\\n",
       "0  111-22-126       NaN   NaN    NaN      1   NaN      NaN  V06048780   \n",
       "1  111-22-126       NaN   NaN    NaN      1   NaN      NaN  V06048780   \n",
       "2  111-22-126       NaN   NaN    NaN      1   NaN      NaN  V06048780   \n",
       "3  115-29-099       NaN   NaN    NaN      1   NaN      NaN  V06048955   \n",
       "4  115-29-099       NaN   NaN    NaN      1   NaN      NaN  V06048955   \n",
       "\n",
       "  violation_issue_date  vn_created  vn_source  \n",
       "0           06/02/2006           1          2  \n",
       "1           06/02/2006           1          2  \n",
       "2           06/02/2006           1          2  \n",
       "3           06/06/2006           1          2  \n",
       "4           06/06/2006           1          2  "
      ]
     },
     "execution_count": 182,
     "metadata": {},
     "output_type": "execute_result"
    }
   ],
   "source": [
    "vs.head()"
   ]
  },
  {
   "cell_type": "markdown",
   "metadata": {},
   "source": [
    "### Violation Task"
   ]
  },
  {
   "cell_type": "code",
   "execution_count": 183,
   "metadata": {
    "collapsed": false
   },
   "outputs": [
    {
     "data": {
      "text/html": [
       "<div>\n",
       "<table border=\"1\" class=\"dataframe\">\n",
       "  <thead>\n",
       "    <tr style=\"text-align: right;\">\n",
       "      <th></th>\n",
       "      <th>violations_tasks</th>\n",
       "    </tr>\n",
       "    <tr>\n",
       "      <th>v_wf_task</th>\n",
       "      <th></th>\n",
       "    </tr>\n",
       "  </thead>\n",
       "  <tbody>\n",
       "    <tr>\n",
       "      <th>Application Acceptance</th>\n",
       "      <td>3090</td>\n",
       "    </tr>\n",
       "    <tr>\n",
       "      <th>Closure</th>\n",
       "      <td>1990</td>\n",
       "    </tr>\n",
       "    <tr>\n",
       "      <th>Condemnation</th>\n",
       "      <td>101</td>\n",
       "    </tr>\n",
       "    <tr>\n",
       "      <th>Inspection</th>\n",
       "      <td>4236</td>\n",
       "    </tr>\n",
       "    <tr>\n",
       "      <th>Non-Condemnation</th>\n",
       "      <td>257</td>\n",
       "    </tr>\n",
       "    <tr>\n",
       "      <th>Prosecution</th>\n",
       "      <td>20</td>\n",
       "    </tr>\n",
       "    <tr>\n",
       "      <th>Search Warrant</th>\n",
       "      <td>216</td>\n",
       "    </tr>\n",
       "  </tbody>\n",
       "</table>\n",
       "</div>"
      ],
      "text/plain": [
       "                        violations_tasks\n",
       "v_wf_task                               \n",
       "Application Acceptance              3090\n",
       "Closure                             1990\n",
       "Condemnation                         101\n",
       "Inspection                          4236\n",
       "Non-Condemnation                     257\n",
       "Prosecution                           20\n",
       "Search Warrant                       216"
      ]
     },
     "execution_count": 183,
     "metadata": {},
     "output_type": "execute_result"
    }
   ],
   "source": [
    "vs_task = pd.DataFrame(vs.groupby('v_wf_task').count()['VIN'])\n",
    "vs_task.columns = ['violations_tasks']\n",
    "vs_task[vs_task.violations_tasks > 1]"
   ]
  },
  {
   "cell_type": "code",
   "execution_count": 184,
   "metadata": {
    "collapsed": false
   },
   "outputs": [],
   "source": [
    "for task in set(vs.v_wf_task):\n",
    "    tci = pd.merge(tci, vs.loc[vs.v_wf_task==task,['parcel','v_wf_task']].groupby('parcel').count(), how='left', left_on = 'ppn', right_index=True)\n",
    "    tci = tci.rename(columns={'v_wf_task': task.lower()+' count'})\n",
    "    tci[task.lower()+' count'] = tci[task.lower()+' count'].fillna(0)\n",
    "#     print task, len(a), sum(a.vacant)*1.0/len(a.vacant)"
   ]
  },
  {
   "cell_type": "code",
   "execution_count": 185,
   "metadata": {
    "collapsed": true
   },
   "outputs": [],
   "source": [
    "# def check_task(x):\n",
    "#     if x in parcel_set:\n",
    "#         return 1\n",
    "#     else:\n",
    "#         return 0\n",
    "    \n",
    "# for task in vs_task.index:\n",
    "#     parcel_set = set(vs.loc[vs.v_wf_task==task,'parcel'])\n",
    "#     tci['task_'+task[0:3].lower()] = tci['ppn'].apply(check_task)"
   ]
  },
  {
   "cell_type": "markdown",
   "metadata": {},
   "source": [
    "### Violations count "
   ]
  },
  {
   "cell_type": "code",
   "execution_count": 186,
   "metadata": {
    "collapsed": false
   },
   "outputs": [
    {
     "data": {
      "text/plain": [
       "Index([u'ppn', u'vacant', u'Date', u'Survey Category', u'Survey Grade', u'zip',\n",
       "       u'propsize', u'pclass', u'totusabl', u'tmktval', u'condition',\n",
       "       u'parcel_x', u'condition_value', u'parcel_y', u'style_filtered',\n",
       "       u'parcel_x.1', u'ownerocc_value', u'parcel_y.1', u'totbldgs',\n",
       "       u'parcel_x.2', u'yrbuilt_filtered', u'parcel_y.2', u'rextwall',\n",
       "       u'num_of_sales', u'quit_claim_deed', u'warranty_deed',\n",
       "       u'limited_warranty', u'survivorship_deed', u'fiduciary_deed',\n",
       "       u'num_of_props', u'PROPERTY_NUMBER', u'SALE_VALID', u'DEED_TYPE',\n",
       "       u'county_land_bank', u'vindall_Y', u'vindall_P', u'closure count',\n",
       "       u'demolition approval count', u'application acceptance count',\n",
       "       u'condemnation count', u'prosecution count', u'search warrant count',\n",
       "       u'inspection count', u'non-condemnation count', u'violations_number',\n",
       "       u'vio_30 day condemnation ms_count', u'vio_condemnation - garage_count',\n",
       "       u'vio_condemnation - main structure_count', u'vio_elevator_count',\n",
       "       u'vio_exterior maintenance_count',\n",
       "       u'vio_interior/exterior maintenance_count', u'vio_survey_count',\n",
       "       u'closure count', u'demolition approval count',\n",
       "       u'application acceptance count', u'condemnation count',\n",
       "       u'prosecution count', u'search warrant count', u'inspection count',\n",
       "       u'non-condemnation count'],\n",
       "      dtype='object')"
      ]
     },
     "execution_count": 186,
     "metadata": {},
     "output_type": "execute_result"
    }
   ],
   "source": [
    "tci.columns"
   ]
  },
  {
   "cell_type": "code",
   "execution_count": 190,
   "metadata": {
    "collapsed": false
   },
   "outputs": [
    {
     "data": {
      "text/plain": [
       "parcel\n",
       "111-21-003     9\n",
       "111-21-004    11\n",
       "111-21-005     6\n",
       "111-21-007    10\n",
       "111-21-009     5\n",
       "111-21-011     4\n",
       "111-21-016     4\n",
       "111-21-025     3\n",
       "111-21-026     1\n",
       "111-21-027    14\n",
       "111-21-028     8\n",
       "111-21-029     3\n",
       "111-21-030     2\n",
       "111-21-034     3\n",
       "111-21-036     2\n",
       "111-21-040     7\n",
       "111-21-042     5\n",
       "111-21-045     6\n",
       "111-21-046     7\n",
       "111-21-048     3\n",
       "111-21-051     2\n",
       "111-21-053     4\n",
       "111-21-058     3\n",
       "111-21-062     4\n",
       "111-22-008     5\n",
       "111-22-009     5\n",
       "111-22-010     8\n",
       "111-22-011    26\n",
       "111-22-014     4\n",
       "111-22-015     2\n",
       "              ..\n",
       "116-33-071     3\n",
       "116-33-072     2\n",
       "116-34-002     4\n",
       "116-34-003     7\n",
       "116-34-008     8\n",
       "116-34-009     5\n",
       "116-34-013     4\n",
       "116-34-014     9\n",
       "116-34-015     7\n",
       "116-34-016    10\n",
       "116-34-020    19\n",
       "116-34-021    13\n",
       "116-34-027     6\n",
       "116-34-031     3\n",
       "116-34-032     8\n",
       "116-34-035    11\n",
       "116-34-036     1\n",
       "116-34-043     3\n",
       "116-34-045     6\n",
       "116-34-050    12\n",
       "116-34-056     4\n",
       "116-35-001     2\n",
       "116-35-031     2\n",
       "116-35-034     8\n",
       "116-35-036     5\n",
       "116-35-037     3\n",
       "116-35-038     3\n",
       "116-35-039     6\n",
       "116-35-041     4\n",
       "116-36-003     9\n",
       "Name: VIN, dtype: int64"
      ]
     },
     "execution_count": 190,
     "metadata": {},
     "output_type": "execute_result"
    }
   ],
   "source": [
    "vs.groupby('parcel').count()['VIN']"
   ]
  },
  {
   "cell_type": "code",
   "execution_count": 199,
   "metadata": {
    "collapsed": false
   },
   "outputs": [],
   "source": [
    "vs_count = vs.groupby('parcel').count()\n",
    "vs_count = vs_count.rename(columns={'VIN':'violations_number'})\n",
    "tci = pd.merge(tci, vs_count, \\\n",
    "               how='left', left_on='ppn', right_index=True)\n",
    "tci.loc[tci.violations_number.isnull(), 'violations_number'] = 0"
   ]
  },
  {
   "cell_type": "code",
   "execution_count": 200,
   "metadata": {
    "collapsed": false,
    "scrolled": true
   },
   "outputs": [
    {
     "data": {
      "text/html": [
       "<div>\n",
       "<table border=\"1\" class=\"dataframe\">\n",
       "  <thead>\n",
       "    <tr>\n",
       "      <th></th>\n",
       "      <th colspan=\"2\" halign=\"left\">vacant</th>\n",
       "    </tr>\n",
       "    <tr>\n",
       "      <th></th>\n",
       "      <th>sum</th>\n",
       "      <th>len</th>\n",
       "    </tr>\n",
       "    <tr>\n",
       "      <th>violations_number</th>\n",
       "      <th></th>\n",
       "      <th></th>\n",
       "    </tr>\n",
       "  </thead>\n",
       "  <tbody>\n",
       "    <tr>\n",
       "      <th>0</th>\n",
       "      <td>211</td>\n",
       "      <td>3122</td>\n",
       "    </tr>\n",
       "    <tr>\n",
       "      <th>1</th>\n",
       "      <td>12</td>\n",
       "      <td>139</td>\n",
       "    </tr>\n",
       "    <tr>\n",
       "      <th>2</th>\n",
       "      <td>47</td>\n",
       "      <td>230</td>\n",
       "    </tr>\n",
       "    <tr>\n",
       "      <th>3</th>\n",
       "      <td>60</td>\n",
       "      <td>361</td>\n",
       "    </tr>\n",
       "    <tr>\n",
       "      <th>4</th>\n",
       "      <td>44</td>\n",
       "      <td>151</td>\n",
       "    </tr>\n",
       "    <tr>\n",
       "      <th>5</th>\n",
       "      <td>48</td>\n",
       "      <td>165</td>\n",
       "    </tr>\n",
       "    <tr>\n",
       "      <th>6</th>\n",
       "      <td>29</td>\n",
       "      <td>149</td>\n",
       "    </tr>\n",
       "    <tr>\n",
       "      <th>7</th>\n",
       "      <td>25</td>\n",
       "      <td>74</td>\n",
       "    </tr>\n",
       "    <tr>\n",
       "      <th>8</th>\n",
       "      <td>39</td>\n",
       "      <td>79</td>\n",
       "    </tr>\n",
       "    <tr>\n",
       "      <th>9</th>\n",
       "      <td>11</td>\n",
       "      <td>47</td>\n",
       "    </tr>\n",
       "    <tr>\n",
       "      <th>10</th>\n",
       "      <td>15</td>\n",
       "      <td>32</td>\n",
       "    </tr>\n",
       "    <tr>\n",
       "      <th>11</th>\n",
       "      <td>14</td>\n",
       "      <td>43</td>\n",
       "    </tr>\n",
       "    <tr>\n",
       "      <th>12</th>\n",
       "      <td>14</td>\n",
       "      <td>33</td>\n",
       "    </tr>\n",
       "    <tr>\n",
       "      <th>13</th>\n",
       "      <td>4</td>\n",
       "      <td>19</td>\n",
       "    </tr>\n",
       "    <tr>\n",
       "      <th>14</th>\n",
       "      <td>14</td>\n",
       "      <td>28</td>\n",
       "    </tr>\n",
       "    <tr>\n",
       "      <th>15</th>\n",
       "      <td>3</td>\n",
       "      <td>16</td>\n",
       "    </tr>\n",
       "    <tr>\n",
       "      <th>16</th>\n",
       "      <td>5</td>\n",
       "      <td>13</td>\n",
       "    </tr>\n",
       "    <tr>\n",
       "      <th>17</th>\n",
       "      <td>3</td>\n",
       "      <td>12</td>\n",
       "    </tr>\n",
       "    <tr>\n",
       "      <th>18</th>\n",
       "      <td>3</td>\n",
       "      <td>5</td>\n",
       "    </tr>\n",
       "    <tr>\n",
       "      <th>19</th>\n",
       "      <td>5</td>\n",
       "      <td>12</td>\n",
       "    </tr>\n",
       "    <tr>\n",
       "      <th>20</th>\n",
       "      <td>1</td>\n",
       "      <td>1</td>\n",
       "    </tr>\n",
       "    <tr>\n",
       "      <th>21</th>\n",
       "      <td>0</td>\n",
       "      <td>3</td>\n",
       "    </tr>\n",
       "    <tr>\n",
       "      <th>22</th>\n",
       "      <td>0</td>\n",
       "      <td>7</td>\n",
       "    </tr>\n",
       "    <tr>\n",
       "      <th>23</th>\n",
       "      <td>2</td>\n",
       "      <td>3</td>\n",
       "    </tr>\n",
       "    <tr>\n",
       "      <th>24</th>\n",
       "      <td>1</td>\n",
       "      <td>1</td>\n",
       "    </tr>\n",
       "    <tr>\n",
       "      <th>25</th>\n",
       "      <td>0</td>\n",
       "      <td>1</td>\n",
       "    </tr>\n",
       "    <tr>\n",
       "      <th>26</th>\n",
       "      <td>1</td>\n",
       "      <td>4</td>\n",
       "    </tr>\n",
       "    <tr>\n",
       "      <th>27</th>\n",
       "      <td>1</td>\n",
       "      <td>2</td>\n",
       "    </tr>\n",
       "    <tr>\n",
       "      <th>28</th>\n",
       "      <td>1</td>\n",
       "      <td>4</td>\n",
       "    </tr>\n",
       "    <tr>\n",
       "      <th>29</th>\n",
       "      <td>0</td>\n",
       "      <td>1</td>\n",
       "    </tr>\n",
       "    <tr>\n",
       "      <th>30</th>\n",
       "      <td>0</td>\n",
       "      <td>1</td>\n",
       "    </tr>\n",
       "    <tr>\n",
       "      <th>31</th>\n",
       "      <td>0</td>\n",
       "      <td>1</td>\n",
       "    </tr>\n",
       "    <tr>\n",
       "      <th>32</th>\n",
       "      <td>1</td>\n",
       "      <td>1</td>\n",
       "    </tr>\n",
       "    <tr>\n",
       "      <th>36</th>\n",
       "      <td>1</td>\n",
       "      <td>1</td>\n",
       "    </tr>\n",
       "    <tr>\n",
       "      <th>40</th>\n",
       "      <td>0</td>\n",
       "      <td>2</td>\n",
       "    </tr>\n",
       "  </tbody>\n",
       "</table>\n",
       "</div>"
      ],
      "text/plain": [
       "                  vacant      \n",
       "                     sum   len\n",
       "violations_number             \n",
       "0                    211  3122\n",
       "1                     12   139\n",
       "2                     47   230\n",
       "3                     60   361\n",
       "4                     44   151\n",
       "5                     48   165\n",
       "6                     29   149\n",
       "7                     25    74\n",
       "8                     39    79\n",
       "9                     11    47\n",
       "10                    15    32\n",
       "11                    14    43\n",
       "12                    14    33\n",
       "13                     4    19\n",
       "14                    14    28\n",
       "15                     3    16\n",
       "16                     5    13\n",
       "17                     3    12\n",
       "18                     3     5\n",
       "19                     5    12\n",
       "20                     1     1\n",
       "21                     0     3\n",
       "22                     0     7\n",
       "23                     2     3\n",
       "24                     1     1\n",
       "25                     0     1\n",
       "26                     1     4\n",
       "27                     1     2\n",
       "28                     1     4\n",
       "29                     0     1\n",
       "30                     0     1\n",
       "31                     0     1\n",
       "32                     1     1\n",
       "36                     1     1\n",
       "40                     0     2"
      ]
     },
     "execution_count": 200,
     "metadata": {},
     "output_type": "execute_result"
    }
   ],
   "source": [
    "tci[['violations_number','vacant']].groupby('violations_number').agg([sum, len])"
   ]
  },
  {
   "cell_type": "markdown",
   "metadata": {},
   "source": [
    "### Violation types"
   ]
  },
  {
   "cell_type": "code",
   "execution_count": 214,
   "metadata": {
    "collapsed": false
   },
   "outputs": [],
   "source": [
    "vs_type = vs[['v_type_of_violation','parcel']].groupby('v_type_of_violation').count()\n",
    "vs_type = vs_type.rename(columns={'parcel':'violations_type'})"
   ]
  },
  {
   "cell_type": "code",
   "execution_count": null,
   "metadata": {
    "collapsed": true
   },
   "outputs": [],
   "source": []
  },
  {
   "cell_type": "code",
   "execution_count": 216,
   "metadata": {
    "collapsed": false
   },
   "outputs": [],
   "source": [
    "vs_types = vs_type[vs_type['violations_type']>200].index"
   ]
  },
  {
   "cell_type": "code",
   "execution_count": 146,
   "metadata": {
    "collapsed": false,
    "scrolled": true
   },
   "outputs": [
    {
     "data": {
      "text/html": [
       "<div>\n",
       "<table border=\"1\" class=\"dataframe\">\n",
       "  <thead>\n",
       "    <tr style=\"text-align: right;\">\n",
       "      <th></th>\n",
       "      <th>VIN</th>\n",
       "      <th>v_file_date</th>\n",
       "      <th>v_wf_task</th>\n",
       "      <th>v_wf_task_status</th>\n",
       "      <th>v_wf_task_date</th>\n",
       "      <th>v_type_of_violation</th>\n",
       "      <th>parcel1</th>\n",
       "      <th>cond_gar</th>\n",
       "      <th>cond</th>\n",
       "      <th>other</th>\n",
       "      <th>maint</th>\n",
       "      <th>fire</th>\n",
       "      <th>int_ext</th>\n",
       "      <th>vin_id</th>\n",
       "      <th>violation_issue_date</th>\n",
       "      <th>vn_created</th>\n",
       "      <th>vn_source</th>\n",
       "    </tr>\n",
       "    <tr>\n",
       "      <th>parcel</th>\n",
       "      <th></th>\n",
       "      <th></th>\n",
       "      <th></th>\n",
       "      <th></th>\n",
       "      <th></th>\n",
       "      <th></th>\n",
       "      <th></th>\n",
       "      <th></th>\n",
       "      <th></th>\n",
       "      <th></th>\n",
       "      <th></th>\n",
       "      <th></th>\n",
       "      <th></th>\n",
       "      <th></th>\n",
       "      <th></th>\n",
       "      <th></th>\n",
       "      <th></th>\n",
       "    </tr>\n",
       "  </thead>\n",
       "  <tbody>\n",
       "    <tr>\n",
       "      <th>114-29-001</th>\n",
       "      <td>23</td>\n",
       "      <td>23</td>\n",
       "      <td>23</td>\n",
       "      <td>23</td>\n",
       "      <td>23</td>\n",
       "      <td>23</td>\n",
       "      <td>16</td>\n",
       "      <td>0</td>\n",
       "      <td>0</td>\n",
       "      <td>23</td>\n",
       "      <td>0</td>\n",
       "      <td>0</td>\n",
       "      <td>0</td>\n",
       "      <td>0</td>\n",
       "      <td>0</td>\n",
       "      <td>0</td>\n",
       "      <td>0</td>\n",
       "    </tr>\n",
       "    <tr>\n",
       "      <th>115-01-001</th>\n",
       "      <td>27</td>\n",
       "      <td>27</td>\n",
       "      <td>27</td>\n",
       "      <td>27</td>\n",
       "      <td>27</td>\n",
       "      <td>27</td>\n",
       "      <td>16</td>\n",
       "      <td>0</td>\n",
       "      <td>0</td>\n",
       "      <td>27</td>\n",
       "      <td>0</td>\n",
       "      <td>0</td>\n",
       "      <td>0</td>\n",
       "      <td>3</td>\n",
       "      <td>3</td>\n",
       "      <td>3</td>\n",
       "      <td>3</td>\n",
       "    </tr>\n",
       "    <tr>\n",
       "      <th>115-02-104</th>\n",
       "      <td>3</td>\n",
       "      <td>3</td>\n",
       "      <td>3</td>\n",
       "      <td>3</td>\n",
       "      <td>3</td>\n",
       "      <td>3</td>\n",
       "      <td>0</td>\n",
       "      <td>0</td>\n",
       "      <td>0</td>\n",
       "      <td>3</td>\n",
       "      <td>0</td>\n",
       "      <td>0</td>\n",
       "      <td>0</td>\n",
       "      <td>3</td>\n",
       "      <td>3</td>\n",
       "      <td>3</td>\n",
       "      <td>3</td>\n",
       "    </tr>\n",
       "    <tr>\n",
       "      <th>115-02-106</th>\n",
       "      <td>3</td>\n",
       "      <td>3</td>\n",
       "      <td>3</td>\n",
       "      <td>3</td>\n",
       "      <td>3</td>\n",
       "      <td>3</td>\n",
       "      <td>0</td>\n",
       "      <td>0</td>\n",
       "      <td>0</td>\n",
       "      <td>3</td>\n",
       "      <td>0</td>\n",
       "      <td>0</td>\n",
       "      <td>0</td>\n",
       "      <td>3</td>\n",
       "      <td>3</td>\n",
       "      <td>3</td>\n",
       "      <td>3</td>\n",
       "    </tr>\n",
       "    <tr>\n",
       "      <th>115-19-004</th>\n",
       "      <td>3</td>\n",
       "      <td>3</td>\n",
       "      <td>3</td>\n",
       "      <td>3</td>\n",
       "      <td>3</td>\n",
       "      <td>3</td>\n",
       "      <td>0</td>\n",
       "      <td>0</td>\n",
       "      <td>0</td>\n",
       "      <td>3</td>\n",
       "      <td>0</td>\n",
       "      <td>0</td>\n",
       "      <td>0</td>\n",
       "      <td>3</td>\n",
       "      <td>3</td>\n",
       "      <td>3</td>\n",
       "      <td>3</td>\n",
       "    </tr>\n",
       "    <tr>\n",
       "      <th>115-19-008</th>\n",
       "      <td>64</td>\n",
       "      <td>64</td>\n",
       "      <td>64</td>\n",
       "      <td>64</td>\n",
       "      <td>64</td>\n",
       "      <td>64</td>\n",
       "      <td>11</td>\n",
       "      <td>0</td>\n",
       "      <td>0</td>\n",
       "      <td>64</td>\n",
       "      <td>0</td>\n",
       "      <td>0</td>\n",
       "      <td>0</td>\n",
       "      <td>3</td>\n",
       "      <td>3</td>\n",
       "      <td>3</td>\n",
       "      <td>3</td>\n",
       "    </tr>\n",
       "    <tr>\n",
       "      <th>115-28-134</th>\n",
       "      <td>22</td>\n",
       "      <td>22</td>\n",
       "      <td>22</td>\n",
       "      <td>22</td>\n",
       "      <td>22</td>\n",
       "      <td>22</td>\n",
       "      <td>4</td>\n",
       "      <td>0</td>\n",
       "      <td>0</td>\n",
       "      <td>22</td>\n",
       "      <td>0</td>\n",
       "      <td>0</td>\n",
       "      <td>0</td>\n",
       "      <td>6</td>\n",
       "      <td>6</td>\n",
       "      <td>6</td>\n",
       "      <td>6</td>\n",
       "    </tr>\n",
       "    <tr>\n",
       "      <th>115-30-013</th>\n",
       "      <td>51</td>\n",
       "      <td>51</td>\n",
       "      <td>51</td>\n",
       "      <td>51</td>\n",
       "      <td>51</td>\n",
       "      <td>51</td>\n",
       "      <td>26</td>\n",
       "      <td>0</td>\n",
       "      <td>0</td>\n",
       "      <td>51</td>\n",
       "      <td>0</td>\n",
       "      <td>0</td>\n",
       "      <td>0</td>\n",
       "      <td>12</td>\n",
       "      <td>12</td>\n",
       "      <td>12</td>\n",
       "      <td>12</td>\n",
       "    </tr>\n",
       "    <tr>\n",
       "      <th>115-31-056</th>\n",
       "      <td>10</td>\n",
       "      <td>10</td>\n",
       "      <td>10</td>\n",
       "      <td>10</td>\n",
       "      <td>10</td>\n",
       "      <td>10</td>\n",
       "      <td>10</td>\n",
       "      <td>0</td>\n",
       "      <td>0</td>\n",
       "      <td>10</td>\n",
       "      <td>0</td>\n",
       "      <td>0</td>\n",
       "      <td>0</td>\n",
       "      <td>0</td>\n",
       "      <td>0</td>\n",
       "      <td>0</td>\n",
       "      <td>0</td>\n",
       "    </tr>\n",
       "    <tr>\n",
       "      <th>115-33-001</th>\n",
       "      <td>12</td>\n",
       "      <td>12</td>\n",
       "      <td>12</td>\n",
       "      <td>12</td>\n",
       "      <td>12</td>\n",
       "      <td>12</td>\n",
       "      <td>10</td>\n",
       "      <td>0</td>\n",
       "      <td>0</td>\n",
       "      <td>12</td>\n",
       "      <td>0</td>\n",
       "      <td>0</td>\n",
       "      <td>0</td>\n",
       "      <td>2</td>\n",
       "      <td>2</td>\n",
       "      <td>2</td>\n",
       "      <td>2</td>\n",
       "    </tr>\n",
       "    <tr>\n",
       "      <th>116-04-006</th>\n",
       "      <td>9</td>\n",
       "      <td>9</td>\n",
       "      <td>9</td>\n",
       "      <td>9</td>\n",
       "      <td>9</td>\n",
       "      <td>9</td>\n",
       "      <td>2</td>\n",
       "      <td>0</td>\n",
       "      <td>0</td>\n",
       "      <td>9</td>\n",
       "      <td>0</td>\n",
       "      <td>0</td>\n",
       "      <td>0</td>\n",
       "      <td>3</td>\n",
       "      <td>3</td>\n",
       "      <td>3</td>\n",
       "      <td>3</td>\n",
       "    </tr>\n",
       "    <tr>\n",
       "      <th>116-05-001</th>\n",
       "      <td>7</td>\n",
       "      <td>7</td>\n",
       "      <td>7</td>\n",
       "      <td>7</td>\n",
       "      <td>7</td>\n",
       "      <td>7</td>\n",
       "      <td>2</td>\n",
       "      <td>0</td>\n",
       "      <td>0</td>\n",
       "      <td>7</td>\n",
       "      <td>0</td>\n",
       "      <td>0</td>\n",
       "      <td>0</td>\n",
       "      <td>0</td>\n",
       "      <td>0</td>\n",
       "      <td>0</td>\n",
       "      <td>0</td>\n",
       "    </tr>\n",
       "    <tr>\n",
       "      <th>116-07-002</th>\n",
       "      <td>6</td>\n",
       "      <td>6</td>\n",
       "      <td>6</td>\n",
       "      <td>6</td>\n",
       "      <td>6</td>\n",
       "      <td>6</td>\n",
       "      <td>4</td>\n",
       "      <td>0</td>\n",
       "      <td>0</td>\n",
       "      <td>6</td>\n",
       "      <td>0</td>\n",
       "      <td>0</td>\n",
       "      <td>0</td>\n",
       "      <td>0</td>\n",
       "      <td>0</td>\n",
       "      <td>0</td>\n",
       "      <td>0</td>\n",
       "    </tr>\n",
       "    <tr>\n",
       "      <th>116-13-001</th>\n",
       "      <td>30</td>\n",
       "      <td>30</td>\n",
       "      <td>30</td>\n",
       "      <td>30</td>\n",
       "      <td>30</td>\n",
       "      <td>30</td>\n",
       "      <td>18</td>\n",
       "      <td>0</td>\n",
       "      <td>0</td>\n",
       "      <td>30</td>\n",
       "      <td>0</td>\n",
       "      <td>0</td>\n",
       "      <td>0</td>\n",
       "      <td>3</td>\n",
       "      <td>3</td>\n",
       "      <td>3</td>\n",
       "      <td>3</td>\n",
       "    </tr>\n",
       "    <tr>\n",
       "      <th>116-19-015</th>\n",
       "      <td>3</td>\n",
       "      <td>3</td>\n",
       "      <td>3</td>\n",
       "      <td>3</td>\n",
       "      <td>3</td>\n",
       "      <td>3</td>\n",
       "      <td>3</td>\n",
       "      <td>0</td>\n",
       "      <td>0</td>\n",
       "      <td>3</td>\n",
       "      <td>0</td>\n",
       "      <td>0</td>\n",
       "      <td>0</td>\n",
       "      <td>0</td>\n",
       "      <td>0</td>\n",
       "      <td>0</td>\n",
       "      <td>0</td>\n",
       "    </tr>\n",
       "    <tr>\n",
       "      <th>116-28-005</th>\n",
       "      <td>7</td>\n",
       "      <td>7</td>\n",
       "      <td>7</td>\n",
       "      <td>7</td>\n",
       "      <td>7</td>\n",
       "      <td>7</td>\n",
       "      <td>4</td>\n",
       "      <td>0</td>\n",
       "      <td>0</td>\n",
       "      <td>7</td>\n",
       "      <td>0</td>\n",
       "      <td>0</td>\n",
       "      <td>0</td>\n",
       "      <td>3</td>\n",
       "      <td>3</td>\n",
       "      <td>3</td>\n",
       "      <td>3</td>\n",
       "    </tr>\n",
       "    <tr>\n",
       "      <th>116-31-013</th>\n",
       "      <td>2</td>\n",
       "      <td>2</td>\n",
       "      <td>2</td>\n",
       "      <td>2</td>\n",
       "      <td>2</td>\n",
       "      <td>2</td>\n",
       "      <td>2</td>\n",
       "      <td>0</td>\n",
       "      <td>0</td>\n",
       "      <td>2</td>\n",
       "      <td>0</td>\n",
       "      <td>0</td>\n",
       "      <td>0</td>\n",
       "      <td>0</td>\n",
       "      <td>0</td>\n",
       "      <td>0</td>\n",
       "      <td>0</td>\n",
       "    </tr>\n",
       "  </tbody>\n",
       "</table>\n",
       "</div>"
      ],
      "text/plain": [
       "            VIN  v_file_date  v_wf_task  v_wf_task_status  v_wf_task_date  \\\n",
       "parcel                                                                      \n",
       "114-29-001   23           23         23                23              23   \n",
       "115-01-001   27           27         27                27              27   \n",
       "115-02-104    3            3          3                 3               3   \n",
       "115-02-106    3            3          3                 3               3   \n",
       "115-19-004    3            3          3                 3               3   \n",
       "115-19-008   64           64         64                64              64   \n",
       "115-28-134   22           22         22                22              22   \n",
       "115-30-013   51           51         51                51              51   \n",
       "115-31-056   10           10         10                10              10   \n",
       "115-33-001   12           12         12                12              12   \n",
       "116-04-006    9            9          9                 9               9   \n",
       "116-05-001    7            7          7                 7               7   \n",
       "116-07-002    6            6          6                 6               6   \n",
       "116-13-001   30           30         30                30              30   \n",
       "116-19-015    3            3          3                 3               3   \n",
       "116-28-005    7            7          7                 7               7   \n",
       "116-31-013    2            2          2                 2               2   \n",
       "\n",
       "            v_type_of_violation  parcel1  cond_gar  cond  other  maint  fire  \\\n",
       "parcel                                                                         \n",
       "114-29-001                   23       16         0     0     23      0     0   \n",
       "115-01-001                   27       16         0     0     27      0     0   \n",
       "115-02-104                    3        0         0     0      3      0     0   \n",
       "115-02-106                    3        0         0     0      3      0     0   \n",
       "115-19-004                    3        0         0     0      3      0     0   \n",
       "115-19-008                   64       11         0     0     64      0     0   \n",
       "115-28-134                   22        4         0     0     22      0     0   \n",
       "115-30-013                   51       26         0     0     51      0     0   \n",
       "115-31-056                   10       10         0     0     10      0     0   \n",
       "115-33-001                   12       10         0     0     12      0     0   \n",
       "116-04-006                    9        2         0     0      9      0     0   \n",
       "116-05-001                    7        2         0     0      7      0     0   \n",
       "116-07-002                    6        4         0     0      6      0     0   \n",
       "116-13-001                   30       18         0     0     30      0     0   \n",
       "116-19-015                    3        3         0     0      3      0     0   \n",
       "116-28-005                    7        4         0     0      7      0     0   \n",
       "116-31-013                    2        2         0     0      2      0     0   \n",
       "\n",
       "            int_ext  vin_id  violation_issue_date  vn_created  vn_source  \n",
       "parcel                                                                    \n",
       "114-29-001        0       0                     0           0          0  \n",
       "115-01-001        0       3                     3           3          3  \n",
       "115-02-104        0       3                     3           3          3  \n",
       "115-02-106        0       3                     3           3          3  \n",
       "115-19-004        0       3                     3           3          3  \n",
       "115-19-008        0       3                     3           3          3  \n",
       "115-28-134        0       6                     6           6          6  \n",
       "115-30-013        0      12                    12          12         12  \n",
       "115-31-056        0       0                     0           0          0  \n",
       "115-33-001        0       2                     2           2          2  \n",
       "116-04-006        0       3                     3           3          3  \n",
       "116-05-001        0       0                     0           0          0  \n",
       "116-07-002        0       0                     0           0          0  \n",
       "116-13-001        0       3                     3           3          3  \n",
       "116-19-015        0       0                     0           0          0  \n",
       "116-28-005        0       3                     3           3          3  \n",
       "116-31-013        0       0                     0           0          0  "
      ]
     },
     "execution_count": 146,
     "metadata": {},
     "output_type": "execute_result"
    }
   ],
   "source": [
    "vs[vs.v_type_of_violation=='Elevator'].groupby('parcel').count()"
   ]
  },
  {
   "cell_type": "code",
   "execution_count": 147,
   "metadata": {
    "collapsed": false
   },
   "outputs": [
    {
     "data": {
      "text/plain": [
       "Index([u'30 Day Condemnation MS', u'Condemnation - Garage',\n",
       "       u'Condemnation - Main Structure', u'Elevator', u'Exterior Maintenance',\n",
       "       u'Interior/Exterior Maintenance', u'Survey'],\n",
       "      dtype='object', name=u'v_type_of_violation')"
      ]
     },
     "execution_count": 147,
     "metadata": {},
     "output_type": "execute_result"
    }
   ],
   "source": [
    "vs_types"
   ]
  },
  {
   "cell_type": "code",
   "execution_count": 178,
   "metadata": {
    "collapsed": false
   },
   "outputs": [
    {
     "name": "stdout",
     "output_type": "stream",
     "text": [
      "1252\n"
     ]
    }
   ],
   "source": [
    "count = 0\n",
    "for i in set(vs.parcel):\n",
    "    if i in ppns:\n",
    "        count += 1\n",
    "print count"
   ]
  },
  {
   "cell_type": "code",
   "execution_count": 179,
   "metadata": {
    "collapsed": false
   },
   "outputs": [
    {
     "data": {
      "text/plain": [
       "1768"
      ]
     },
     "execution_count": 179,
     "metadata": {},
     "output_type": "execute_result"
    }
   ],
   "source": [
    "len(set(vs.parcel))"
   ]
  },
  {
   "cell_type": "code",
   "execution_count": 152,
   "metadata": {
    "collapsed": true
   },
   "outputs": [],
   "source": [
    "for vio in vs_types:\n",
    "    tci2 = pd.merge(tci, vs.loc[vs.v_type_of_violation==vio, ['v_type_of_violation','parcel']].groupby('parcel').count(), left_on='ppn', right_index=True, how='left')\n",
    "    tci2 = tci2.rename(columns={'v_type_of_violation': 'vio_'+vio.lower()+'_count'})\n",
    "    tci2['vio_'+vio.lower()+'_count'] = tci2['vio_'+vio.lower()+'_count'].fillna(0)"
   ]
  },
  {
   "cell_type": "code",
   "execution_count": 167,
   "metadata": {
    "collapsed": true
   },
   "outputs": [],
   "source": [
    "v = vs.loc[vs.v_type_of_violation=='Elevator', ['v_type_of_violation','parcel']].groupby('parcel').count().reset_index()"
   ]
  },
  {
   "cell_type": "code",
   "execution_count": 168,
   "metadata": {
    "collapsed": false
   },
   "outputs": [],
   "source": [
    "t = pd.merge(tci, v, left_on='ppn', right_on='parcel', how='left')"
   ]
  },
  {
   "cell_type": "code",
   "execution_count": 174,
   "metadata": {
    "collapsed": false
   },
   "outputs": [
    {
     "data": {
      "text/html": [
       "<div>\n",
       "<table border=\"1\" class=\"dataframe\">\n",
       "  <thead>\n",
       "    <tr style=\"text-align: right;\">\n",
       "      <th></th>\n",
       "      <th>ppn</th>\n",
       "      <th>vacant</th>\n",
       "      <th>Date</th>\n",
       "      <th>Survey Category</th>\n",
       "      <th>Survey Grade</th>\n",
       "      <th>zip</th>\n",
       "      <th>propsize</th>\n",
       "      <th>pclass</th>\n",
       "      <th>totusabl</th>\n",
       "      <th>tmktval</th>\n",
       "      <th>...</th>\n",
       "      <th>violations_number</th>\n",
       "      <th>vio_30 day condemnation ms_count</th>\n",
       "      <th>vio_condemnation - garage_count</th>\n",
       "      <th>vio_condemnation - main structure_count</th>\n",
       "      <th>vio_elevator_count</th>\n",
       "      <th>vio_exterior maintenance_count</th>\n",
       "      <th>vio_interior/exterior maintenance_count</th>\n",
       "      <th>vio_survey_count</th>\n",
       "      <th>parcel</th>\n",
       "      <th>v_type_of_violation</th>\n",
       "    </tr>\n",
       "  </thead>\n",
       "  <tbody>\n",
       "  </tbody>\n",
       "</table>\n",
       "<p>0 rows × 54 columns</p>\n",
       "</div>"
      ],
      "text/plain": [
       "Empty DataFrame\n",
       "Columns: [ppn, vacant, Date, Survey Category, Survey Grade, zip, propsize, pclass, totusabl, tmktval, condition, parcel_x, condition_value, parcel_y, style_filtered, parcel_x.1, ownerocc_value, parcel_y.1, totbldgs, parcel_x.2, yrbuilt_filtered, parcel_y.2, rextwall, num_of_sales, quit_claim_deed, warranty_deed, limited_warranty, survivorship_deed, fiduciary_deed, num_of_props, PROPERTY_NUMBER, SALE_VALID, DEED_TYPE, county_land_bank, vindall_Y, vindall_P, closure count, demolition approval count, application acceptance count, condemnation count, prosecution count, search warrant count, inspection count, non-condemnation count, violations_number, vio_30 day condemnation ms_count, vio_condemnation - garage_count, vio_condemnation - main structure_count, vio_elevator_count, vio_exterior maintenance_count, vio_interior/exterior maintenance_count, vio_survey_count, parcel, v_type_of_violation]\n",
       "Index: []\n",
       "\n",
       "[0 rows x 54 columns]"
      ]
     },
     "execution_count": 174,
     "metadata": {},
     "output_type": "execute_result"
    }
   ],
   "source": [
    "t[t.ppn=='115-01-001']"
   ]
  },
  {
   "cell_type": "code",
   "execution_count": 172,
   "metadata": {
    "collapsed": false
   },
   "outputs": [
    {
     "data": {
      "text/html": [
       "<div>\n",
       "<table border=\"1\" class=\"dataframe\">\n",
       "  <thead>\n",
       "    <tr style=\"text-align: right;\">\n",
       "      <th></th>\n",
       "      <th>parcel</th>\n",
       "      <th>v_type_of_violation</th>\n",
       "    </tr>\n",
       "  </thead>\n",
       "  <tbody>\n",
       "    <tr>\n",
       "      <th>0</th>\n",
       "      <td>114-29-001</td>\n",
       "      <td>23</td>\n",
       "    </tr>\n",
       "    <tr>\n",
       "      <th>1</th>\n",
       "      <td>115-01-001</td>\n",
       "      <td>27</td>\n",
       "    </tr>\n",
       "    <tr>\n",
       "      <th>2</th>\n",
       "      <td>115-02-104</td>\n",
       "      <td>3</td>\n",
       "    </tr>\n",
       "    <tr>\n",
       "      <th>3</th>\n",
       "      <td>115-02-106</td>\n",
       "      <td>3</td>\n",
       "    </tr>\n",
       "    <tr>\n",
       "      <th>4</th>\n",
       "      <td>115-19-004</td>\n",
       "      <td>3</td>\n",
       "    </tr>\n",
       "    <tr>\n",
       "      <th>5</th>\n",
       "      <td>115-19-008</td>\n",
       "      <td>64</td>\n",
       "    </tr>\n",
       "    <tr>\n",
       "      <th>6</th>\n",
       "      <td>115-28-134</td>\n",
       "      <td>22</td>\n",
       "    </tr>\n",
       "    <tr>\n",
       "      <th>7</th>\n",
       "      <td>115-30-013</td>\n",
       "      <td>51</td>\n",
       "    </tr>\n",
       "    <tr>\n",
       "      <th>8</th>\n",
       "      <td>115-31-056</td>\n",
       "      <td>10</td>\n",
       "    </tr>\n",
       "    <tr>\n",
       "      <th>9</th>\n",
       "      <td>115-33-001</td>\n",
       "      <td>12</td>\n",
       "    </tr>\n",
       "    <tr>\n",
       "      <th>10</th>\n",
       "      <td>116-04-006</td>\n",
       "      <td>9</td>\n",
       "    </tr>\n",
       "    <tr>\n",
       "      <th>11</th>\n",
       "      <td>116-05-001</td>\n",
       "      <td>7</td>\n",
       "    </tr>\n",
       "    <tr>\n",
       "      <th>12</th>\n",
       "      <td>116-07-002</td>\n",
       "      <td>6</td>\n",
       "    </tr>\n",
       "    <tr>\n",
       "      <th>13</th>\n",
       "      <td>116-13-001</td>\n",
       "      <td>30</td>\n",
       "    </tr>\n",
       "    <tr>\n",
       "      <th>14</th>\n",
       "      <td>116-19-015</td>\n",
       "      <td>3</td>\n",
       "    </tr>\n",
       "    <tr>\n",
       "      <th>15</th>\n",
       "      <td>116-28-005</td>\n",
       "      <td>7</td>\n",
       "    </tr>\n",
       "    <tr>\n",
       "      <th>16</th>\n",
       "      <td>116-31-013</td>\n",
       "      <td>2</td>\n",
       "    </tr>\n",
       "  </tbody>\n",
       "</table>\n",
       "</div>"
      ],
      "text/plain": [
       "        parcel  v_type_of_violation\n",
       "0   114-29-001                   23\n",
       "1   115-01-001                   27\n",
       "2   115-02-104                    3\n",
       "3   115-02-106                    3\n",
       "4   115-19-004                    3\n",
       "5   115-19-008                   64\n",
       "6   115-28-134                   22\n",
       "7   115-30-013                   51\n",
       "8   115-31-056                   10\n",
       "9   115-33-001                   12\n",
       "10  116-04-006                    9\n",
       "11  116-05-001                    7\n",
       "12  116-07-002                    6\n",
       "13  116-13-001                   30\n",
       "14  116-19-015                    3\n",
       "15  116-28-005                    7\n",
       "16  116-31-013                    2"
      ]
     },
     "execution_count": 172,
     "metadata": {},
     "output_type": "execute_result"
    }
   ],
   "source": [
    "v"
   ]
  },
  {
   "cell_type": "code",
   "execution_count": 164,
   "metadata": {
    "collapsed": false
   },
   "outputs": [
    {
     "data": {
      "text/html": [
       "<div>\n",
       "<table border=\"1\" class=\"dataframe\">\n",
       "  <thead>\n",
       "    <tr style=\"text-align: right;\">\n",
       "      <th></th>\n",
       "      <th>ppn</th>\n",
       "      <th>vacant</th>\n",
       "      <th>Date</th>\n",
       "      <th>Survey Category</th>\n",
       "      <th>Survey Grade</th>\n",
       "      <th>zip</th>\n",
       "      <th>propsize</th>\n",
       "      <th>pclass</th>\n",
       "      <th>totusabl</th>\n",
       "      <th>tmktval</th>\n",
       "      <th>...</th>\n",
       "      <th>violations_number</th>\n",
       "      <th>vio_30 day condemnation ms_count</th>\n",
       "      <th>vio_condemnation - garage_count</th>\n",
       "      <th>vio_condemnation - main structure_count</th>\n",
       "      <th>vio_elevator_count</th>\n",
       "      <th>vio_exterior maintenance_count</th>\n",
       "      <th>vio_interior/exterior maintenance_count</th>\n",
       "      <th>vio_survey_count</th>\n",
       "      <th>parcel</th>\n",
       "      <th>v_type_of_violation</th>\n",
       "    </tr>\n",
       "  </thead>\n",
       "  <tbody>\n",
       "  </tbody>\n",
       "</table>\n",
       "<p>0 rows × 54 columns</p>\n",
       "</div>"
      ],
      "text/plain": [
       "Empty DataFrame\n",
       "Columns: [ppn, vacant, Date, Survey Category, Survey Grade, zip, propsize, pclass, totusabl, tmktval, condition, parcel_x, condition_value, parcel_y, style_filtered, parcel_x.1, ownerocc_value, parcel_y.1, totbldgs, parcel_x.2, yrbuilt_filtered, parcel_y.2, rextwall, num_of_sales, quit_claim_deed, warranty_deed, limited_warranty, survivorship_deed, fiduciary_deed, num_of_props, PROPERTY_NUMBER, SALE_VALID, DEED_TYPE, county_land_bank, vindall_Y, vindall_P, closure count, demolition approval count, application acceptance count, condemnation count, prosecution count, search warrant count, inspection count, non-condemnation count, violations_number, vio_30 day condemnation ms_count, vio_condemnation - garage_count, vio_condemnation - main structure_count, vio_elevator_count, vio_exterior maintenance_count, vio_interior/exterior maintenance_count, vio_survey_count, parcel, v_type_of_violation]\n",
       "Index: []\n",
       "\n",
       "[0 rows x 54 columns]"
      ]
     },
     "execution_count": 164,
     "metadata": {},
     "output_type": "execute_result"
    }
   ],
   "source": [
    "t[t.v_type_of_violation.notnull()]"
   ]
  },
  {
   "cell_type": "code",
   "execution_count": 161,
   "metadata": {
    "collapsed": false
   },
   "outputs": [
    {
     "data": {
      "text/html": [
       "<div>\n",
       "<table border=\"1\" class=\"dataframe\">\n",
       "  <thead>\n",
       "    <tr style=\"text-align: right;\">\n",
       "      <th></th>\n",
       "      <th>parcel</th>\n",
       "      <th>v_type_of_violation</th>\n",
       "    </tr>\n",
       "  </thead>\n",
       "  <tbody>\n",
       "    <tr>\n",
       "      <th>0</th>\n",
       "      <td>114-29-001</td>\n",
       "      <td>23</td>\n",
       "    </tr>\n",
       "    <tr>\n",
       "      <th>1</th>\n",
       "      <td>115-01-001</td>\n",
       "      <td>27</td>\n",
       "    </tr>\n",
       "    <tr>\n",
       "      <th>2</th>\n",
       "      <td>115-02-104</td>\n",
       "      <td>3</td>\n",
       "    </tr>\n",
       "    <tr>\n",
       "      <th>3</th>\n",
       "      <td>115-02-106</td>\n",
       "      <td>3</td>\n",
       "    </tr>\n",
       "    <tr>\n",
       "      <th>4</th>\n",
       "      <td>115-19-004</td>\n",
       "      <td>3</td>\n",
       "    </tr>\n",
       "    <tr>\n",
       "      <th>5</th>\n",
       "      <td>115-19-008</td>\n",
       "      <td>64</td>\n",
       "    </tr>\n",
       "    <tr>\n",
       "      <th>6</th>\n",
       "      <td>115-28-134</td>\n",
       "      <td>22</td>\n",
       "    </tr>\n",
       "    <tr>\n",
       "      <th>7</th>\n",
       "      <td>115-30-013</td>\n",
       "      <td>51</td>\n",
       "    </tr>\n",
       "    <tr>\n",
       "      <th>8</th>\n",
       "      <td>115-31-056</td>\n",
       "      <td>10</td>\n",
       "    </tr>\n",
       "    <tr>\n",
       "      <th>9</th>\n",
       "      <td>115-33-001</td>\n",
       "      <td>12</td>\n",
       "    </tr>\n",
       "    <tr>\n",
       "      <th>10</th>\n",
       "      <td>116-04-006</td>\n",
       "      <td>9</td>\n",
       "    </tr>\n",
       "    <tr>\n",
       "      <th>11</th>\n",
       "      <td>116-05-001</td>\n",
       "      <td>7</td>\n",
       "    </tr>\n",
       "    <tr>\n",
       "      <th>12</th>\n",
       "      <td>116-07-002</td>\n",
       "      <td>6</td>\n",
       "    </tr>\n",
       "    <tr>\n",
       "      <th>13</th>\n",
       "      <td>116-13-001</td>\n",
       "      <td>30</td>\n",
       "    </tr>\n",
       "    <tr>\n",
       "      <th>14</th>\n",
       "      <td>116-19-015</td>\n",
       "      <td>3</td>\n",
       "    </tr>\n",
       "    <tr>\n",
       "      <th>15</th>\n",
       "      <td>116-28-005</td>\n",
       "      <td>7</td>\n",
       "    </tr>\n",
       "    <tr>\n",
       "      <th>16</th>\n",
       "      <td>116-31-013</td>\n",
       "      <td>2</td>\n",
       "    </tr>\n",
       "  </tbody>\n",
       "</table>\n",
       "</div>"
      ],
      "text/plain": [
       "        parcel  v_type_of_violation\n",
       "0   114-29-001                   23\n",
       "1   115-01-001                   27\n",
       "2   115-02-104                    3\n",
       "3   115-02-106                    3\n",
       "4   115-19-004                    3\n",
       "5   115-19-008                   64\n",
       "6   115-28-134                   22\n",
       "7   115-30-013                   51\n",
       "8   115-31-056                   10\n",
       "9   115-33-001                   12\n",
       "10  116-04-006                    9\n",
       "11  116-05-001                    7\n",
       "12  116-07-002                    6\n",
       "13  116-13-001                   30\n",
       "14  116-19-015                    3\n",
       "15  116-28-005                    7\n",
       "16  116-31-013                    2"
      ]
     },
     "execution_count": 161,
     "metadata": {},
     "output_type": "execute_result"
    }
   ],
   "source": [
    "vs.loc[vs.v_type_of_violation=='Elevator', ['v_type_of_violation','parcel']].groupby('parcel').count().reset_index()"
   ]
  },
  {
   "cell_type": "code",
   "execution_count": 159,
   "metadata": {
    "collapsed": false
   },
   "outputs": [
    {
     "data": {
      "text/html": [
       "<div>\n",
       "<table border=\"1\" class=\"dataframe\">\n",
       "  <thead>\n",
       "    <tr style=\"text-align: right;\">\n",
       "      <th></th>\n",
       "      <th>ppn</th>\n",
       "      <th>vacant</th>\n",
       "      <th>Date</th>\n",
       "      <th>Survey Category</th>\n",
       "      <th>Survey Grade</th>\n",
       "      <th>zip</th>\n",
       "      <th>propsize</th>\n",
       "      <th>pclass</th>\n",
       "      <th>totusabl</th>\n",
       "      <th>tmktval</th>\n",
       "      <th>...</th>\n",
       "      <th>non-condemnation count</th>\n",
       "      <th>violations_number</th>\n",
       "      <th>vio_30 day condemnation ms_count</th>\n",
       "      <th>vio_condemnation - garage_count</th>\n",
       "      <th>vio_condemnation - main structure_count</th>\n",
       "      <th>vio_elevator_count</th>\n",
       "      <th>vio_exterior maintenance_count</th>\n",
       "      <th>vio_interior/exterior maintenance_count</th>\n",
       "      <th>vio_survey_count</th>\n",
       "      <th>v_type_of_violation</th>\n",
       "    </tr>\n",
       "  </thead>\n",
       "  <tbody>\n",
       "  </tbody>\n",
       "</table>\n",
       "<p>0 rows × 53 columns</p>\n",
       "</div>"
      ],
      "text/plain": [
       "Empty DataFrame\n",
       "Columns: [ppn, vacant, Date, Survey Category, Survey Grade, zip, propsize, pclass, totusabl, tmktval, condition, parcel_x, condition_value, parcel_y, style_filtered, parcel_x.1, ownerocc_value, parcel_y.1, totbldgs, parcel_x.2, yrbuilt_filtered, parcel_y.2, rextwall, num_of_sales, quit_claim_deed, warranty_deed, limited_warranty, survivorship_deed, fiduciary_deed, num_of_props, PROPERTY_NUMBER, SALE_VALID, DEED_TYPE, county_land_bank, vindall_Y, vindall_P, closure count, demolition approval count, application acceptance count, condemnation count, prosecution count, search warrant count, inspection count, non-condemnation count, violations_number, vio_30 day condemnation ms_count, vio_condemnation - garage_count, vio_condemnation - main structure_count, vio_elevator_count, vio_exterior maintenance_count, vio_interior/exterior maintenance_count, vio_survey_count, v_type_of_violation]\n",
       "Index: []\n",
       "\n",
       "[0 rows x 53 columns]"
      ]
     },
     "execution_count": 159,
     "metadata": {},
     "output_type": "execute_result"
    }
   ],
   "source": [
    "t[t.v_type_of_violation.notnull()]"
   ]
  },
  {
   "cell_type": "code",
   "execution_count": 108,
   "metadata": {
    "collapsed": true
   },
   "outputs": [],
   "source": [
    "def check_vio(x):\n",
    "    if x in parcel_set:\n",
    "        return 1\n",
    "    else:\n",
    "        return 0"
   ]
  },
  {
   "cell_type": "code",
   "execution_count": 111,
   "metadata": {
    "collapsed": false
   },
   "outputs": [
    {
     "name": "stdout",
     "output_type": "stream",
     "text": [
      " violation_30 day condemnation ms 21 91\n",
      "violation_condemnation - garage 77 205\n",
      "violation_condemnation - main structure 223 531\n",
      "violation_elevator 0 0\n",
      "violation_exterior maintenance 132 737\n",
      "violation_interior/exterior maintenance 31 90\n",
      "violation_survey 123 315\n"
     ]
    }
   ],
   "source": [
    "for vio in vs_types:\n",
    "    parcel_set = set(vs.loc[vs.v_type_of_violation==vio,'parcel'])\n",
    "    tci['violation_'+vio.lower()] = tci['ppn'].apply(check_vio)\n",
    "    a = tci.loc[tci['violation_'+vio.lower()]==1, 'vacant']\n",
    "    print 'violation_'+vio.lower(),  sum(a),len(a)"
   ]
  },
  {
   "cell_type": "markdown",
   "metadata": {},
   "source": [
    "## Complaints"
   ]
  },
  {
   "cell_type": "code",
   "execution_count": 19,
   "metadata": {
    "collapsed": true
   },
   "outputs": [],
   "source": [
    "cp = pd.read_csv('clean_data/complaints_tci.csv', parse_dates = [2])"
   ]
  },
  {
   "cell_type": "code",
   "execution_count": 20,
   "metadata": {
    "collapsed": false
   },
   "outputs": [
    {
     "name": "stdout",
     "output_type": "stream",
     "text": [
      "<class 'pandas.core.frame.DataFrame'>\n",
      "Int64Index: 35114 entries, 0 to 35113\n",
      "Data columns (total 20 columns):\n",
      "Unnamed: 0             35114 non-null int64\n",
      "complaint_id           35114 non-null object\n",
      "c_file_date            35114 non-null datetime64[ns]\n",
      "c_wf_task              35114 non-null object\n",
      "c_wf_task_status       34177 non-null object\n",
      "c_wf_task_date         35114 non-null object\n",
      "c_type_of_complaint    34488 non-null object\n",
      "cdc_ri                 0 non-null float64\n",
      "cdc_corrected          0 non-null float64\n",
      "cdc_referred           34 non-null float64\n",
      "othercomp              28782 non-null float64\n",
      "parcel                 35114 non-null object\n",
      "parcel1                2268 non-null float64\n",
      "cdc_comp               0 non-null float64\n",
      "cdccia_comp            0 non-null float64\n",
      "council_comp           0 non-null float64\n",
      "mac_comp               0 non-null float64\n",
      "public_comp            0 non-null float64\n",
      "other_comp             0 non-null float64\n",
      "comp_source            34177 non-null object\n",
      "dtypes: datetime64[ns](1), float64(11), int64(1), object(7)\n",
      "memory usage: 5.6+ MB\n"
     ]
    }
   ],
   "source": [
    "cp.info()"
   ]
  },
  {
   "cell_type": "code",
   "execution_count": 21,
   "metadata": {
    "collapsed": false
   },
   "outputs": [
    {
     "data": {
      "text/html": [
       "<div style=\"max-height:1000px;max-width:1500px;overflow:auto;\">\n",
       "<table border=\"1\" class=\"dataframe\">\n",
       "  <thead>\n",
       "    <tr style=\"text-align: right;\">\n",
       "      <th></th>\n",
       "      <th>Unnamed: 0</th>\n",
       "      <th>complaint_id</th>\n",
       "      <th>c_file_date</th>\n",
       "      <th>c_wf_task</th>\n",
       "      <th>c_wf_task_status</th>\n",
       "      <th>c_wf_task_date</th>\n",
       "      <th>c_type_of_complaint</th>\n",
       "      <th>cdc_ri</th>\n",
       "      <th>cdc_corrected</th>\n",
       "      <th>cdc_referred</th>\n",
       "      <th>othercomp</th>\n",
       "      <th>parcel</th>\n",
       "      <th>parcel1</th>\n",
       "      <th>cdc_comp</th>\n",
       "      <th>cdccia_comp</th>\n",
       "      <th>council_comp</th>\n",
       "      <th>mac_comp</th>\n",
       "      <th>public_comp</th>\n",
       "      <th>other_comp</th>\n",
       "      <th>comp_source</th>\n",
       "    </tr>\n",
       "  </thead>\n",
       "  <tbody>\n",
       "    <tr>\n",
       "      <th>0</th>\n",
       "      <td> 30411</td>\n",
       "      <td> CMP06037851</td>\n",
       "      <td>2006-03-06</td>\n",
       "      <td> Complaint Acceptance</td>\n",
       "      <td> Complaint Application Accepted</td>\n",
       "      <td> 03/29/2007</td>\n",
       "      <td> NaN</td>\n",
       "      <td>NaN</td>\n",
       "      <td>NaN</td>\n",
       "      <td>NaN</td>\n",
       "      <td> 1</td>\n",
       "      <td> 137-01-026</td>\n",
       "      <td>NaN</td>\n",
       "      <td>NaN</td>\n",
       "      <td>NaN</td>\n",
       "      <td>NaN</td>\n",
       "      <td>NaN</td>\n",
       "      <td>NaN</td>\n",
       "      <td>NaN</td>\n",
       "      <td> Public</td>\n",
       "    </tr>\n",
       "    <tr>\n",
       "      <th>1</th>\n",
       "      <td> 30412</td>\n",
       "      <td> CMP06037851</td>\n",
       "      <td>2006-03-06</td>\n",
       "      <td>           Inspection</td>\n",
       "      <td>            Inspection Approved</td>\n",
       "      <td> 03/29/2007</td>\n",
       "      <td> NaN</td>\n",
       "      <td>NaN</td>\n",
       "      <td>NaN</td>\n",
       "      <td>NaN</td>\n",
       "      <td> 1</td>\n",
       "      <td> 137-01-026</td>\n",
       "      <td>NaN</td>\n",
       "      <td>NaN</td>\n",
       "      <td>NaN</td>\n",
       "      <td>NaN</td>\n",
       "      <td>NaN</td>\n",
       "      <td>NaN</td>\n",
       "      <td>NaN</td>\n",
       "      <td> Public</td>\n",
       "    </tr>\n",
       "  </tbody>\n",
       "</table>\n",
       "</div>"
      ],
      "text/plain": [
       "   Unnamed: 0 complaint_id c_file_date             c_wf_task  \\\n",
       "0       30411  CMP06037851  2006-03-06  Complaint Acceptance   \n",
       "1       30412  CMP06037851  2006-03-06            Inspection   \n",
       "\n",
       "                 c_wf_task_status c_wf_task_date c_type_of_complaint  cdc_ri  \\\n",
       "0  Complaint Application Accepted     03/29/2007                 NaN     NaN   \n",
       "1             Inspection Approved     03/29/2007                 NaN     NaN   \n",
       "\n",
       "   cdc_corrected  cdc_referred  othercomp      parcel  parcel1  cdc_comp  \\\n",
       "0            NaN           NaN          1  137-01-026      NaN       NaN   \n",
       "1            NaN           NaN          1  137-01-026      NaN       NaN   \n",
       "\n",
       "   cdccia_comp  council_comp  mac_comp  public_comp  other_comp comp_source  \n",
       "0          NaN           NaN       NaN          NaN         NaN      Public  \n",
       "1          NaN           NaN       NaN          NaN         NaN      Public  "
      ]
     },
     "execution_count": 21,
     "metadata": {},
     "output_type": "execute_result"
    }
   ],
   "source": [
    "cp.head(2)"
   ]
  },
  {
   "cell_type": "code",
   "execution_count": 22,
   "metadata": {
    "collapsed": false
   },
   "outputs": [
    {
     "data": {
      "text/plain": [
       "c_type_of_complaint\n",
       "Black Mold                                  45\n",
       "Collapsing Structure                       678\n",
       "Complete interior/exterior                4208\n",
       "Court Ordered Inspection                    12\n",
       "Daycare                                     12\n",
       "Debris/Garbage/Junk                         39\n",
       "Debris/Garbage/Junk (Occupied)             216\n",
       "Debris/Garbage/Junk (Vacant)               113\n",
       "Doors/Gate/Locks                           107\n",
       "Driveway                                    28\n",
       "Dumping                                      2\n",
       "Dumping Private (Vacant)                    48\n",
       "Dumping Public                               4\n",
       "Electrical                                 891\n",
       "Elevator                                    19\n",
       "Fence                                      123\n",
       "Fire Damage                               1952\n",
       "Foundation issues (animals entering)        11\n",
       "Garage/Shed/Outbuildings                   359\n",
       "General Exterior Maintenance              2279\n",
       "Graffiti                                    21\n",
       "Grass/Weeds/Bushes                           9\n",
       "Grass/Weeds/bushes                          11\n",
       "Grass/Weeds/bushes (Occupied)              234\n",
       "Grass/Weeds/bushes (Vacant)                158\n",
       "Gutters/Chimney/Downspouts/Shin              4\n",
       "Gutters/Chimney/Downspouts/Shingles        186\n",
       "HVAC                                       403\n",
       "Illegal Operation                            9\n",
       "Illegal Operation/Illegal Auto Repair      218\n",
       "Infestation                                  3\n",
       "Infestation/Animals/Rodents                 44\n",
       "Interior                                    35\n",
       "Interior Flooding                           59\n",
       "Interior-Mechanical Systems                 25\n",
       "Lead/Peeling Paint                          17\n",
       "No Heat                                    154\n",
       "No Permit                                  494\n",
       "No Water                                   166\n",
       "No heat                                     23\n",
       "No water                                     7\n",
       "O.V.V.                                   18819\n",
       "OTHER (Please describe below)              409\n",
       "Paint/Lead/Peeling                           1\n",
       "Plumbing                                   827\n",
       "Porch                                      171\n",
       "Rental Registration                        117\n",
       "Roof                                       221\n",
       "Siding                                      17\n",
       "Smoke Detectors                             21\n",
       "Tires (Vacant)                               2\n",
       "Trees                                        2\n",
       "Trees (Occupied)                            28\n",
       "Trees (Vacant)                              13\n",
       "Unlicensed Vehicles                        211\n",
       "Unlicensed Vehicles/Tires                   14\n",
       "Windows                                    135\n",
       "Zoning Violations                           54\n",
       "Name: complaint_id, Length: 58, dtype: int64"
      ]
     },
     "execution_count": 22,
     "metadata": {},
     "output_type": "execute_result"
    }
   ],
   "source": [
    "cp.groupby('c_type_of_complaint').count()['complaint_id']"
   ]
  },
  {
   "cell_type": "markdown",
   "metadata": {},
   "source": [
    "### Complaint type"
   ]
  },
  {
   "cell_type": "code",
   "execution_count": 23,
   "metadata": {
    "collapsed": false
   },
   "outputs": [],
   "source": [
    "cp_type = pd.DataFrame(cp.groupby('c_type_of_complaint').count()['complaint_id'])\n",
    "cp_type.columns = ['complaint_type']"
   ]
  },
  {
   "cell_type": "code",
   "execution_count": 25,
   "metadata": {
    "collapsed": false
   },
   "outputs": [
    {
     "data": {
      "text/html": [
       "<div style=\"max-height:1000px;max-width:1500px;overflow:auto;\">\n",
       "<table border=\"1\" class=\"dataframe\">\n",
       "  <thead>\n",
       "    <tr style=\"text-align: right;\">\n",
       "      <th></th>\n",
       "      <th>complaint_type</th>\n",
       "    </tr>\n",
       "    <tr>\n",
       "      <th>c_type_of_complaint</th>\n",
       "      <th></th>\n",
       "    </tr>\n",
       "  </thead>\n",
       "  <tbody>\n",
       "    <tr>\n",
       "      <th>Collapsing Structure</th>\n",
       "      <td>   678</td>\n",
       "    </tr>\n",
       "    <tr>\n",
       "      <th>Complete interior/exterior</th>\n",
       "      <td>  4208</td>\n",
       "    </tr>\n",
       "    <tr>\n",
       "      <th>Electrical</th>\n",
       "      <td>   891</td>\n",
       "    </tr>\n",
       "    <tr>\n",
       "      <th>Fire Damage</th>\n",
       "      <td>  1952</td>\n",
       "    </tr>\n",
       "    <tr>\n",
       "      <th>General Exterior Maintenance</th>\n",
       "      <td>  2279</td>\n",
       "    </tr>\n",
       "    <tr>\n",
       "      <th>O.V.V.</th>\n",
       "      <td> 18819</td>\n",
       "    </tr>\n",
       "    <tr>\n",
       "      <th>Plumbing</th>\n",
       "      <td>   827</td>\n",
       "    </tr>\n",
       "  </tbody>\n",
       "</table>\n",
       "</div>"
      ],
      "text/plain": [
       "                              complaint_type\n",
       "c_type_of_complaint                         \n",
       "Collapsing Structure                     678\n",
       "Complete interior/exterior              4208\n",
       "Electrical                               891\n",
       "Fire Damage                             1952\n",
       "General Exterior Maintenance            2279\n",
       "O.V.V.                                 18819\n",
       "Plumbing                                 827"
      ]
     },
     "execution_count": 25,
     "metadata": {},
     "output_type": "execute_result"
    }
   ],
   "source": [
    "cp_type[cp_type['complaint_type']>500]"
   ]
  },
  {
   "cell_type": "code",
   "execution_count": 27,
   "metadata": {
    "collapsed": false
   },
   "outputs": [
    {
     "name": "stdout",
     "output_type": "stream",
     "text": [
      "complaint_collapsing structure 142 0.267605633803\n",
      "complaint_complete interior/exterior 862 0.359628770302\n",
      "complaint_electrical 182 0.214285714286\n",
      "complaint_fire damage 464 0.185344827586\n",
      "complaint_general exterior maintenance 487 0.221765913758\n",
      "complaint_o.v.v. 2393 0.374843292938\n",
      "complaint_plumbing 173 0.196531791908\n"
     ]
    }
   ],
   "source": [
    "def check_complaint(x):\n",
    "    if x in parcel_set:\n",
    "        return 1\n",
    "    else:\n",
    "        return 0\n",
    "    \n",
    "for complaint in cp_type[cp_type['complaint_type']>500].index:\n",
    "    parcel_set = set(cp.loc[cp.c_type_of_complaint==complaint,'parcel'])\n",
    "    tci['complaint_'+complaint.lower()] = tci['parcel'].apply(check_complaint)\n",
    "    a = tci.loc[tci['complaint_'+complaint.lower()]==1, 'vacant']\n",
    "    print 'complaint_'+complaint.lower(), len(a), sum(a)*1.0/len(a)"
   ]
  },
  {
   "cell_type": "markdown",
   "metadata": {},
   "source": [
    "### Complaint count (all)"
   ]
  },
  {
   "cell_type": "code",
   "execution_count": 28,
   "metadata": {
    "collapsed": false,
    "scrolled": true
   },
   "outputs": [],
   "source": [
    "cp_count = pd.DataFrame(cp.groupby('parcel').count()['complaint_id'])\n",
    "cp_count.columns = ['complaint_count']\n",
    "tci = pd.merge(tci, cp_count, \\\n",
    "               how='left', left_on='parcel', right_index=True)\n",
    "tci.loc[tci.complaint_count.isnull(), 'complaint_count'] = 0"
   ]
  },
  {
   "cell_type": "code",
   "execution_count": 30,
   "metadata": {
    "collapsed": false
   },
   "outputs": [
    {
     "data": {
      "text/plain": [
       "0.44293478260869568"
      ]
     },
     "execution_count": 30,
     "metadata": {},
     "output_type": "execute_result"
    }
   ],
   "source": [
    "sum(tci.loc[tci.complaint_count>10, 'vacant'])*1.0/len(tci.loc[tci.complaint_count>10, 'vacant'])"
   ]
  },
  {
   "cell_type": "markdown",
   "metadata": {},
   "source": [
    "### Complaint count (6 months)"
   ]
  },
  {
   "cell_type": "code",
   "execution_count": 31,
   "metadata": {
    "collapsed": false
   },
   "outputs": [],
   "source": [
    "cp_count = pd.DataFrame(cp[cp.c_file_date>dt.datetime(2013, 9, 1)].groupby('parcel').count()['complaint_id'])\n",
    "cp_count.columns = ['complaint_count_6_mon']\n",
    "tci = pd.merge(tci, cp_count, \\\n",
    "               how='left', left_on='parcel', right_index=True)\n",
    "tci.loc[tci.complaint_count_6_mon.isnull(), 'complaint_count_6_mon'] = 0"
   ]
  },
  {
   "cell_type": "code",
   "execution_count": 32,
   "metadata": {
    "collapsed": false
   },
   "outputs": [
    {
     "data": {
      "text/plain": [
       "0.53640776699029125"
      ]
     },
     "execution_count": 32,
     "metadata": {},
     "output_type": "execute_result"
    }
   ],
   "source": [
    "sum(tci.loc[tci.complaint_count_6_mon>2, 'vacant'])*1.0/len(tci.loc[tci.complaint_count_6_mon>2, 'vacant'])"
   ]
  },
  {
   "cell_type": "markdown",
   "metadata": {},
   "source": [
    "### Complain count (3 months)"
   ]
  },
  {
   "cell_type": "code",
   "execution_count": 33,
   "metadata": {
    "collapsed": false
   },
   "outputs": [],
   "source": [
    "cp_count = pd.DataFrame(cp[cp.c_file_date>dt.datetime(2013, 12, 1)].groupby('parcel').count()['complaint_id'])\n",
    "cp_count.columns = ['complaint_count_3_mon']\n",
    "tci = pd.merge(tci, cp_count, \\\n",
    "               how='left', left_on='parcel', right_index=True)\n",
    "tci.loc[tci.complaint_count_3_mon.isnull(), 'complaint_count_3_mon'] = 0"
   ]
  },
  {
   "cell_type": "code",
   "execution_count": 34,
   "metadata": {
    "collapsed": false
   },
   "outputs": [
    {
     "data": {
      "text/plain": [
       "(0.58585858585858586, 198)"
      ]
     },
     "execution_count": 34,
     "metadata": {},
     "output_type": "execute_result"
    }
   ],
   "source": [
    "sum(tci.loc[tci.complaint_count_3_mon>0, 'vacant'])*1.0/len(tci.loc[tci.complaint_count_3_mon>0, 'vacant']) ,len(tci.loc[tci.complaint_count_3_mon>0, 'vacant'])"
   ]
  },
  {
   "cell_type": "code",
   "execution_count": 98,
   "metadata": {
    "collapsed": true
   },
   "outputs": [],
   "source": [
    "tci.to_csv('model_data/tci_2_2.csv', index=False)"
   ]
  },
  {
   "cell_type": "code",
   "execution_count": 99,
   "metadata": {
    "collapsed": false
   },
   "outputs": [
    {
     "data": {
      "text/plain": [
       "1555"
      ]
     },
     "execution_count": 99,
     "metadata": {},
     "output_type": "execute_result"
    }
   ],
   "source": [
    "sum(tci.vacant)"
   ]
  }
 ],
 "metadata": {
  "kernelspec": {
   "display_name": "Python 2",
   "language": "python",
   "name": "python2"
  },
  "language_info": {
   "codemirror_mode": {
    "name": "ipython",
    "version": 2
   },
   "file_extension": ".py",
   "mimetype": "text/x-python",
   "name": "python",
   "nbconvert_exporter": "python",
   "pygments_lexer": "ipython2",
   "version": "2.7.10"
  }
 },
 "nbformat": 4,
 "nbformat_minor": 0
}
