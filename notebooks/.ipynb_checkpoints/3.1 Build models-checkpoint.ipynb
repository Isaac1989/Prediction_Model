{
 "cells": [
  {
   "cell_type": "markdown",
   "metadata": {},
   "source": [
    "# 3.0 Build predictive model"
   ]
  },
  {
   "cell_type": "code",
   "execution_count": 1,
   "metadata": {
    "collapsed": false
   },
   "outputs": [
    {
     "name": "stdout",
     "output_type": "stream",
     "text": [
      "/Volumes/Dropbox/largetransfer/luc/carter\n"
     ]
    },
    {
     "name": "stderr",
     "output_type": "stream",
     "text": [
      "//anaconda/envs/data_sci/lib/python3.4/site-packages/matplotlib/__init__.py:872: UserWarning: axes.color_cycle is deprecated and replaced with axes.prop_cycle; please use the latter.\n",
      "  warnings.warn(self.msg_depr % (key, alt_key))\n"
     ]
    }
   ],
   "source": [
    "import pandas as pd\n",
    "from sklearn.ensemble import RandomForestClassifier\n",
    "import matplotlib.pyplot as plt\n",
    "import numpy as np\n",
    "import seaborn as sns\n",
    "import math\n",
    "from sklearn.preprocessing import Imputer\n",
    "from sklearn.base import TransformerMixin\n",
    "from sklearn import cross_validation\n",
    "from sklearn.grid_search import GridSearchCV\n",
    "from sklearn.linear_model import LogisticRegression\n",
    "from sklearn import preprocessing\n",
    "from sklearn.cross_validation import cross_val_score\n",
    "import os\n",
    "\n",
    "def sound():\n",
    "    os.system('afplay /System/Library/Sounds/Sosumi.aiff')\n",
    "\n",
    "%matplotlib inline\n",
    "sns.set_context('notebook')\n",
    "\n",
    "path = '/'.join(os.getcwd().split('/')[:-1])\n",
    "print(path)"
   ]
  },
  {
   "cell_type": "code",
   "execution_count": 2,
   "metadata": {
    "collapsed": false
   },
   "outputs": [],
   "source": [
    "df0 = pd.read_csv(path+'/data/model_data/tci_2_0.csv', dtype={'Parcel ID':str}, index_col='parcel')\n",
    "df1 = pd.read_csv(path+'/data/model_data/tci_2_1.csv', dtype={'Parcel ID':str}, index_col='parcel')\n",
    "df2 = pd.read_csv(path+'/data/model_data/tci_2_2.csv', dtype={'Parcel ID':str}, index_col='parcel')\n",
    "df3 = pd.read_csv(path+'/data/model_data/tci_2_3.csv', dtype={'Parcel ID':str}, index_col='parcel')"
   ]
  },
  {
   "cell_type": "code",
   "execution_count": 3,
   "metadata": {
    "collapsed": false
   },
   "outputs": [],
   "source": [
    "df = pd.merge(df0, df1[[col for col in df1.columns if col not in ['Date','vacant']]], how='inner', left_index=True, right_index=True)\n",
    "df = pd.merge(df, df2[[col for col in df2.columns if col not in ['Date','vacant']]], how='inner', left_index=True, right_index=True)\n",
    "df = pd.merge(df, df3[[col for col in df3.columns if col != 'Date']], how='inner', left_index=True, right_index=True)"
   ]
  },
  {
   "cell_type": "code",
   "execution_count": 4,
   "metadata": {
    "collapsed": false
   },
   "outputs": [
    {
     "data": {
      "text/plain": [
       "Index(['vacant', 'Date', 'Survey Category', 'Survey Grade', 'SPA_NAME',\n",
       "       'cqual_num', 'occup', 'rnumstor', 'propsize', 'totusabl', 'tmktval',\n",
       "       'condition13', 'condition14', 'condition_value13', 'condition_value14',\n",
       "       'style_filtered', 'ownerocc_value', 'LATITUDE', 'LONGITUDE', 'totbldgs',\n",
       "       'yrbuilt_filtered', 'rextwall', 'vacant_block', 'NAME10', 'median_rent',\n",
       "       'property_crimes', 'burglaries', 'part_one_crimes', 'part_two_crimes',\n",
       "       'bachelors+', 'poverty_rate', 'median_hh_income', 'white', 'black',\n",
       "       'asian', 'other', 'hispanic', 'young', 'middle', 'old', 'lb_acquired',\n",
       "       'lb_tax_fc', 'TOTAL_NET_DELQ_BALANCE', 'TAX_ASSESSED_LAND',\n",
       "       'TAX_MARKET_LAND', 'LENDER_PROCESS_TYPE', 'GRAND_TOTAL_BALANCE',\n",
       "       'GRAND_TOTAL_PAID', 'delq_total_ratio', 'paid_percent',\n",
       "       'GRAND_TOTAL_BALANCE_14', 'pv_count', 'v_total_1yr', 'v_total_2yr',\n",
       "       'days_since_ovv', 'c_ovv_num', 'days_since_ovv_board_up',\n",
       "       'c_ovv_board_num', 'active_fc', 'fc_1yr', 'fc_2yr', 'fc_days',\n",
       "       'sa_days', 't_days', 't_shf_deed', 't_num', 'al_num', 'al_date',\n",
       "       'al_days'],\n",
       "      dtype='object')"
      ]
     },
     "execution_count": 4,
     "metadata": {},
     "output_type": "execute_result"
    }
   ],
   "source": [
    "df.columns"
   ]
  },
  {
   "cell_type": "code",
   "execution_count": 5,
   "metadata": {
    "collapsed": false
   },
   "outputs": [],
   "source": [
    "df.loc[df.occup.notnull(),'occup'] = df[df.occup.notnull()].occup.apply(lambda x: int(x[0]))"
   ]
  },
  {
   "cell_type": "code",
   "execution_count": 6,
   "metadata": {
    "collapsed": false
   },
   "outputs": [],
   "source": [
    "df.loc[df.occup.isnull(),'occup'] = 1"
   ]
  },
  {
   "cell_type": "code",
   "execution_count": 7,
   "metadata": {
    "collapsed": false
   },
   "outputs": [],
   "source": [
    "tem = df[['SPA_NAME','totusabl']].groupby('SPA_NAME').agg(np.median)\n",
    "tem = dict(tem['totusabl'])\n",
    "df.loc[df.totusabl==0, 'totusabl'] = df[df.totusabl==0].apply(lambda x: tem[x.SPA_NAME], axis=1)"
   ]
  },
  {
   "cell_type": "code",
   "execution_count": 8,
   "metadata": {
    "collapsed": false
   },
   "outputs": [],
   "source": [
    "df['price_per_sqft'] = df['tmktval']/df['totusabl']"
   ]
  },
  {
   "cell_type": "code",
   "execution_count": 9,
   "metadata": {
    "collapsed": true
   },
   "outputs": [],
   "source": [
    "# tem = df[['SPA_NAME','tmktval','condition_value14','GRAND_TOTAL_BALANCE','sqft']].groupby('SPA_NAME').agg([np.median,np.mean])\n",
    "# tem"
   ]
  },
  {
   "cell_type": "code",
   "execution_count": 10,
   "metadata": {
    "collapsed": false
   },
   "outputs": [],
   "source": [
    "# val = dict(tem['condition_value14']['mean'])\n",
    "# df['cond_diff'] = df.apply(lambda x: x.condition_value14 - val[x.SPA_NAME], axis=1)"
   ]
  },
  {
   "cell_type": "code",
   "execution_count": 11,
   "metadata": {
    "collapsed": false
   },
   "outputs": [],
   "source": [
    "# val = dict(tem['tmktval']['median'])\n",
    "# df['tmktval_diff'] = df.apply(lambda x: x.tmktval - val[x.SPA_NAME], axis=1)"
   ]
  },
  {
   "cell_type": "code",
   "execution_count": 12,
   "metadata": {
    "collapsed": false
   },
   "outputs": [],
   "source": [
    "# val = dict(tem['GRAND_TOTAL_BALANCE']['median'])\n",
    "# df['balance_diff'] = df.apply(lambda x: x.GRAND_TOTAL_BALANCE - val[x.SPA_NAME], axis=1)"
   ]
  },
  {
   "cell_type": "code",
   "execution_count": 13,
   "metadata": {
    "collapsed": false
   },
   "outputs": [],
   "source": [
    "# k = 0.00005\n",
    "# b = np.linspace(0,20000,20)\n",
    "# sns.distplot(df.loc[df.vacant==1,'GRAND_TOTAL_BALANCE'], bins=b,kde_kws={'bw':k})\n",
    "# sns.distplot(df.loc[df.vacant==0,'GRAND_TOTAL_BALANCE'], bins=b,kde_kws={'bw':k})\n",
    "# plt.axis([min(b),max(b),0,.0009]);"
   ]
  },
  {
   "cell_type": "code",
   "execution_count": 14,
   "metadata": {
    "collapsed": false
   },
   "outputs": [],
   "source": [
    "# k = 0.00005\n",
    "# b = np.linspace(-500,20000,20)\n",
    "# sns.distplot(df.loc[df.vacant==1,'balance_diff'], bins=b,kde_kws={'bw':k})\n",
    "# sns.distplot(df.loc[df.vacant==0,'balance_diff'], bins=b,kde_kws={'bw':k})\n",
    "# plt.axis([min(b),max(b),0,.0009]);"
   ]
  },
  {
   "cell_type": "code",
   "execution_count": 15,
   "metadata": {
    "collapsed": false
   },
   "outputs": [],
   "source": [
    "# b = np.linspace(0,150000,40)\n",
    "# sns.distplot(df.loc[df.vacant==1,'tmktval'], bins=b)\n",
    "# sns.distplot(df.loc[df.vacant==0,'tmktval'], bins=b)\n",
    "# plt.axis([0,max(b),0,0.000025]);"
   ]
  },
  {
   "cell_type": "code",
   "execution_count": 16,
   "metadata": {
    "collapsed": false
   },
   "outputs": [],
   "source": [
    "# sns.distplot(df.loc[df.vacant==1,'sqft'], bins=np.linspace(0,160,40))\n",
    "# sns.distplot(df.loc[df.vacant==0,'sqft'], bins=np.linspace(0,160,40))\n",
    "# plt.axis([0,150,0,0.035]);"
   ]
  },
  {
   "cell_type": "code",
   "execution_count": 17,
   "metadata": {
    "collapsed": false
   },
   "outputs": [],
   "source": [
    "# k = 0.5\n",
    "# b = np.linspace(0,10,11)\n",
    "# sns.distplot(df.loc[df.vacant==1,'condition_value14'], bins=b,kde_kws={'bw':k})\n",
    "# sns.distplot(df.loc[df.vacant==0,'condition_value14'], bins=b,kde_kws={'bw':k})\n",
    "# plt.axis([0,10,0,.9]);"
   ]
  },
  {
   "cell_type": "code",
   "execution_count": 18,
   "metadata": {
    "collapsed": false
   },
   "outputs": [],
   "source": [
    "# k = 3000\n",
    "# b = np.linspace(-50000,50000,50)\n",
    "# sns.distplot(df.loc[df.vacant==1,'tmktval_diff'], bins=b,kde_kws={'bw':k})\n",
    "# sns.distplot(df.loc[df.vacant==0,'tmktval_diff'], bins=b,kde_kws={'bw':k})\n",
    "# plt.axis([-50000,50000,0,.00005]);"
   ]
  },
  {
   "cell_type": "code",
   "execution_count": 19,
   "metadata": {
    "collapsed": false
   },
   "outputs": [],
   "source": [
    "# k = .3\n",
    "# b = np.linspace(-5,5,20)\n",
    "# sns.distplot(df.loc[df.vacant==1,'cond_diff'], bins=b,kde_kws={'bw':k})\n",
    "# sns.distplot(df.loc[df.vacant==0,'cond_diff'], bins=b,kde_kws={'bw':k})\n",
    "# plt.axis([-5,5,0,.9]);"
   ]
  },
  {
   "cell_type": "code",
   "execution_count": 20,
   "metadata": {
    "collapsed": false
   },
   "outputs": [],
   "source": [
    "# val = dict(tem['tmktval']['median'])\n",
    "# df['mktval_diff'] = df.apply(lambda x: x.tmktval - val[x.SPA_NAME], axis=1)"
   ]
  },
  {
   "cell_type": "code",
   "execution_count": 21,
   "metadata": {
    "collapsed": false
   },
   "outputs": [],
   "source": [
    "# cols_temp = df.columns[:-4]"
   ]
  },
  {
   "cell_type": "code",
   "execution_count": 22,
   "metadata": {
    "collapsed": false
   },
   "outputs": [],
   "source": [
    "# df['missing_values'] = df.apply(lambda x: len(x[x.isnull()]),axis=1)\n",
    "to_remove = ['Parcel ID','parcel','Date','Survey Category','Survey Grade',\\\n",
    "             'condition13', 'condition14', 'al_date','SPA_NAME','NAME10','style_filtered','rextwall','LENDER_PROCESS_TYPE']"
   ]
  },
  {
   "cell_type": "code",
   "execution_count": 23,
   "metadata": {
    "collapsed": false
   },
   "outputs": [],
   "source": [
    "features = list(df.columns.values)\n",
    "for i in to_remove:\n",
    "    if i in features:\n",
    "        features.remove(i)"
   ]
  },
  {
   "cell_type": "code",
   "execution_count": 24,
   "metadata": {
    "collapsed": false,
    "scrolled": true
   },
   "outputs": [
    {
     "name": "stdout",
     "output_type": "stream",
     "text": [
      "0 vacant\n",
      "1 cqual_num\n",
      "2 occup\n",
      "3 rnumstor\n",
      "4 propsize\n",
      "5 totusabl\n",
      "6 tmktval\n",
      "7 condition_value13\n",
      "8 condition_value14\n",
      "9 ownerocc_value\n",
      "10 LATITUDE\n",
      "11 LONGITUDE\n",
      "12 totbldgs\n",
      "13 yrbuilt_filtered\n",
      "14 vacant_block\n",
      "15 median_rent\n",
      "16 property_crimes\n",
      "17 burglaries\n",
      "18 part_one_crimes\n",
      "19 part_two_crimes\n",
      "20 bachelors+\n",
      "21 poverty_rate\n",
      "22 median_hh_income\n",
      "23 white\n",
      "24 black\n",
      "25 asian\n",
      "26 other\n",
      "27 hispanic\n",
      "28 young\n",
      "29 middle\n",
      "30 old\n",
      "31 lb_acquired\n",
      "32 lb_tax_fc\n",
      "33 TOTAL_NET_DELQ_BALANCE\n",
      "34 TAX_ASSESSED_LAND\n",
      "35 TAX_MARKET_LAND\n",
      "36 GRAND_TOTAL_BALANCE\n",
      "37 GRAND_TOTAL_PAID\n",
      "38 delq_total_ratio\n",
      "39 paid_percent\n",
      "40 GRAND_TOTAL_BALANCE_14\n",
      "41 pv_count\n",
      "42 v_total_1yr\n",
      "43 v_total_2yr\n",
      "44 days_since_ovv\n",
      "45 c_ovv_num\n",
      "46 days_since_ovv_board_up\n",
      "47 c_ovv_board_num\n",
      "48 active_fc\n",
      "49 fc_1yr\n",
      "50 fc_2yr\n",
      "51 fc_days\n",
      "52 sa_days\n",
      "53 t_days\n",
      "54 t_shf_deed\n",
      "55 t_num\n",
      "56 al_num\n",
      "57 al_days\n",
      "58 price_per_sqft\n"
     ]
    }
   ],
   "source": [
    "for i,j in enumerate(features):\n",
    "    print(i,j)"
   ]
  },
  {
   "cell_type": "code",
   "execution_count": 25,
   "metadata": {
    "collapsed": false
   },
   "outputs": [],
   "source": [
    "# from sklearn import tree\n",
    "\n",
    "# clf = tree.DecisionTreeClassifier(max_depth=2,min_samples_leaf=5)\n",
    "# # iris = load_iris()\n",
    "# clf = clf.fit(df3[features], df3.vacant)\n",
    "# tree.export_graphviz(clf, out_file=path+'/tree.dot',feature_names=features, impurity=False, label=None,filled=True,class_names=['Not vacant','Vacant']) "
   ]
  },
  {
   "cell_type": "code",
   "execution_count": 26,
   "metadata": {
    "collapsed": false
   },
   "outputs": [
    {
     "name": "stdout",
     "output_type": "stream",
     "text": [
      "Index(['occup'], dtype='object')\n"
     ]
    }
   ],
   "source": [
    "print(df[features].columns[df[features].dtypes == 'object'])"
   ]
  },
  {
   "cell_type": "code",
   "execution_count": 27,
   "metadata": {
    "collapsed": false
   },
   "outputs": [
    {
     "name": "stdout",
     "output_type": "stream",
     "text": [
      "(113132, 59)\n"
     ]
    }
   ],
   "source": [
    "# transform categorical variables (including NaN's)\n",
    "# objs = df[features].columns[df[features].dtypes == 'object']\n",
    "# prefixes = ['style','ext','lender']\n",
    "\n",
    "# objs = ['LENDER_PROCESS_TYPE']\n",
    "# prefixes = ['lender']\n",
    "\n",
    "# df2 = df[objs]\n",
    "# df3 = pd.concat([pd.get_dummies(df2[col], prefix=prefixes[index]) for index, col in enumerate(df2)], axis=1)\n",
    "\n",
    "# for i in objs:\n",
    "#     if i in features:\n",
    "#         features.remove(i)\n",
    "df3 = pd.DataFrame()\n",
    "df3[features] = df[features]\n",
    "df3 = df3.fillna(0)\n",
    "\n",
    "print(df3.shape)"
   ]
  },
  {
   "cell_type": "markdown",
   "metadata": {},
   "source": [
    "## Build the classifiers"
   ]
  },
  {
   "cell_type": "code",
   "execution_count": 16,
   "metadata": {
    "collapsed": true
   },
   "outputs": [],
   "source": [
    "# df3 = df3[df3.columns[:-4]]a"
   ]
  },
  {
   "cell_type": "code",
   "execution_count": 28,
   "metadata": {
    "collapsed": true
   },
   "outputs": [],
   "source": [
    "features = list(df3.columns)\n",
    "features.remove('vacant')\n",
    "\n",
    "from sklearn.cross_validation import train_test_split\n",
    "X_train, X_test, y_train, y_test = train_test_split(df3[features], df3['vacant'], test_size=0.2, random_state=42)"
   ]
  },
  {
   "cell_type": "code",
   "execution_count": 18,
   "metadata": {
    "collapsed": false
   },
   "outputs": [],
   "source": [
    "# # train and test the classifier, look at results in a cross tabulation\n",
    "# # take out some of the data for the test set\n",
    "\n",
    "# df3['is_train'] = np.random.uniform(0, 1, len(df3)) <= .8\n",
    "# train, test = df3[df3['is_train']==True], df3[df3['is_train']==False]\n",
    " \n",
    "# features = list(df3.columns)\n",
    "# features.remove('vacant')\n",
    "\n",
    "# y, _ = pd.factorize(train['vacant'])\n",
    "# test_label = test.vacant"
   ]
  },
  {
   "cell_type": "markdown",
   "metadata": {},
   "source": [
    "### Random Forest Classifier"
   ]
  },
  {
   "cell_type": "code",
   "execution_count": 182,
   "metadata": {
    "collapsed": false,
    "scrolled": true
   },
   "outputs": [],
   "source": [
    "rfc = RandomForestClassifier(n_estimators=50, min_samples_leaf=8, min_samples_split=3, \\\n",
    "                                 class_weight={0:1, 1:8}, \\\n",
    "                                 max_features=20, random_state=0, max_depth=40)\n",
    "rfc = rfc.fit(X_train, y_train)\n",
    "sound()"
   ]
  },
  {
   "cell_type": "code",
   "execution_count": 183,
   "metadata": {
    "collapsed": false
   },
   "outputs": [
    {
     "data": {
      "text/html": [
       "<div>\n",
       "<table border=\"1\" class=\"dataframe\">\n",
       "  <thead>\n",
       "    <tr style=\"text-align: right;\">\n",
       "      <th>From model</th>\n",
       "      <th>0</th>\n",
       "      <th>1</th>\n",
       "      <th>All</th>\n",
       "    </tr>\n",
       "    <tr>\n",
       "      <th>From survey</th>\n",
       "      <th></th>\n",
       "      <th></th>\n",
       "      <th></th>\n",
       "    </tr>\n",
       "  </thead>\n",
       "  <tbody>\n",
       "    <tr>\n",
       "      <th>0</th>\n",
       "      <td>19813</td>\n",
       "      <td>781</td>\n",
       "      <td>20594</td>\n",
       "    </tr>\n",
       "    <tr>\n",
       "      <th>1</th>\n",
       "      <td>767</td>\n",
       "      <td>1266</td>\n",
       "      <td>2033</td>\n",
       "    </tr>\n",
       "    <tr>\n",
       "      <th>All</th>\n",
       "      <td>20580</td>\n",
       "      <td>2047</td>\n",
       "      <td>22627</td>\n",
       "    </tr>\n",
       "  </tbody>\n",
       "</table>\n",
       "</div>"
      ],
      "text/plain": [
       "From model       0     1    All\n",
       "From survey                    \n",
       "0            19813   781  20594\n",
       "1              767  1266   2033\n",
       "All          20580  2047  22627"
      ]
     },
     "execution_count": 183,
     "metadata": {},
     "output_type": "execute_result"
    }
   ],
   "source": [
    "pd.crosstab(y_test, rfc.predict(X_test),rownames=['From survey'],colnames=['From model'],margins=True)"
   ]
  },
  {
   "cell_type": "code",
   "execution_count": 180,
   "metadata": {
    "collapsed": false
   },
   "outputs": [
    {
     "data": {
      "text/html": [
       "<div>\n",
       "<table border=\"1\" class=\"dataframe\">\n",
       "  <thead>\n",
       "    <tr style=\"text-align: right;\">\n",
       "      <th>From model</th>\n",
       "      <th>0</th>\n",
       "      <th>1</th>\n",
       "      <th>All</th>\n",
       "    </tr>\n",
       "    <tr>\n",
       "      <th>From survey</th>\n",
       "      <th></th>\n",
       "      <th></th>\n",
       "      <th></th>\n",
       "    </tr>\n",
       "  </thead>\n",
       "  <tbody>\n",
       "    <tr>\n",
       "      <th>0</th>\n",
       "      <td>19921</td>\n",
       "      <td>673</td>\n",
       "      <td>20594</td>\n",
       "    </tr>\n",
       "    <tr>\n",
       "      <th>1</th>\n",
       "      <td>800</td>\n",
       "      <td>1233</td>\n",
       "      <td>2033</td>\n",
       "    </tr>\n",
       "    <tr>\n",
       "      <th>All</th>\n",
       "      <td>20721</td>\n",
       "      <td>1906</td>\n",
       "      <td>22627</td>\n",
       "    </tr>\n",
       "  </tbody>\n",
       "</table>\n",
       "</div>"
      ],
      "text/plain": [
       "From model       0     1    All\n",
       "From survey                    \n",
       "0            19921   673  20594\n",
       "1              800  1233   2033\n",
       "All          20721  1906  22627"
      ]
     },
     "execution_count": 180,
     "metadata": {},
     "output_type": "execute_result"
    }
   ],
   "source": [
    "# leaf = 6\n",
    "pd.crosstab(y_test, rfc.predict(X_test),rownames=['From survey'],colnames=['From model'],margins=True)"
   ]
  },
  {
   "cell_type": "code",
   "execution_count": 184,
   "metadata": {
    "collapsed": false
   },
   "outputs": [
    {
     "name": "stdout",
     "output_type": "stream",
     "text": [
      "0.77402133039418 0.6205882352941177 0.618466047874939 0.6227250368912937\n"
     ]
    },
    {
     "data": {
      "image/png": "[encoded data removed]",
      "text/plain": [
       "<matplotlib.figure.Figure at 0x120522668>"
      ]
     },
     "metadata": {},
     "output_type": "display_data"
    }
   ],
   "source": [
    "dat = pd.DataFrame([rfc.predict_proba(X_test)[:,1], y_test, rfc.predict(X_test)]).T\n",
    "dat = dat.rename(columns={0:'prob',1:'act',2:'pred'})\n",
    "\n",
    "sns.distplot(dat[(dat.act==1)&(dat.pred==1)].prob);\n",
    "sns.distplot(dat[(dat.act==0)&(dat.pred==1)].prob);\n",
    "sns.distplot(dat[(dat.act==1)&(dat.pred==0)].prob);\n",
    "sns.distplot(dat[(dat.act==0)&(dat.pred==0)].prob);\n",
    "plt.legend(['True vacant','False vacant','False Occupied','True Occupied'])\n",
    "\n",
    "acc_neg = len(dat[(dat.act==0) & (dat.pred==0)])/len(dat[dat.act==0])\n",
    "acc_pos = len(dat[(dat.act==1) & (dat.pred==1)])/len(dat[dat.act==1])\n",
    "G = (acc_neg*acc_pos)**0.5\n",
    "prec = len(dat[(dat.act==1) & (dat.pred==1)])/len(dat[dat.pred==1])\n",
    "F = 2*prec*acc_pos/(prec+acc_pos)\n",
    "print(G, F, prec, acc_pos)"
   ]
  },
  {
   "cell_type": "code",
   "execution_count": 181,
   "metadata": {
    "collapsed": false
   },
   "outputs": [
    {
     "name": "stdout",
     "output_type": "stream",
     "text": [
      "0.7659458413041281 0.6260472201066261 0.6469045120671564 0.6064928676832267\n"
     ]
    },
    {
     "data": {
      "image/png": "[encoded data removed]",
      "text/plain": [
       "<matplotlib.figure.Figure at 0x1209218d0>"
      ]
     },
     "metadata": {},
     "output_type": "display_data"
    }
   ],
   "source": [
    "dat = pd.DataFrame([rfc.predict_proba(X_test)[:,1], y_test, rfc.predict(X_test)]).T\n",
    "dat = dat.rename(columns={0:'prob',1:'act',2:'pred'})\n",
    "\n",
    "sns.distplot(dat[(dat.act==1)&(dat.pred==1)].prob);\n",
    "sns.distplot(dat[(dat.act==0)&(dat.pred==1)].prob);\n",
    "sns.distplot(dat[(dat.act==1)&(dat.pred==0)].prob);\n",
    "sns.distplot(dat[(dat.act==0)&(dat.pred==0)].prob);\n",
    "plt.legend(['True vacant','False vacant','False Occupied','True Occupied'])\n",
    "\n",
    "acc_neg = len(dat[(dat.act==0) & (dat.pred==0)])/len(dat[dat.act==0])\n",
    "acc_pos = len(dat[(dat.act==1) & (dat.pred==1)])/len(dat[dat.act==1])\n",
    "G = (acc_neg*acc_pos)**0.5\n",
    "prec = len(dat[(dat.act==1) & (dat.pred==1)])/len(dat[dat.pred==1])\n",
    "F = 2*prec*acc_pos/(prec+acc_pos)\n",
    "print(G, F, prec, acc_pos)"
   ]
  },
  {
   "cell_type": "code",
   "execution_count": 141,
   "metadata": {
    "collapsed": false
   },
   "outputs": [],
   "source": [
    "# copy = y_test.copy()\n",
    "copy = pd.Series(rfc.predict_proba(X_test)[:,1],index=y_test.index)\n",
    "sum(y_test[copy.sort_values(ascending=False)[:int(len(X_test)*0.25)].index]), len(y_test[copy.sort_values(ascending=False)[:int(len(X_test)*0.25)].index]), sum(y_test)"
   ]
  },
  {
   "cell_type": "code",
   "execution_count": 167,
   "metadata": {
    "collapsed": false,
    "scrolled": false
   },
   "outputs": [
    {
     "data": {
      "text/plain": [
       "(1706, 5656, 2033)"
      ]
     },
     "execution_count": 167,
     "metadata": {},
     "output_type": "execute_result"
    }
   ],
   "source": [
    "sum(y_test[copy.sort_values(ascending=False)[:int(len(X_test)*0.25)].index]), len(y_test[copy.sort_values(ascending=False)[:int(len(X_test)*0.25)].index]), sum(y_test)"
   ]
  },
  {
   "cell_type": "code",
   "execution_count": null,
   "metadata": {
    "collapsed": true
   },
   "outputs": [],
   "source": [
    "len(X_test)*0.10"
   ]
  },
  {
   "cell_type": "code",
   "execution_count": 125,
   "metadata": {
    "collapsed": false
   },
   "outputs": [
    {
     "data": {
      "text/plain": [
       "0.39958795377786283"
      ]
     },
     "execution_count": 125,
     "metadata": {},
     "output_type": "execute_result"
    }
   ],
   "source": [
    "sum(y_test*rfc.predict(X_test))**2/(sum(y_test)*sum(rfc.predict(X_test)))"
   ]
  },
  {
   "cell_type": "code",
   "execution_count": 59,
   "metadata": {
    "collapsed": false
   },
   "outputs": [
    {
     "data": {
      "text/plain": [
       "0.3834922469214296"
      ]
     },
     "execution_count": 59,
     "metadata": {},
     "output_type": "execute_result"
    }
   ],
   "source": [
    "1035/2033*1035/1374"
   ]
  },
  {
   "cell_type": "code",
   "execution_count": 41,
   "metadata": {
    "collapsed": false
   },
   "outputs": [],
   "source": [
    "# pd.crosstab(test.vacant, test.pv,rownames=['From survey'],colnames=['From postal vacancy'],margins=True)"
   ]
  },
  {
   "cell_type": "code",
   "execution_count": 24,
   "metadata": {
    "collapsed": false
   },
   "outputs": [
    {
     "name": "stdout",
     "output_type": "stream",
     "text": [
      "RandomizedSearchCV took 1343.91 seconds for 20 candidates parameter settings.\n"
     ]
    }
   ],
   "source": [
    "from sklearn.grid_search import GridSearchCV,RandomizedSearchCV\n",
    "from time import time\n",
    "from operator import itemgetter\n",
    "from scipy.stats import randint as sp_randint\n",
    "\n",
    "param_dist = {\"max_depth\": sp_randint(10, 50),\n",
    "              \"max_features\": sp_randint(5, 15),\n",
    "              \"min_samples_split\": sp_randint(1, 11),\n",
    "              \"min_samples_leaf\": sp_randint(1, 11),\n",
    "              \"bootstrap\": [True, False],\n",
    "              \"criterion\": [\"gini\", \"entropy\"]}\n",
    "\n",
    "n_iter_search = 20\n",
    "random_search = RandomizedSearchCV(rfc, param_distributions=param_dist,\n",
    "                                   n_iter=n_iter_search)\n",
    "\n",
    "start = time()\n",
    "random_search.fit(train[features], y)\n",
    "print(\"RandomizedSearchCV took %.2f seconds for %d candidates\"\n",
    "      \" parameter settings.\" % ((time() - start), n_iter_search))\n"
   ]
  },
  {
   "cell_type": "code",
   "execution_count": 25,
   "metadata": {
    "collapsed": false
   },
   "outputs": [
    {
     "name": "stdout",
     "output_type": "stream",
     "text": [
      "Model with rank: 1\n",
      "Mean validation score: 0.603 (std: 0.232)\n",
      "Parameters: {'max_depth': 41, 'max_features': 10, 'min_samples_split': 3, 'bootstrap': True, 'min_samples_leaf': 1, 'criterion': 'entropy'}\n",
      "\n",
      "Model with rank: 2\n",
      "Mean validation score: 0.602 (std: 0.232)\n",
      "Parameters: {'max_depth': 37, 'max_features': 10, 'min_samples_split': 1, 'bootstrap': True, 'min_samples_leaf': 1, 'criterion': 'entropy'}\n",
      "\n",
      "Model with rank: 3\n",
      "Mean validation score: 0.599 (std: 0.241)\n",
      "Parameters: {'max_depth': 25, 'max_features': 6, 'min_samples_split': 3, 'bootstrap': True, 'min_samples_leaf': 4, 'criterion': 'gini'}\n",
      "\n"
     ]
    }
   ],
   "source": [
    "# Utility function to report best scores\n",
    "def report(grid_scores, n_top=3):\n",
    "    top_scores = sorted(grid_scores, key=itemgetter(1), reverse=True)[:n_top]\n",
    "    for i, score in enumerate(top_scores):\n",
    "        print(\"Model with rank: {0}\".format(i + 1))\n",
    "        print(\"Mean validation score: {0:.3f} (std: {1:.3f})\".format(\n",
    "              score.mean_validation_score,\n",
    "              np.std(score.cv_validation_scores)))\n",
    "        print(\"Parameters: {0}\".format(score.parameters))\n",
    "        print(\"\")\n",
    "report(random_search.grid_scores_)"
   ]
  },
  {
   "cell_type": "code",
   "execution_count": 20,
   "metadata": {
    "collapsed": false
   },
   "outputs": [
    {
     "data": {
      "text/plain": [
       "0.93675819309123121"
      ]
     },
     "execution_count": 20,
     "metadata": {},
     "output_type": "execute_result"
    }
   ],
   "source": [
    "rfc.score(test[features],test['vacant'])"
   ]
  },
  {
   "cell_type": "code",
   "execution_count": 174,
   "metadata": {
    "collapsed": false
   },
   "outputs": [
    {
     "data": {
      "text/plain": [
       "0.7466666666666666"
      ]
     },
     "execution_count": 174,
     "metadata": {},
     "output_type": "execute_result"
    }
   ],
   "source": [
    "p = 0.7\n",
    "r = 0.8\n",
    "\n",
    "2*p*r/(p+r)"
   ]
  },
  {
   "cell_type": "code",
   "execution_count": 95,
   "metadata": {
    "collapsed": false
   },
   "outputs": [],
   "source": [
    "tem = pd.DataFrame(rfc.predict_proba(test[features]))\n",
    "tem['vacant'] = test['vacant'].values"
   ]
  },
  {
   "cell_type": "code",
   "execution_count": 101,
   "metadata": {
    "collapsed": false
   },
   "outputs": [],
   "source": [
    "tem = tem.sort_values(1, ascending=False)"
   ]
  },
  {
   "cell_type": "code",
   "execution_count": 56,
   "metadata": {
    "collapsed": false
   },
   "outputs": [
    {
     "data": {
      "text/html": [
       "<div>\n",
       "<table border=\"1\" class=\"dataframe\">\n",
       "  <thead>\n",
       "    <tr style=\"text-align: right;\">\n",
       "      <th>From model</th>\n",
       "      <th>0</th>\n",
       "      <th>1</th>\n",
       "      <th>All</th>\n",
       "    </tr>\n",
       "    <tr>\n",
       "      <th>From survey</th>\n",
       "      <th></th>\n",
       "      <th></th>\n",
       "      <th></th>\n",
       "    </tr>\n",
       "  </thead>\n",
       "  <tbody>\n",
       "    <tr>\n",
       "      <th>0</th>\n",
       "      <td>20015</td>\n",
       "      <td>528</td>\n",
       "      <td>20543</td>\n",
       "    </tr>\n",
       "    <tr>\n",
       "      <th>1</th>\n",
       "      <td>868</td>\n",
       "      <td>1214</td>\n",
       "      <td>2082</td>\n",
       "    </tr>\n",
       "    <tr>\n",
       "      <th>All</th>\n",
       "      <td>20883</td>\n",
       "      <td>1742</td>\n",
       "      <td>22625</td>\n",
       "    </tr>\n",
       "  </tbody>\n",
       "</table>\n",
       "</div>"
      ],
      "text/plain": [
       "From model       0     1    All\n",
       "From survey                    \n",
       "0            20015   528  20543\n",
       "1              868  1214   2082\n",
       "All          20883  1742  22625"
      ]
     },
     "execution_count": 56,
     "metadata": {},
     "output_type": "execute_result"
    }
   ],
   "source": [
    "# without diff variables\n",
    "pd.crosstab(test.vacant, rfc.predict(test[features]),rownames=['From survey'],colnames=['From model'],margins=True)"
   ]
  },
  {
   "cell_type": "code",
   "execution_count": 71,
   "metadata": {
    "collapsed": true
   },
   "outputs": [],
   "source": [
    "test.loc[test.pv_count>0,'pv'] = 1\n",
    "test.loc[test.pv_count==0,'pv'] = 0"
   ]
  },
  {
   "cell_type": "code",
   "execution_count": 44,
   "metadata": {
    "collapsed": false
   },
   "outputs": [],
   "source": [
    "test.loc[:,'pred'] = rfc.predict(test[features])"
   ]
  },
  {
   "cell_type": "code",
   "execution_count": 50,
   "metadata": {
    "collapsed": false
   },
   "outputs": [
    {
     "name": "stderr",
     "output_type": "stream",
     "text": [
      "//anaconda/lib/python2.7/site-packages/pandas/core/indexing.py:260: SettingWithCopyWarning: \n",
      "A value is trying to be set on a copy of a slice from a DataFrame.\n",
      "Try using .loc[row_indexer,col_indexer] = value instead\n",
      "\n",
      "See the caveats in the documentation: http://pandas.pydata.org/pandas-docs/stable/indexing.html#indexing-view-versus-copy\n",
      "  self.obj[key] = _infer_fill_value(value)\n"
     ]
    }
   ],
   "source": [
    "def fun(x):\n",
    "    if (x.pred == 1) & (x.vacant == 1):\n",
    "        return 'TP'\n",
    "    elif (x.pred == 1):\n",
    "        return 'FP'\n",
    "    elif (x.vacant == 1):\n",
    "        return 'FN'\n",
    "    else:\n",
    "        return 'TN'\n",
    "test.loc[:,'cat'] = test.apply(fun, axis=1)"
   ]
  },
  {
   "cell_type": "code",
   "execution_count": 52,
   "metadata": {
    "collapsed": false
   },
   "outputs": [],
   "source": [
    "# test[['pred','vacant','cat']].to_csv(path+'/april_to_map.csv')"
   ]
  },
  {
   "cell_type": "code",
   "execution_count": 73,
   "metadata": {
    "collapsed": false
   },
   "outputs": [
    {
     "data": {
      "text/plain": [
       "(1304, 2253)"
      ]
     },
     "execution_count": 73,
     "metadata": {},
     "output_type": "execute_result"
    }
   ],
   "source": [
    "sum(tem[tem.prob>0.4].vacant),len(tem[tem.prob>0.4].vacant)"
   ]
  },
  {
   "cell_type": "code",
   "execution_count": 88,
   "metadata": {
    "collapsed": false
   },
   "outputs": [
    {
     "name": "stderr",
     "output_type": "stream",
     "text": [
      "//anaconda/envs/data_sci/lib/python3.4/site-packages/matplotlib/legend.py:633: UserWarning: Legend does not support 'Vacant' instances.\n",
      "A proxy artist may be used instead.\n",
      "See: http://matplotlib.org/users/legend_guide.html#using-proxy-artist\n",
      "  \"#using-proxy-artist\".format(orig_handle)\n",
      "//anaconda/envs/data_sci/lib/python3.4/site-packages/matplotlib/legend.py:633: UserWarning: Legend does not support 'Not vacant' instances.\n",
      "A proxy artist may be used instead.\n",
      "See: http://matplotlib.org/users/legend_guide.html#using-proxy-artist\n",
      "  \"#using-proxy-artist\".format(orig_handle)\n"
     ]
    },
    {
     "data": {
      "text/plain": [
       "<matplotlib.legend.Legend at 0x1165535f8>"
      ]
     },
     "execution_count": 88,
     "metadata": {},
     "output_type": "execute_result"
    },
    {
     "data": {
      "image/png": "[encoded data removed]",
      "text/plain": [
       "<matplotlib.figure.Figure at 0x117494f60>"
      ]
     },
     "metadata": {},
     "output_type": "display_data"
    }
   ],
   "source": [
    "rfc_prob = rfc.predict_proba(test[features])\n",
    "sns.set_context('talk')\n",
    "tem = test.copy()\n",
    "tem['prob'] = rfc_prob[:,1]\n",
    "tem['pred'] = tem.prob.apply(round)\n",
    "plt.hist(tem[tem.vacant==1].prob.values,alpha=0.5,normed=True, bins=20);\n",
    "plt.hist(tem[tem.vacant==0].prob.values,alpha=0.5,normed=True, bins=20);\n",
    "plt.xlabel('Probability vacant')\n",
    "plt.ylabel('Frequency')\n",
    "plt.legend(['Vacant','Not vacant'],'upper right')\n",
    "# print(sum(tem.sort_values('prob', ascending=False).iloc[0:5000].vacant)*1.0/sum(tem.vacant))\n",
    "# pd.crosstab(tem.sort_values('prob', ascending=False).iloc[0:5000].vacant,tem.sort_values('prob', ascending=False).iloc[0:5000].pred)"
   ]
  },
  {
   "cell_type": "code",
   "execution_count": 55,
   "metadata": {
    "collapsed": false
   },
   "outputs": [
    {
     "name": "stdout",
     "output_type": "stream",
     "text": [
      "col_0       0   1\n",
      "vacant           \n",
      "0       10376  21\n",
      "1         339  66\n"
     ]
    }
   ],
   "source": [
    "y2,_= pd.factorize(train.loc[train.index.isin(df[df.SPA_NAME.isin(west)].index)].vacant)\n",
    "\n",
    "rfc = RandomForestClassifier(n_estimators=50, min_samples_leaf=10, min_samples_split=2, \\\n",
    "                                 class_weight={0:1, 1:1}, \\\n",
    "                                 max_features=10, random_state=0, max_depth=20)\n",
    "rfc = rfc.fit(train.loc[train.index.isin(df[df.SPA_NAME.isin(west)].index),features], y2)\n",
    "sound()\n",
    "print(pd.crosstab(test[test.index.isin(df[df.SPA_NAME.isin(west)].index)].vacant, \\\n",
    "                  rfc.predict(test.loc[test.index.isin(df[df.SPA_NAME.isin(west)].index),features])))"
   ]
  },
  {
   "cell_type": "code",
   "execution_count": 56,
   "metadata": {
    "collapsed": false
   },
   "outputs": [
    {
     "name": "stdout",
     "output_type": "stream",
     "text": [
      "col_0       0    1\n",
      "vacant            \n",
      "0       10084  243\n",
      "1         736  898\n"
     ]
    }
   ],
   "source": [
    "y2,_= pd.factorize(train.loc[~train.index.isin(df[df.SPA_NAME.isin(west)].index)].vacant)\n",
    "\n",
    "rfc = RandomForestClassifier(n_estimators=50, min_samples_leaf=10, min_samples_split=2, \\\n",
    "                                 class_weight={0:1, 1:1}, \\\n",
    "                                 max_features=10, random_state=0, max_depth=20)\n",
    "rfc = rfc.fit(train.loc[~train.index.isin(df[df.SPA_NAME.isin(west)].index),features], y2)\n",
    "sound()\n",
    "print(pd.crosstab(test[~test.index.isin(df[df.SPA_NAME.isin(west)].index)].vacant, \\\n",
    "                  rfc.predict(test.loc[~test.index.isin(df[df.SPA_NAME.isin(west)].index),features])))"
   ]
  },
  {
   "cell_type": "code",
   "execution_count": 43,
   "metadata": {
    "collapsed": true
   },
   "outputs": [],
   "source": [
    "west = ['Bellaire-Puritas','Brooklyn Centre','Clark-Fulton','Cudell','Detroit Shoreway','Edgewater'\\\n",
    "       ,'Jefferson',\"Kamm's\",'Ohio City','Old Brooklyn','Stockyards','Tremont','West Boulevard']"
   ]
  },
  {
   "cell_type": "code",
   "execution_count": 70,
   "metadata": {
    "collapsed": false
   },
   "outputs": [
    {
     "name": "stdout",
     "output_type": "stream",
     "text": [
      "386 124 10812\n",
      "1638 1067 11945\n"
     ]
    }
   ],
   "source": [
    "t = test[test.SPA_NAME.isin(west)]\n",
    "print(sum(t.vacant), sum(t.preds), len(t))\n",
    "\n",
    "t = test[~test.SPA_NAME.isin(west)]\n",
    "print(sum(t.vacant), sum(t.preds), len(t))"
   ]
  },
  {
   "cell_type": "code",
   "execution_count": null,
   "metadata": {
    "collapsed": true
   },
   "outputs": [],
   "source": [
    "cols = ['GRAND_TOTAL_BALANCE','TAX_MARKET_LAND','sa_days','fc_days','c_ovv_2yr','pv_total',\\\n",
    "        'tmktval','propsize','condition_value14','median_rent']"
   ]
  },
  {
   "cell_type": "code",
   "execution_count": 19,
   "metadata": {
    "collapsed": false
   },
   "outputs": [
    {
     "name": "stdout",
     "output_type": "stream",
     "text": [
      "col_0       0     1\n",
      "vacant             \n",
      "0       20110   547\n",
      "1         894  1136\n"
     ]
    }
   ],
   "source": [
    "rfc = RandomForestClassifier(n_estimators=50, min_samples_leaf=9, min_samples_split=2, \\\n",
    "                                 class_weight={0:1, 1:3}, \\\n",
    "                                 max_features=None, random_state=0, max_depth=40)\n",
    "rfc = rfc.fit(train[features], y)\n",
    "sound()\n",
    "print(pd.crosstab(test.vacant, rfc.predict(test[features])))"
   ]
  },
  {
   "cell_type": "markdown",
   "metadata": {},
   "source": [
    "## Importances"
   ]
  },
  {
   "cell_type": "code",
   "execution_count": 89,
   "metadata": {
    "collapsed": false
   },
   "outputs": [
    {
     "name": "stdout",
     "output_type": "stream",
     "text": [
      "Feature ranking:\n",
      "1. feature 43, days_since_ovv (0.130090)\n",
      "2. feature 40, pv_count (0.066267)\n",
      "3. feature 38, paid_percent (0.065604)\n",
      "4. feature 50, fc_days (0.060740)\n",
      "5. feature 44, c_ovv_num (0.058605)\n",
      "6. feature 36, GRAND_TOTAL_PAID (0.057905)\n",
      "7. feature 37, delq_total_ratio (0.038669)\n",
      "8. feature 35, GRAND_TOTAL_BALANCE (0.027069)\n",
      "9. feature 51, sa_days (0.026725)\n",
      "10. feature 57, price_per_sqft (0.025838)\n",
      "11. feature 32, TOTAL_NET_DELQ_BALANCE (0.025736)\n",
      "12. feature 4, totusabl (0.022204)\n",
      "13. feature 5, tmktval (0.021800)\n",
      "14. feature 3, propsize (0.020241)\n",
      "15. feature 10, LONGITUDE (0.020014)\n",
      "16. feature 9, LATITUDE (0.019882)\n",
      "17. feature 56, al_days (0.018703)\n",
      "18. feature 39, GRAND_TOTAL_BALANCE_14 (0.018349)\n",
      "19. feature 7, condition_value14 (0.017870)\n",
      "20. feature 34, TAX_MARKET_LAND (0.016552)\n"
     ]
    },
    {
     "data": {
      "image/png": "[encoded data removed]",
      "text/plain": [
       "<matplotlib.figure.Figure at 0x11f339d68>"
      ]
     },
     "metadata": {},
     "output_type": "display_data"
    }
   ],
   "source": [
    "# plot the top ten features\n",
    "\n",
    "importances = rfc.feature_importances_\n",
    "std = np.std([tree.feature_importances_ for tree in rfc.estimators_],\n",
    "             axis=0)\n",
    "indices = np.argsort(importances)[::-1]\n",
    "\n",
    "# Print the feature ranking\n",
    "print(\"Feature ranking:\")\n",
    "\n",
    "for f in range(20):\n",
    "    print(\"%d. feature %d, %s (%f)\" % (f + 1, indices[f], features[indices[f]], importances[indices[f]]))\n",
    "    \n",
    "# Plot the feature importances of the forest\n",
    "plt.figure()\n",
    "plt.title(\"Feature importances\")\n",
    "plt.bar(range(10), importances[indices[0:10]], yerr=std[indices[0:10]], align=\"center\")\n",
    "plt.xticks(range(10), indices[0:10])\n",
    "plt.xlim([-1, 10])\n",
    "plt.show()"
   ]
  },
  {
   "cell_type": "code",
   "execution_count": 90,
   "metadata": {
    "collapsed": false
   },
   "outputs": [
    {
     "name": "stdout",
     "output_type": "stream",
     "text": [
      "Feature ranking (least important):\n",
      "1. feature 58, is_train (0.000000)\n",
      "2. feature 46, c_ovv_board_num (0.000000)\n",
      "3. feature 31, lb_tax_fc (0.000024)\n",
      "4. feature 30, lb_acquired (0.000042)\n",
      "5. feature 47, active_fc (0.000306)\n",
      "6. feature 48, fc_1yr (0.000465)\n",
      "7. feature 11, totbldgs (0.001173)\n",
      "8. feature 1, occup (0.002201)\n",
      "9. feature 0, cqual_num (0.003934)\n",
      "10. feature 41, v_total_1yr (0.003969)\n",
      "11. feature 2, rnumstor (0.004134)\n",
      "12. feature 24, asian (0.004502)\n",
      "13. feature 8, ownerocc_value (0.005248)\n",
      "14. feature 49, fc_2yr (0.005368)\n",
      "15. feature 55, al_num (0.006142)\n",
      "16. feature 42, v_total_2yr (0.006226)\n",
      "17. feature 26, hispanic (0.006502)\n",
      "18. feature 17, part_one_crimes (0.006676)\n",
      "19. feature 18, part_two_crimes (0.006873)\n",
      "20. feature 22, white (0.006928)\n"
     ]
    },
    {
     "data": {
      "image/png": "[encoded data removed]",
      "text/plain": [
       "<matplotlib.figure.Figure at 0x10c5c5f98>"
      ]
     },
     "metadata": {},
     "output_type": "display_data"
    }
   ],
   "source": [
    "# Print the feature ranking\n",
    "features2 = pd.DataFrame(features).iloc[indices[0:20]][0].values\n",
    "\n",
    "print(\"Feature ranking (least important):\")\n",
    "\n",
    "for f in range(20):\n",
    "    print(\"%d. feature %d, %s (%f)\" % (f + 1, indices[-f-1], features[indices[-f-1]], importances[indices[-f-1]]))\n",
    "# Plot the feature importances of the forest\n",
    "plt.figure()\n",
    "plt.title(\"Feature importances\")\n",
    "plt.bar(range(10), importances[indices[-10:]], yerr=std[indices[-10:]], align=\"center\")\n",
    "plt.xticks(range(10), indices[-10:])\n",
    "plt.xlim([-1, 10])\n",
    "plt.show()"
   ]
  },
  {
   "cell_type": "markdown",
   "metadata": {},
   "source": [
    "### Logistic Regressor"
   ]
  },
  {
   "cell_type": "code",
   "execution_count": 32,
   "metadata": {
    "collapsed": true
   },
   "outputs": [],
   "source": [
    "# features2 = ['c_O.V.V._2yr', 'pv_total','GRAND_TOTAL_BALANCE','condition_value','vacant',\\\n",
    "#              'totusabl', 'tmktval', 'fc_days', 'days_since_transfer', 'propsize', 'yrbuilt_filtered', 'al_days']\n",
    "\n",
    "# # features2 = ['c_O.V.V._2yr', 'pv_total','GRAND_TOTAL_BALANCE','condition_value','vacant']"
   ]
  },
  {
   "cell_type": "code",
   "execution_count": 80,
   "metadata": {
    "collapsed": false
   },
   "outputs": [],
   "source": [
    "train_lr = preprocessing.scale(X_train)\n",
    "test_lr = preprocessing.scale(X_test)"
   ]
  },
  {
   "cell_type": "code",
   "execution_count": 156,
   "metadata": {
    "collapsed": false
   },
   "outputs": [
    {
     "ename": "NameError",
     "evalue": "name 'train_lr' is not defined",
     "output_type": "error",
     "traceback": [
      "\u001b[0;31m---------------------------------------------------------------------------\u001b[0m",
      "\u001b[0;31mNameError\u001b[0m                                 Traceback (most recent call last)",
      "\u001b[0;32m<ipython-input-156-9ecc7e9346af>\u001b[0m in \u001b[0;36m<module>\u001b[0;34m()\u001b[0m\n\u001b[1;32m      1\u001b[0m \u001b[0mlr\u001b[0m \u001b[0;34m=\u001b[0m \u001b[0mLogisticRegression\u001b[0m\u001b[0;34m(\u001b[0m\u001b[0mclass_weight\u001b[0m\u001b[0;34m=\u001b[0m\u001b[0;34m{\u001b[0m\u001b[0;36m0\u001b[0m\u001b[0;34m:\u001b[0m\u001b[0;36m1\u001b[0m\u001b[0;34m,\u001b[0m \u001b[0;36m1\u001b[0m\u001b[0;34m:\u001b[0m\u001b[0;36m2\u001b[0m\u001b[0;34m}\u001b[0m\u001b[0;34m,\u001b[0m \u001b[0mrandom_state\u001b[0m\u001b[0;34m=\u001b[0m\u001b[0;36m1001\u001b[0m\u001b[0;34m)\u001b[0m\u001b[0;34m\u001b[0m\u001b[0m\n\u001b[0;32m----> 2\u001b[0;31m \u001b[0mlr\u001b[0m\u001b[0;34m.\u001b[0m\u001b[0mfit\u001b[0m\u001b[0;34m(\u001b[0m\u001b[0mpd\u001b[0m\u001b[0;34m.\u001b[0m\u001b[0mDataFrame\u001b[0m\u001b[0;34m(\u001b[0m\u001b[0mtrain_lr\u001b[0m\u001b[0;34m,\u001b[0m \u001b[0mcolumns\u001b[0m \u001b[0;34m=\u001b[0m \u001b[0mfeatures\u001b[0m\u001b[0;34m)\u001b[0m\u001b[0;34m,\u001b[0m \u001b[0my_train\u001b[0m\u001b[0;34m)\u001b[0m\u001b[0;34m\u001b[0m\u001b[0m\n\u001b[0m\u001b[1;32m      3\u001b[0m \u001b[0mpd\u001b[0m\u001b[0;34m.\u001b[0m\u001b[0mcrosstab\u001b[0m\u001b[0;34m(\u001b[0m\u001b[0my_test\u001b[0m\u001b[0;34m,\u001b[0m\u001b[0mlr\u001b[0m\u001b[0;34m.\u001b[0m\u001b[0mpredict\u001b[0m\u001b[0;34m(\u001b[0m\u001b[0mtest_lr\u001b[0m\u001b[0;34m)\u001b[0m\u001b[0;34m)\u001b[0m\u001b[0;34m\u001b[0m\u001b[0m\n",
      "\u001b[0;31mNameError\u001b[0m: name 'train_lr' is not defined"
     ]
    }
   ],
   "source": [
    "lr = LogisticRegression(class_weight={0:1, 1:2}, random_state=1001)\n",
    "lr.fit(pd.DataFrame(train_lr, columns = features), y_train)\n",
    "pd.crosstab(y_test,lr.predict(test_lr))"
   ]
  },
  {
   "cell_type": "code",
   "execution_count": 188,
   "metadata": {
    "collapsed": false
   },
   "outputs": [
    {
     "data": {
      "text/html": [
       "<div>\n",
       "<table border=\"1\" class=\"dataframe\">\n",
       "  <thead>\n",
       "    <tr style=\"text-align: right;\">\n",
       "      <th>col_0</th>\n",
       "      <th>0</th>\n",
       "      <th>1</th>\n",
       "    </tr>\n",
       "    <tr>\n",
       "      <th>vacant</th>\n",
       "      <th></th>\n",
       "      <th></th>\n",
       "    </tr>\n",
       "  </thead>\n",
       "  <tbody>\n",
       "    <tr>\n",
       "      <th>0</th>\n",
       "      <td>19559</td>\n",
       "      <td>1035</td>\n",
       "    </tr>\n",
       "    <tr>\n",
       "      <th>1</th>\n",
       "      <td>774</td>\n",
       "      <td>1259</td>\n",
       "    </tr>\n",
       "  </tbody>\n",
       "</table>\n",
       "</div>"
      ],
      "text/plain": [
       "col_0       0     1\n",
       "vacant             \n",
       "0       19559  1035\n",
       "1         774  1259"
      ]
     },
     "execution_count": 188,
     "metadata": {},
     "output_type": "execute_result"
    }
   ],
   "source": [
    "lr = LogisticRegression(class_weight={0:1, 1:4}, random_state=1001)\n",
    "lr.fit(pd.DataFrame(X_train, columns = features), y_train)\n",
    "pd.crosstab(y_test,lr.predict(X_test))"
   ]
  },
  {
   "cell_type": "code",
   "execution_count": 189,
   "metadata": {
    "collapsed": false
   },
   "outputs": [
    {
     "name": "stdout",
     "output_type": "stream",
     "text": [
      "0.7669148458550417 0.5819274324012018 0.548823016564952 0.6192818494835219\n"
     ]
    },
    {
     "data": {
      "image/png": "[encoded data removed]",
      "text/plain": [
       "<matplotlib.figure.Figure at 0x120921128>"
      ]
     },
     "metadata": {},
     "output_type": "display_data"
    }
   ],
   "source": [
    "dat = pd.DataFrame([lr.predict_proba(X_test)[:,1], y_test, lr.predict(X_test)]).T\n",
    "dat = dat.rename(columns={0:'prob',1:'act',2:'pred'})\n",
    "\n",
    "sns.distplot(dat[(dat.act==1)&(dat.pred==1)].prob);\n",
    "sns.distplot(dat[(dat.act==0)&(dat.pred==1)].prob);\n",
    "sns.distplot(dat[(dat.act==1)&(dat.pred==0)].prob);\n",
    "sns.distplot(dat[(dat.act==0)&(dat.pred==0)].prob);\n",
    "plt.legend(['True vacant','False vacant','False Occupied','True Occupied'])\n",
    "\n",
    "acc_neg = len(dat[(dat.act==0) & (dat.pred==0)])/len(dat[dat.act==0])\n",
    "acc_pos = len(dat[(dat.act==1) & (dat.pred==1)])/len(dat[dat.act==1])\n",
    "G = (acc_neg*acc_pos)**0.5\n",
    "prec = len(dat[(dat.act==1) & (dat.pred==1)])/len(dat[dat.pred==1])\n",
    "F = 2*prec*acc_pos/(prec+acc_pos)\n",
    "print(G, F, prec, acc_pos)"
   ]
  },
  {
   "cell_type": "code",
   "execution_count": 173,
   "metadata": {
    "collapsed": false
   },
   "outputs": [
    {
     "data": {
      "text/plain": [
       "(1685, 5656, 2033)"
      ]
     },
     "execution_count": 173,
     "metadata": {},
     "output_type": "execute_result"
    }
   ],
   "source": [
    "# copy = y_test.copy()\n",
    "copy = pd.Series(lr.predict_proba(X_test)[:,1],index=y_test.index)\n",
    "sum(y_test[copy.sort_values(ascending=False)[:int(len(X_test)*0.25)].index]), len(y_test[copy.sort_values(ascending=False)[:int(len(X_test)*0.25)].index]), sum(y_test)"
   ]
  },
  {
   "cell_type": "code",
   "execution_count": 174,
   "metadata": {
    "collapsed": false
   },
   "outputs": [
    {
     "data": {
      "text/plain": [
       "0.3905657658731933"
      ]
     },
     "execution_count": 174,
     "metadata": {},
     "output_type": "execute_result"
    }
   ],
   "source": [
    "sum(y_test*lr.predict(X_test))**2/(sum(y_test)*sum(lr.predict(X_test)))"
   ]
  },
  {
   "cell_type": "code",
   "execution_count": 112,
   "metadata": {
    "collapsed": false
   },
   "outputs": [
    {
     "data": {
      "text/plain": [
       "0.36806436345038474"
      ]
     },
     "execution_count": 112,
     "metadata": {},
     "output_type": "execute_result"
    }
   ],
   "source": [
    "sum(y_test*lr.predict(test_lr))**2/(sum(y_test)*sum(lr.predict(test_lr)))"
   ]
  },
  {
   "cell_type": "code",
   "execution_count": 85,
   "metadata": {
    "collapsed": true
   },
   "outputs": [
    {
     "name": "stdout",
     "output_type": "stream",
     "text": [
      "Feature ranking:\n",
      "1. feature 7, propsize (-1.895462)\n",
      "2. feature 39, GRAND_TOTAL_BALANCE (0.932087)\n",
      "3. feature 11, condition_value14 (-0.752645)\n",
      "4. feature 32, middle (-0.731660)\n",
      "5. feature 31, young (-0.700067)\n",
      "6. feature 33, old (-0.644513)\n",
      "7. feature 27, black (0.622684)\n",
      "8. feature 36, TOTAL_NET_DELQ_BALANCE (-0.588856)\n",
      "9. feature 14, LONGITUDE (0.448708)\n",
      "10. feature 44, pv_count (0.445257)\n",
      "11. feature 47, days_since_ovv (-0.423047)\n",
      "12. feature 26, white (0.422157)\n",
      "13. feature 13, LATITUDE (0.416763)\n",
      "14. feature 64, balance_diff (-0.335222)\n",
      "15. feature 54, fc_days (-0.264908)\n",
      "16. feature 41, delq_total_ratio (0.247658)\n",
      "17. feature 62, cond_diff (0.235897)\n",
      "18. feature 55, sa_days (-0.210916)\n",
      "19. feature 10, condition_value13 (0.173790)\n",
      "20. feature 21, part_one_crimes (0.159397)\n",
      "21. feature 60, al_days (0.152133)\n",
      "22. feature 45, v_total_1yr (0.143513)\n",
      "23. feature 3, lender_None (0.139492)\n",
      "24. feature 12, ownerocc_value (-0.138129)\n",
      "25. feature 53, fc_2yr (0.114947)\n",
      "26. feature 61, sqft (-0.112564)\n",
      "27. feature 24, poverty_rate (0.112530)\n",
      "28. feature 0, lender_0 (0.109708)\n",
      "29. feature 29, other (0.107259)\n",
      "30. feature 16, yrbuilt_filtered (-0.106595)\n",
      "31. feature 30, hispanic (-0.102943)\n",
      "32. feature 1, lender_1501 (0.102355)\n",
      "33. feature 58, t_num (-0.098737)\n",
      "34. feature 48, c_ovv_num (0.091523)\n",
      "35. feature 25, median_hh_income (0.091098)\n",
      "36. feature 2, lender_2500 (0.090571)\n",
      "37. feature 5, occup (0.090549)\n",
      "38. feature 19, property_crimes (-0.086504)\n",
      "39. feature 15, totbldgs (-0.086317)\n",
      "40. feature 59, al_num (0.078858)\n",
      "41. feature 43, GRAND_TOTAL_BALANCE_14 (0.077692)\n",
      "42. feature 63, tmktval_diff (-0.075169)\n",
      "43. feature 65, mktval_diff (-0.075169)\n",
      "44. feature 49, days_since_ovv_board_up (0.072555)\n",
      "45. feature 56, t_days (0.072555)\n",
      "46. feature 46, v_total_2yr (0.070150)\n",
      "47. feature 23, bachelors+ (0.065577)\n",
      "48. feature 6, rnumstor (-0.055088)\n",
      "49. feature 20, burglaries (0.054442)\n",
      "50. feature 18, median_rent (-0.054333)\n",
      "51. feature 4, cqual_num (-0.050311)\n",
      "52. feature 57, t_shf_deed (-0.048385)\n",
      "53. feature 34, lb_acquired (0.040116)\n",
      "54. feature 22, part_two_crimes (-0.040012)\n",
      "55. feature 42, paid_per (-0.032709)\n",
      "56. feature 17, vacant_block (0.026595)\n",
      "57. feature 35, lb_tax_fc (-0.023308)\n",
      "58. feature 37, TAX_ASSESSED_LAND (0.015970)\n",
      "59. feature 52, fc_1yr (-0.014147)\n",
      "60. feature 9, tmktval (0.011520)\n",
      "61. feature 40, GRAND_TOTAL_PAID (-0.007880)\n",
      "62. feature 38, TAX_MARKET_LAND (-0.004435)\n",
      "63. feature 28, asian (0.004375)\n",
      "64. feature 8, totusabl (-0.003436)\n",
      "65. feature 51, active_fc (-0.003351)\n",
      "66. feature 50, c_ovv_board_num (0.000000)\n",
      "67. feature 66, is_train (0.000000)\n",
      "\n",
      "Feature ranking (least important):\n",
      "1. feature 66, is_train (0.000000)\n",
      "2. feature 50, c_ovv_board_num (0.000000)\n",
      "3. feature 51, active_fc (-0.003351)\n",
      "4. feature 8, totusabl (-0.003436)\n",
      "5. feature 28, asian (0.004375)\n",
      "6. feature 38, TAX_MARKET_LAND (-0.004435)\n",
      "7. feature 40, GRAND_TOTAL_PAID (-0.007880)\n",
      "8. feature 9, tmktval (0.011520)\n",
      "9. feature 52, fc_1yr (-0.014147)\n",
      "10. feature 37, TAX_ASSESSED_LAND (0.015970)\n",
      "11. feature 35, lb_tax_fc (-0.023308)\n",
      "12. feature 17, vacant_block (0.026595)\n",
      "13. feature 42, paid_per (-0.032709)\n",
      "14. feature 22, part_two_crimes (-0.040012)\n",
      "15. feature 34, lb_acquired (0.040116)\n",
      "16. feature 57, t_shf_deed (-0.048385)\n",
      "17. feature 4, cqual_num (-0.050311)\n",
      "18. feature 18, median_rent (-0.054333)\n",
      "19. feature 20, burglaries (0.054442)\n",
      "20. feature 6, rnumstor (-0.055088)\n",
      "21. feature 23, bachelors+ (0.065577)\n",
      "22. feature 46, v_total_2yr (0.070150)\n",
      "23. feature 56, t_days (0.072555)\n",
      "24. feature 49, days_since_ovv_board_up (0.072555)\n",
      "25. feature 65, mktval_diff (-0.075169)\n",
      "26. feature 63, tmktval_diff (-0.075169)\n",
      "27. feature 43, GRAND_TOTAL_BALANCE_14 (0.077692)\n",
      "28. feature 59, al_num (0.078858)\n",
      "29. feature 15, totbldgs (-0.086317)\n",
      "30. feature 19, property_crimes (-0.086504)\n",
      "31. feature 5, occup (0.090549)\n",
      "32. feature 2, lender_2500 (0.090571)\n",
      "33. feature 25, median_hh_income (0.091098)\n",
      "34. feature 48, c_ovv_num (0.091523)\n",
      "35. feature 58, t_num (-0.098737)\n",
      "36. feature 1, lender_1501 (0.102355)\n",
      "37. feature 30, hispanic (-0.102943)\n",
      "38. feature 16, yrbuilt_filtered (-0.106595)\n",
      "39. feature 29, other (0.107259)\n",
      "40. feature 0, lender_0 (0.109708)\n",
      "41. feature 24, poverty_rate (0.112530)\n",
      "42. feature 61, sqft (-0.112564)\n",
      "43. feature 53, fc_2yr (0.114947)\n",
      "44. feature 12, ownerocc_value (-0.138129)\n",
      "45. feature 3, lender_None (0.139492)\n",
      "46. feature 45, v_total_1yr (0.143513)\n",
      "47. feature 60, al_days (0.152133)\n",
      "48. feature 21, part_one_crimes (0.159397)\n",
      "49. feature 10, condition_value13 (0.173790)\n",
      "50. feature 55, sa_days (-0.210916)\n",
      "51. feature 62, cond_diff (0.235897)\n",
      "52. feature 41, delq_total_ratio (0.247658)\n",
      "53. feature 54, fc_days (-0.264908)\n",
      "54. feature 64, balance_diff (-0.335222)\n",
      "55. feature 13, LATITUDE (0.416763)\n",
      "56. feature 26, white (0.422157)\n",
      "57. feature 47, days_since_ovv (-0.423047)\n",
      "58. feature 44, pv_count (0.445257)\n",
      "59. feature 14, LONGITUDE (0.448708)\n",
      "60. feature 36, TOTAL_NET_DELQ_BALANCE (-0.588856)\n",
      "61. feature 27, black (0.622684)\n",
      "62. feature 33, old (-0.644513)\n",
      "63. feature 31, young (-0.700067)\n",
      "64. feature 32, middle (-0.731660)\n",
      "65. feature 11, condition_value14 (-0.752645)\n",
      "66. feature 39, GRAND_TOTAL_BALANCE (0.932087)\n",
      "67. feature 7, propsize (-1.895462)\n"
     ]
    }
   ],
   "source": [
    "importances = lr.coef_[0]\n",
    "# std = np.std([tree.feature_importances_ for tree in lr.estimators_],\n",
    "#              axis=0)\n",
    "indices = np.argsort(abs(importances))[::-1]\n",
    "\n",
    "# Print the feature ranking\n",
    "print(\"Feature ranking:\")\n",
    "\n",
    "for f in range(len(features)):\n",
    "    print(\"%d. feature %d, %s (%f)\" % (f + 1, indices[f], features[indices[f]], importances[indices[f]]))\n",
    "print(\"\\nFeature ranking (least important):\")\n",
    "for f in range(len(features)):\n",
    "    print(\"%d. feature %d, %s (%f)\" % (f + 1, indices[-f-1], features[indices[-f-1]], importances[indices[-f-1]]))"
   ]
  },
  {
   "cell_type": "markdown",
   "metadata": {},
   "source": [
    "### Adaboost Classifier"
   ]
  },
  {
   "cell_type": "code",
   "execution_count": 124,
   "metadata": {
    "collapsed": false
   },
   "outputs": [],
   "source": [
    "from sklearn.ensemble import AdaBoostClassifier\n",
    "from sklearn.ensemble import GradientBoostingClassifier\n",
    "\n",
    "est = GradientBoostingClassifier(n_estimators=300, learning_rate=0.7,\n",
    "    max_depth=1, random_state=0).fit(X_train, y_train)\n",
    "# clf.score(train[features], y)                 "
   ]
  },
  {
   "cell_type": "code",
   "execution_count": 125,
   "metadata": {
    "collapsed": false
   },
   "outputs": [
    {
     "data": {
      "text/html": [
       "<div>\n",
       "<table border=\"1\" class=\"dataframe\">\n",
       "  <thead>\n",
       "    <tr style=\"text-align: right;\">\n",
       "      <th>col_0</th>\n",
       "      <th>0</th>\n",
       "      <th>1</th>\n",
       "    </tr>\n",
       "    <tr>\n",
       "      <th>vacant</th>\n",
       "      <th></th>\n",
       "      <th></th>\n",
       "    </tr>\n",
       "  </thead>\n",
       "  <tbody>\n",
       "    <tr>\n",
       "      <th>0</th>\n",
       "      <td>20299</td>\n",
       "      <td>295</td>\n",
       "    </tr>\n",
       "    <tr>\n",
       "      <th>1</th>\n",
       "      <td>1019</td>\n",
       "      <td>1014</td>\n",
       "    </tr>\n",
       "  </tbody>\n",
       "</table>\n",
       "</div>"
      ],
      "text/plain": [
       "col_0       0     1\n",
       "vacant             \n",
       "0       20299   295\n",
       "1        1019  1014"
      ]
     },
     "execution_count": 125,
     "metadata": {},
     "output_type": "execute_result"
    }
   ],
   "source": [
    "pd.crosstab(y_test, est.predict(X_test))"
   ]
  },
  {
   "cell_type": "code",
   "execution_count": 131,
   "metadata": {
    "collapsed": false
   },
   "outputs": [
    {
     "data": {
      "text/html": [
       "<div>\n",
       "<table border=\"1\" class=\"dataframe\">\n",
       "  <thead>\n",
       "    <tr style=\"text-align: right;\">\n",
       "      <th>col_0</th>\n",
       "      <th>0</th>\n",
       "      <th>1</th>\n",
       "    </tr>\n",
       "    <tr>\n",
       "      <th>vacant</th>\n",
       "      <th></th>\n",
       "      <th></th>\n",
       "    </tr>\n",
       "  </thead>\n",
       "  <tbody>\n",
       "    <tr>\n",
       "      <th>0</th>\n",
       "      <td>20298</td>\n",
       "      <td>296</td>\n",
       "    </tr>\n",
       "    <tr>\n",
       "      <th>1</th>\n",
       "      <td>1029</td>\n",
       "      <td>1004</td>\n",
       "    </tr>\n",
       "  </tbody>\n",
       "</table>\n",
       "</div>"
      ],
      "text/plain": [
       "col_0       0     1\n",
       "vacant             \n",
       "0       20298   296\n",
       "1        1029  1004"
      ]
     },
     "execution_count": 131,
     "metadata": {},
     "output_type": "execute_result"
    }
   ],
   "source": [
    "from sklearn.ensemble import AdaBoostClassifier\n",
    "from sklearn.ensemble import GradientBoostingClassifier\n",
    "\n",
    "est = GradientBoostingClassifier(n_estimators=400, learning_rate=0.7,\n",
    "    max_depth=1, random_state=0).fit(X_train, y_train)\n",
    "# clf.score(train[features], y)                 \n",
    "pd.crosstab(y_test, est.predict(X_test))"
   ]
  },
  {
   "cell_type": "code",
   "execution_count": 149,
   "metadata": {
    "collapsed": false
   },
   "outputs": [],
   "source": [
    "dat = pd.DataFrame([est.predict_proba(X_test)[:,1], y_test, est.predict(X_test)]).T\n",
    "dat = dat.rename(columns={0:'prob',1:'act',2:'pred'})\n",
    "\n",
    "sns.distplot(dat[(dat.act==1)&(dat.pred==1)].prob);\n",
    "sns.distplot(dat[(dat.act==0)&(dat.pred==1)].prob);\n",
    "sns.distplot(dat[(dat.act==1)&(dat.pred==0)].prob);\n",
    "sns.distplot(dat[(dat.act==0)&(dat.pred==0)].prob);\n",
    "plt.legend(['True vacant','False vacant','False Occupied','True Occupied'])"
   ]
  },
  {
   "cell_type": "code",
   "execution_count": 155,
   "metadata": {
    "collapsed": false
   },
   "outputs": [
    {
     "data": {
      "text/plain": [
       "<matplotlib.legend.Legend at 0x118814048>"
      ]
     },
     "execution_count": 155,
     "metadata": {},
     "output_type": "execute_result"
    },
    {
     "data": {
      "image/png": "[encoded data removed]",
      "text/plain": [
       "<matplotlib.figure.Figure at 0x11880ecf8>"
      ]
     },
     "metadata": {},
     "output_type": "display_data"
    }
   ],
   "source": []
  },
  {
   "cell_type": "code",
   "execution_count": 140,
   "metadata": {
    "collapsed": false
   },
   "outputs": [
    {
     "data": {
      "text/plain": [
       "<matplotlib.text.Text at 0x116f40d68>"
      ]
     },
     "execution_count": 140,
     "metadata": {},
     "output_type": "execute_result"
    },
    {
     "data": {
      "image/png": "[encoded data removed]",
      "text/plain": [
       "<matplotlib.figure.Figure at 0x1139c2e48>"
      ]
     },
     "metadata": {},
     "output_type": "display_data"
    }
   ],
   "source": [
    "n_estimators = len(est.estimators_)\n",
    "\n",
    "def deviance_plot(est, X_test, y_test, ax=None, label='', train_color='#2c7bb6',\n",
    "                  test_color='#d7191c', alpha=1.0):\n",
    "    \"\"\"Deviance plot for ``est``, use ``X_test`` and ``y_test`` for test error. \"\"\"\n",
    "    test_dev = np.empty(n_estimators)\n",
    "\n",
    "    for i, pred in enumerate(est.staged_predict(X_test)):\n",
    "       test_dev[i] = est.loss_(y_test, pred)\n",
    "\n",
    "    if ax is None:\n",
    "        fig = plt.figure(figsize=(7, 5))\n",
    "        ax = plt.gca()\n",
    "\n",
    "    ax.plot(np.arange(n_estimators) + 1, test_dev, color=test_color, label='Test %s' % label,\n",
    "             linewidth=2, alpha=alpha)\n",
    "    ax.plot(np.arange(n_estimators) + 1, est.train_score_, color=train_color,\n",
    "             label='Train %s' % label, linewidth=2, alpha=alpha)\n",
    "    ax.set_ylabel('Error')\n",
    "    ax.set_xlabel('n_estimators')\n",
    "#     ax.set_ylim((0, 2))\n",
    "    return test_dev, ax\n",
    "\n",
    "test_dev, ax = deviance_plot(est, X_test, y_test)\n",
    "ax.legend(loc=[0.8,0.8])\n",
    "\n",
    "# add some annotations\n",
    "# ax.annotate('Lowest test error', xy=(test_dev.argmin() + 1, test_dev.min() + 0.02), xycoords='data',\\\n",
    "#             xytext=(50, 1.0), textcoords='data',\\\n",
    "#             arrowprops=dict(arrowstyle=\"->\", connectionstyle=\"arc\"),\\\n",
    "#             )\n",
    "\n",
    "ann = ax.annotate('', xy=(150, test_dev[149]),  xycoords='data',\\\n",
    "                  xytext=(150, est.train_score_[149]), textcoords='data',\\\n",
    "                  arrowprops=dict(arrowstyle=\"<->\"))\n",
    "ax.text(160, 0.85, 'train-test gap')"
   ]
  },
  {
   "cell_type": "code",
   "execution_count": 40,
   "metadata": {
    "collapsed": false
   },
   "outputs": [],
   "source": [
    "# fig = plt.figure(figsize=(8, 5))\n",
    "# ax = plt.gca()\n",
    "# for params, (test_color, train_color) in [({}, ('#d7191c', '#2c7bb6')),\n",
    "#                                           ({'learning_rate': 0.1},\n",
    "#                                            ('#fdae61', '#abd9e9'))]:\n",
    "#     est = GradientBoostingClassifier(n_estimators=n_estimators, max_depth=1, learning_rate=1.0)\n",
    "#     est.set_params(**params)\n",
    "#     est.fit(X_train, y_train)\n",
    "\n",
    "#     test_dev, ax = deviance_plot(est, X_test, y_test, ax=ax, label=fmt_params(params),\n",
    "#                                  train_color=train_color, test_color=test_color)\n",
    "\n",
    "# ax.annotate('Requires more trees', xy=(200, est.train_score_[199]), xycoords='data',\n",
    "#             xytext=(300, 1.0), textcoords='data',\n",
    "#             arrowprops=dict(arrowstyle=\"->\", connectionstyle=\"arc\"),\n",
    "#             )\n",
    "# ax.annotate('Lower test error', xy=(900, test_dev[899]), xycoords='data',\n",
    "#             xytext=(600, 0.5), textcoords='data',\n",
    "#             arrowprops=dict(arrowstyle=\"->\", connectionstyle=\"arc\"),\n",
    "#             )\n",
    "# plt.legend(loc='upper right')"
   ]
  },
  {
   "cell_type": "code",
   "execution_count": 194,
   "metadata": {
    "collapsed": false
   },
   "outputs": [
    {
     "data": {
      "text/html": [
       "<div>\n",
       "<table border=\"1\" class=\"dataframe\">\n",
       "  <thead>\n",
       "    <tr style=\"text-align: right;\">\n",
       "      <th>col_0</th>\n",
       "      <th>0</th>\n",
       "      <th>1</th>\n",
       "    </tr>\n",
       "    <tr>\n",
       "      <th>vacant</th>\n",
       "      <th></th>\n",
       "      <th></th>\n",
       "    </tr>\n",
       "  </thead>\n",
       "  <tbody>\n",
       "    <tr>\n",
       "      <th>0</th>\n",
       "      <td>19924</td>\n",
       "      <td>670</td>\n",
       "    </tr>\n",
       "    <tr>\n",
       "      <th>1</th>\n",
       "      <td>1250</td>\n",
       "      <td>783</td>\n",
       "    </tr>\n",
       "  </tbody>\n",
       "</table>\n",
       "</div>"
      ],
      "text/plain": [
       "col_0       0    1\n",
       "vacant            \n",
       "0       19924  670\n",
       "1        1250  783"
      ]
     },
     "execution_count": 194,
     "metadata": {},
     "output_type": "execute_result"
    }
   ],
   "source": [
    "pd.crosstab(y_test, clf.predict(X_test))"
   ]
  },
  {
   "cell_type": "code",
   "execution_count": 35,
   "metadata": {
    "collapsed": false
   },
   "outputs": [
    {
     "data": {
      "text/plain": [
       "AdaBoostClassifier(algorithm='SAMME.R', base_estimator=None,\n",
       "          learning_rate=1.0, n_estimators=50, random_state=0)"
      ]
     },
     "execution_count": 35,
     "metadata": {},
     "output_type": "execute_result"
    }
   ],
   "source": [
    "abc = AdaBoostClassifier(n_estimators=50, random_state=0)\n",
    "abc.fit(X_train, y_train)"
   ]
  },
  {
   "cell_type": "code",
   "execution_count": null,
   "metadata": {
    "collapsed": true
   },
   "outputs": [],
   "source": [
    "pd.crosstab(y_test, abc.predict(X_test), rownames=['actual'], colnames=['preds'])"
   ]
  },
  {
   "cell_type": "code",
   "execution_count": 190,
   "metadata": {
    "collapsed": false
   },
   "outputs": [
    {
     "data": {
      "text/plain": [
       "0.85570079795738163"
      ]
     },
     "execution_count": 190,
     "metadata": {},
     "output_type": "execute_result"
    }
   ],
   "source": [
    "cross_val_score(abc, df3[features], df3.vacant, cv=10, scoring='accuracy').mean()"
   ]
  },
  {
   "cell_type": "code",
   "execution_count": 50,
   "metadata": {
    "collapsed": true
   },
   "outputs": [],
   "source": [
    "sound()"
   ]
  },
  {
   "cell_type": "code",
   "execution_count": 51,
   "metadata": {
    "collapsed": false
   },
   "outputs": [],
   "source": [
    "abc_prob = abc.predict_proba(test[features])"
   ]
  },
  {
   "cell_type": "code",
   "execution_count": 36,
   "metadata": {
    "collapsed": false
   },
   "outputs": [
    {
     "data": {
      "text/html": [
       "<div>\n",
       "<table border=\"1\" class=\"dataframe\">\n",
       "  <thead>\n",
       "    <tr style=\"text-align: right;\">\n",
       "      <th>preds</th>\n",
       "      <th>0</th>\n",
       "      <th>1</th>\n",
       "    </tr>\n",
       "    <tr>\n",
       "      <th>actual</th>\n",
       "      <th></th>\n",
       "      <th></th>\n",
       "    </tr>\n",
       "  </thead>\n",
       "  <tbody>\n",
       "    <tr>\n",
       "      <th>0</th>\n",
       "      <td>20447</td>\n",
       "      <td>301</td>\n",
       "    </tr>\n",
       "    <tr>\n",
       "      <th>1</th>\n",
       "      <td>1095</td>\n",
       "      <td>870</td>\n",
       "    </tr>\n",
       "  </tbody>\n",
       "</table>\n",
       "</div>"
      ],
      "text/plain": [
       "preds       0    1\n",
       "actual            \n",
       "0       20447  301\n",
       "1        1095  870"
      ]
     },
     "execution_count": 36,
     "metadata": {},
     "output_type": "execute_result"
    }
   ],
   "source": [
    "pd.crosstab(test['vacant'], abc.predict(test[features]), rownames=['actual'], colnames=['preds'])"
   ]
  },
  {
   "cell_type": "markdown",
   "metadata": {},
   "source": [
    "### Single decision tree"
   ]
  },
  {
   "cell_type": "code",
   "execution_count": 53,
   "metadata": {
    "collapsed": false
   },
   "outputs": [],
   "source": [
    "from sklearn import tree"
   ]
  },
  {
   "cell_type": "code",
   "execution_count": 77,
   "metadata": {
    "collapsed": false
   },
   "outputs": [
    {
     "data": {
      "image/png": "[encoded data removed]",
      "text/plain": [
       "<matplotlib.figure.Figure at 0x10d9270d0>"
      ]
     },
     "metadata": {},
     "output_type": "display_data"
    }
   ],
   "source": [
    "leafs = range(1,20,1)\n",
    "scores = []\n",
    "for leaf in leafs:\n",
    "    clf = tree.DecisionTreeClassifier(class_weight='auto', min_samples_leaf=leaf)\n",
    "    scores.append(cross_val_score(clf, df3[features], df3.vacant, cv=10, scoring='accuracy').mean())\n",
    "plt.plot(leafs, scores, '--');"
   ]
  },
  {
   "cell_type": "code",
   "execution_count": 58,
   "metadata": {
    "collapsed": false
   },
   "outputs": [],
   "source": [
    "clf = tree.DecisionTreeClassifier(class_weight=None, min_samples_leaf=3)\n",
    "clf = clf.fit(train[features], y)"
   ]
  },
  {
   "cell_type": "code",
   "execution_count": 196,
   "metadata": {
    "collapsed": false
   },
   "outputs": [
    {
     "data": {
      "text/plain": [
       "0.76765186629132975"
      ]
     },
     "execution_count": 196,
     "metadata": {},
     "output_type": "execute_result"
    }
   ],
   "source": [
    "cross_val_score(clf, df3[features], df3.vacant, cv=10, scoring='accuracy').mean()"
   ]
  },
  {
   "cell_type": "code",
   "execution_count": 59,
   "metadata": {
    "collapsed": false
   },
   "outputs": [
    {
     "data": {
      "text/html": [
       "<div>\n",
       "<table border=\"1\" class=\"dataframe\">\n",
       "  <thead>\n",
       "    <tr style=\"text-align: right;\">\n",
       "      <th>preds</th>\n",
       "      <th>0</th>\n",
       "      <th>1</th>\n",
       "    </tr>\n",
       "    <tr>\n",
       "      <th>actual</th>\n",
       "      <th></th>\n",
       "      <th></th>\n",
       "    </tr>\n",
       "  </thead>\n",
       "  <tbody>\n",
       "    <tr>\n",
       "      <th>0</th>\n",
       "      <td>29478</td>\n",
       "      <td>1401</td>\n",
       "    </tr>\n",
       "    <tr>\n",
       "      <th>1</th>\n",
       "      <td>1546</td>\n",
       "      <td>1461</td>\n",
       "    </tr>\n",
       "  </tbody>\n",
       "</table>\n",
       "</div>"
      ],
      "text/plain": [
       "preds       0     1\n",
       "actual             \n",
       "0       29478  1401\n",
       "1        1546  1461"
      ]
     },
     "execution_count": 59,
     "metadata": {},
     "output_type": "execute_result"
    }
   ],
   "source": [
    "pd.crosstab(test['vacant'], clf.predict(test[features]), rownames=['actual'], colnames=['preds'])"
   ]
  },
  {
   "cell_type": "markdown",
   "metadata": {},
   "source": [
    "## xgboost"
   ]
  },
  {
   "cell_type": "code",
   "execution_count": 37,
   "metadata": {
    "collapsed": false
   },
   "outputs": [],
   "source": [
    "import xgboost as xgb"
   ]
  },
  {
   "cell_type": "code",
   "execution_count": 85,
   "metadata": {
    "collapsed": false
   },
   "outputs": [],
   "source": [
    "xgtest = test[features].as_matrix()\n",
    "#create train and validation dmatrices \n",
    "xgtrain = train[features].as_matrix()"
   ]
  },
  {
   "cell_type": "code",
   "execution_count": 86,
   "metadata": {
    "collapsed": false
   },
   "outputs": [],
   "source": [
    "gbm = xgb.XGBClassifier(max_depth=50, n_estimators=100, learning_rate=0.5).fit(xgtrain, y)\n",
    "predictions = gbm.predict(xgtest)\n",
    "probs = gbm.predict_proba(xgtest)"
   ]
  },
  {
   "cell_type": "code",
   "execution_count": 87,
   "metadata": {
    "collapsed": false
   },
   "outputs": [
    {
     "data": {
      "text/html": [
       "<div>\n",
       "<table border=\"1\" class=\"dataframe\">\n",
       "  <thead>\n",
       "    <tr style=\"text-align: right;\">\n",
       "      <th>col_0</th>\n",
       "      <th>0</th>\n",
       "      <th>1</th>\n",
       "    </tr>\n",
       "    <tr>\n",
       "      <th>vacant</th>\n",
       "      <th></th>\n",
       "      <th></th>\n",
       "    </tr>\n",
       "  </thead>\n",
       "  <tbody>\n",
       "    <tr>\n",
       "      <th>0</th>\n",
       "      <td>20174</td>\n",
       "      <td>433</td>\n",
       "    </tr>\n",
       "    <tr>\n",
       "      <th>1</th>\n",
       "      <td>995</td>\n",
       "      <td>960</td>\n",
       "    </tr>\n",
       "  </tbody>\n",
       "</table>\n",
       "</div>"
      ],
      "text/plain": [
       "col_0       0    1\n",
       "vacant            \n",
       "0       20174  433\n",
       "1         995  960"
      ]
     },
     "execution_count": 87,
     "metadata": {},
     "output_type": "execute_result"
    }
   ],
   "source": [
    "pd.crosstab(test['vacant'],predictions)"
   ]
  },
  {
   "cell_type": "code",
   "execution_count": 48,
   "metadata": {
    "collapsed": true
   },
   "outputs": [],
   "source": [
    "sound()"
   ]
  },
  {
   "cell_type": "code",
   "execution_count": 50,
   "metadata": {
    "collapsed": false
   },
   "outputs": [
    {
     "name": "stdout",
     "output_type": "stream",
     "text": [
      "0.703307888041\n"
     ]
    },
    {
     "data": {
      "text/html": [
       "<div>\n",
       "<table border=\"1\" class=\"dataframe\">\n",
       "  <thead>\n",
       "    <tr style=\"text-align: right;\">\n",
       "      <th>pred</th>\n",
       "      <th>0.0</th>\n",
       "      <th>1.0</th>\n",
       "    </tr>\n",
       "    <tr>\n",
       "      <th>vacant</th>\n",
       "      <th></th>\n",
       "      <th></th>\n",
       "    </tr>\n",
       "  </thead>\n",
       "  <tbody>\n",
       "    <tr>\n",
       "      <th>0</th>\n",
       "      <td>1290</td>\n",
       "      <td>328</td>\n",
       "    </tr>\n",
       "    <tr>\n",
       "      <th>1</th>\n",
       "      <td>426</td>\n",
       "      <td>956</td>\n",
       "    </tr>\n",
       "  </tbody>\n",
       "</table>\n",
       "</div>"
      ],
      "text/plain": [
       "pred       0    1\n",
       "vacant           \n",
       "0       1290  328\n",
       "1        426  956"
      ]
     },
     "execution_count": 50,
     "metadata": {},
     "output_type": "execute_result"
    },
    {
     "data": {
      "image/png": "[encoded data removed]",
      "text/plain": [
       "<matplotlib.figure.Figure at 0x10a9b6090>"
      ]
     },
     "metadata": {},
     "output_type": "display_data"
    }
   ],
   "source": [
    "tem = test.copy()\n",
    "tem['prob'] = probs[:,1]\n",
    "tem['pred'] = tem.prob.apply(round)\n",
    "plt.hist(tem[tem.vacant==1].prob.values,alpha=0.5,normed=True, bins=20);\n",
    "plt.hist(tem[tem.vacant==0].prob.values,alpha=0.5,normed=True, bins=20);\n",
    "print(sum(tem.sort_values('prob', ascending=False).iloc[0:3000].vacant)*1.0/sum(tem.vacant))\n",
    "pd.crosstab(tem.sort_values('prob', ascending=False).iloc[0:3000].vacant,tem.sort_values('prob', ascending=False).iloc[0:3000].pred)"
   ]
  },
  {
   "cell_type": "code",
   "execution_count": 82,
   "metadata": {
    "collapsed": false
   },
   "outputs": [
    {
     "data": {
      "text/html": [
       "<div>\n",
       "<table border=\"1\" class=\"dataframe\">\n",
       "  <thead>\n",
       "    <tr style=\"text-align: right;\">\n",
       "      <th>pred</th>\n",
       "      <th>0.0</th>\n",
       "      <th>1.0</th>\n",
       "    </tr>\n",
       "    <tr>\n",
       "      <th>vacant</th>\n",
       "      <th></th>\n",
       "      <th></th>\n",
       "    </tr>\n",
       "  </thead>\n",
       "  <tbody>\n",
       "    <tr>\n",
       "      <th>0</th>\n",
       "      <td>2431</td>\n",
       "      <td>438</td>\n",
       "    </tr>\n",
       "    <tr>\n",
       "      <th>1</th>\n",
       "      <td>777</td>\n",
       "      <td>1354</td>\n",
       "    </tr>\n",
       "  </tbody>\n",
       "</table>\n",
       "</div>"
      ],
      "text/plain": [
       "pred       0     1\n",
       "vacant            \n",
       "0       2431   438\n",
       "1        777  1354"
      ]
     },
     "execution_count": 82,
     "metadata": {},
     "output_type": "execute_result"
    }
   ],
   "source": [
    "pd.crosstab(tem.sort_values('prob', ascending=False).iloc[0:5000].vacant,tem.sort_values('prob', ascending=False).iloc[0:5000].pred)"
   ]
  },
  {
   "cell_type": "code",
   "execution_count": 81,
   "metadata": {
    "collapsed": false
   },
   "outputs": [
    {
     "data": {
      "text/html": [
       "<div>\n",
       "<table border=\"1\" class=\"dataframe\">\n",
       "  <thead>\n",
       "    <tr style=\"text-align: right;\">\n",
       "      <th>pred</th>\n",
       "      <th>0.0</th>\n",
       "      <th>1.0</th>\n",
       "    </tr>\n",
       "    <tr>\n",
       "      <th>vacant</th>\n",
       "      <th></th>\n",
       "      <th></th>\n",
       "    </tr>\n",
       "  </thead>\n",
       "  <tbody>\n",
       "    <tr>\n",
       "      <th>0</th>\n",
       "      <td>2431</td>\n",
       "      <td>438</td>\n",
       "    </tr>\n",
       "    <tr>\n",
       "      <th>1</th>\n",
       "      <td>777</td>\n",
       "      <td>1354</td>\n",
       "    </tr>\n",
       "  </tbody>\n",
       "</table>\n",
       "</div>"
      ],
      "text/plain": [
       "pred       0     1\n",
       "vacant            \n",
       "0       2431   438\n",
       "1        777  1354"
      ]
     },
     "execution_count": 81,
     "metadata": {},
     "output_type": "execute_result"
    }
   ],
   "source": [
    "pd.crosstab(tem.sort_values('prob', ascending=False).iloc[0:5000].vacant,tem.sort_values('prob', ascending=False).iloc[0:5000].pred)"
   ]
  },
  {
   "cell_type": "code",
   "execution_count": 107,
   "metadata": {
    "collapsed": false
   },
   "outputs": [
    {
     "data": {
      "text/plain": [
       "['style__Bungalow',\n",
       " 'style__CAP',\n",
       " 'style__Colonial',\n",
       " 'style__Other',\n",
       " 'style__Ranch',\n",
       " 'ext__Aluminum/Vinyl (r)',\n",
       " 'ext__Brick',\n",
       " 'ext__Frame (r)',\n",
       " 'ext__Other',\n",
       " 'lender__0',\n",
       " 'lender__1501',\n",
       " 'lender__2500',\n",
       " 'lender__None',\n",
       " 'propsize',\n",
       " 'totusabl',\n",
       " 'tmktval',\n",
       " 'condition_value13',\n",
       " 'condition_value14',\n",
       " 'ownerocc_value',\n",
       " 'totbldgs',\n",
       " 'yrbuilt_filtered',\n",
       " 'vacant_block',\n",
       " 'median_rent',\n",
       " 'property_crimes',\n",
       " 'burglaries',\n",
       " 'part_one_crimes',\n",
       " 'part_two_crimes',\n",
       " 'bachelors+',\n",
       " 'poverty_rate',\n",
       " 'median_hh_income',\n",
       " 'white',\n",
       " 'black',\n",
       " 'asian',\n",
       " 'other',\n",
       " 'hispanic',\n",
       " 'young',\n",
       " 'middle',\n",
       " 'old',\n",
       " 'al_num',\n",
       " 'al_days',\n",
       " 't_days',\n",
       " 't_shf_deed',\n",
       " 't_num',\n",
       " 'lb_acquired',\n",
       " 'lb_tax_fc',\n",
       " 'pv_total',\n",
       " 'v_total_1yr',\n",
       " 'v_total_2yr',\n",
       " 'c_ovv_2yr',\n",
       " 'c_ovv_1yr',\n",
       " 'active_fc',\n",
       " 'fc_1yr',\n",
       " 'fc_2yr',\n",
       " 'fc_days',\n",
       " 'sa_days',\n",
       " 'TAX_ASSESSED_LAND',\n",
       " 'TAX_MARKET_LAND',\n",
       " 'GRAND_TOTAL_BALANCE',\n",
       " 'GRAND_TOTAL_BALANCE_14',\n",
       " 'is_train']"
      ]
     },
     "execution_count": 107,
     "metadata": {},
     "output_type": "execute_result"
    }
   ],
   "source": [
    "features"
   ]
  },
  {
   "cell_type": "code",
   "execution_count": null,
   "metadata": {
    "collapsed": true
   },
   "outputs": [],
   "source": []
  }
 ],
 "metadata": {
  "kernelspec": {
   "display_name": "Python 3",
   "language": "python",
   "name": "python3"
  },
  "language_info": {
   "codemirror_mode": {
    "name": "ipython",
    "version": 3
   },
   "file_extension": ".py",
   "mimetype": "text/x-python",
   "name": "python",
   "nbconvert_exporter": "python",
   "pygments_lexer": "ipython3",
   "version": "3.4.4"
  }
 },
 "nbformat": 4,
 "nbformat_minor": 0
}
