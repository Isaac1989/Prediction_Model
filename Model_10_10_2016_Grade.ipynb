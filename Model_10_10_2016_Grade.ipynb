{
 "cells": [
  {
   "cell_type": "markdown",
   "metadata": {},
   "source": [
    "# Loading necessary packages or libraries\n"
   ]
  },
  {
   "cell_type": "code",
   "execution_count": null,
   "metadata": {
    "collapsed": false
   },
   "outputs": [],
   "source": [
    "\n",
    "import pandas as pd\n",
    "import numpy as np\n",
    "import seaborn as sns\n",
    "import matplotlib.pyplot as plt\n",
    "import os \n",
    "from sklearn.cross_validation import cross_val_score\n",
    "from sklearn.cross_validation import train_test_split\n",
    "from sklearn.linear_model import LogisticRegression\n",
    "from sklearn.ensemble import RandomForestClassifier\n",
    "from sklearn.ensemble import GradientBoostingClassifier\n",
    "from sklearn import metrics\n",
    "from sklearn.preprocessing import binarize\n",
    "from sklearn.grid_search import GridSearchCV, RandomizedSearchCV\n",
    "\n",
    "# A sound object\n",
    "def sound():\n",
    "    os.system('Z:/largetransfer/luc/carter/Isaac/Sosumi.aiff')\n",
    "\n",
    "%matplotlib inline\n",
    "sns.set_context('notebook')\n",
    "\n",
    "wpath = 'Z:/largetransfer/luc/carter' #working from linux\n",
    "\n",
    "lpath= \"smb://WORKGROUP;ixo26@poprocks/dropbox/largetransfer/luc/carter\" # working from linux"
   ]
  },
  {
   "cell_type": "markdown",
   "metadata": {},
   "source": [
    "### Loading main data"
   ]
  },
  {
   "cell_type": "code",
   "execution_count": 2,
   "metadata": {
    "collapsed": false
   },
   "outputs": [],
   "source": [
    "data=pd.read_csv(wpath+'/data/model_data/tci_final1_10_10_2016.csv')\n",
    "data.drop('Unnamed: 0',axis=1,inplace=True)"
   ]
  },
  {
   "cell_type": "markdown",
   "metadata": {},
   "source": [
    "### loading complementary data\n",
    "This data set is only  loaded in to collect specific data to be merged to the main data"
   ]
  },
  {
   "cell_type": "code",
   "execution_count": 3,
   "metadata": {
    "collapsed": false
   },
   "outputs": [
    {
     "name": "stderr",
     "output_type": "stream",
     "text": [
      "C:\\Users\\Aisik\\Anaconda3\\lib\\site-packages\\IPython\\core\\interactiveshell.py:2717: DtypeWarning: Columns (0) have mixed types. Specify dtype option on import or set low_memory=False.\n",
      "  interactivity=interactivity, compiler=compiler, result=result)\n"
     ]
    }
   ],
   "source": [
    "data1=pd.read_csv('Z:/largetransfer/luc/carter/data/clean_data/tci_1_0.csv',parse_dates=[1])"
   ]
  },
  {
   "cell_type": "code",
   "execution_count": 4,
   "metadata": {
    "collapsed": false
   },
   "outputs": [],
   "source": [
    "## encoding Survey Grades\n",
    "def enSurveyGrade(x):\n",
    "    if x == \"F\":\n",
    "        return 1\n",
    "    else:\n",
    "        return 0\n",
    "data1[\"survey_grade\"]= data1[\"Survey Grade\"].apply(enSurveyGrade)"
   ]
  },
  {
   "cell_type": "code",
   "execution_count": 5,
   "metadata": {
    "collapsed": false
   },
   "outputs": [
    {
     "data": {
      "text/plain": [
       "1531"
      ]
     },
     "execution_count": 5,
     "metadata": {},
     "output_type": "execute_result"
    }
   ],
   "source": [
    "### Total number of observations with grade F\n",
    "sum(data1.survey_grade==1)"
   ]
  },
  {
   "cell_type": "markdown",
   "metadata": {},
   "source": [
    "#### Function to parse date data"
   ]
  },
  {
   "cell_type": "code",
   "execution_count": 6,
   "metadata": {
    "collapsed": false
   },
   "outputs": [],
   "source": [
    "def parsePin(x):\n",
    "    x=str(x)\n",
    "    return x[:3] + '-' +  x[3:5] + '-' + x[5:]\n",
    "data1['PIN']=data1.PIN.apply(parsePin)"
   ]
  },
  {
   "cell_type": "code",
   "execution_count": 7,
   "metadata": {
    "collapsed": false
   },
   "outputs": [],
   "source": [
    "#subsetting data via nluc variable + attaching 'Survey grade' variable\n",
    "ndata=pd.merge(data,data1[['PIN','survey_grade']],left_on ='parcel', right_on='PIN',how ='left')\n",
    "ndata=ndata.loc[(ndata.nluc==5100.0) | (ndata.nluc==5200.0) | (ndata.nluc==5300.0),]\n",
    "ndata[\"survey_grade\"] = ndata.survey_grade.fillna(0)"
   ]
  },
  {
   "cell_type": "code",
   "execution_count": 8,
   "metadata": {
    "collapsed": false
   },
   "outputs": [
    {
     "data": {
      "text/plain": [
       "1396"
      ]
     },
     "execution_count": 8,
     "metadata": {},
     "output_type": "execute_result"
    }
   ],
   "source": [
    "#Number of F-graded parcels\n",
    "sum(ndata.survey_grade == 1)"
   ]
  },
  {
   "cell_type": "code",
   "execution_count": null,
   "metadata": {
    "collapsed": false
   },
   "outputs": [],
   "source": [
    "##subsetting residential data via plcass variable\n",
    "ndata=ndata.ix[ndata.pclass=='Residential',]\n",
    "ndata.drop('pclass',inplace=True,axis=1)"
   ]
  },
  {
   "cell_type": "code",
   "execution_count": null,
   "metadata": {
    "collapsed": false
   },
   "outputs": [],
   "source": [
    "condition_value = {0.0:'Unsound', 1.:'Sound', 2.:'Very poor', 3.:'Poor', 4.:'Fair', 5.:'Average', \\\n",
    "                   6.:'Good', 7.:'Very good', 8.:'Excellent'}\n",
    "ndata['conditions']=ndata.condition_value14.map(condition_value)\n",
    "ndata.conditions.fillna('Average',inplace=True)\n",
    "ndata.drop('condition_value14',inplace=True, axis=1)\n",
    "ndata.conditions.str.lower()"
   ]
  },
  {
   "cell_type": "code",
   "execution_count": 12,
   "metadata": {
    "collapsed": false
   },
   "outputs": [],
   "source": [
    "Good=['very good','excellent','good']\n",
    "average=['fair','average','sound value']\n",
    "poor=['unsound','poor','very poor']\n",
    "\n",
    "def parseC(x):\n",
    "    if x.lower() in Good:\n",
    "        return 'good'\n",
    "    elif x.lower() in average:\n",
    "        return 'average'\n",
    "    else: return 'poor'\n",
    "ndata['condition']=ndata.conditions.apply(parseC)\n",
    "ndata.drop('conditions',axis=1,inplace=True)\n",
    "ndata.drop('PIN', axis=1, inplace=True)"
   ]
  },
  {
   "cell_type": "code",
   "execution_count": 13,
   "metadata": {
    "collapsed": false
   },
   "outputs": [],
   "source": [
    "ndata.reset_index(inplace=True)\n",
    "cond_dummy= pd.get_dummies(ndata.condition) \n",
    "cond_dummy['parcel']=ndata.parcel\n",
    "ndata= pd.merge(ndata, cond_dummy,left_on='parcel', right_on= 'parcel',how='left')\n",
    "ndata.set_index('parcel', inplace=True)\n",
    "ndata.drop('index', axis=1, inplace = True)"
   ]
  },
  {
   "cell_type": "code",
   "execution_count": 14,
   "metadata": {
    "collapsed": true
   },
   "outputs": [],
   "source": [
    "#Removing certain features from the data set\n",
    "t = list(ndata.columns)\n",
    "for i in ['vacant_block'\\\n",
    "          'part_one_crimes','part_two_crimes',\n",
    "          'white','asian','other','hispanic','young','middle','old','nluc','vacant',\"survey_grade\",\\\n",
    "        ]:\n",
    "    if i in t:\n",
    "        t.remove(i)\n",
    "    \n",
    "features = t\n"
   ]
  },
  {
   "cell_type": "code",
   "execution_count": 49,
   "metadata": {
    "collapsed": false
   },
   "outputs": [],
   "source": [
    "X_train,X_test,y_train,y_test=train_test_split(ndata[features],ndata[\"survey_grade\"],test_size=0.2,random_state=7)"
   ]
  },
  {
   "cell_type": "code",
   "execution_count": 42,
   "metadata": {
    "collapsed": false
   },
   "outputs": [
    {
     "name": "stdout",
     "output_type": "stream",
     "text": [
      "(88503, 48)\n",
      "(22126, 48)\n",
      "(88503,)\n",
      "(22126,)\n"
     ]
    }
   ],
   "source": [
    "print(X_train.shape)\n",
    "print(X_test.shape)\n",
    "print(y_train.shape)\n",
    "print(y_test.shape)"
   ]
  },
  {
   "cell_type": "code",
   "execution_count": 50,
   "metadata": {
    "collapsed": false
   },
   "outputs": [],
   "source": [
    "X_train1=X_train.drop(['condition','NAME10'],axis=1)\n",
    "X_test1=X_testr=X_test.drop(['condition','NAME10'],axis=1)"
   ]
  },
  {
   "cell_type": "markdown",
   "metadata": {},
   "source": [
    "#  Building models\n"
   ]
  },
  {
   "cell_type": "markdown",
   "metadata": {},
   "source": [
    "### Fitting Random Forest"
   ]
  },
  {
   "cell_type": "code",
   "execution_count": 170,
   "metadata": {
    "collapsed": false
   },
   "outputs": [],
   "source": [
    "\n",
    "from scipy.stats import randint as sp_randint\n",
    "from sklearn.externals import joblib\n",
    "from time import time\n",
    "\n",
    "n_trees=list(range(40,81))\n",
    "n_features=list(range(20,31))\n",
    "\n",
    "# param_grid=dict(n_estimators=n_trees,max_features=n_features)\n",
    "start_time=time()\n",
    "\n",
    "param_dist=dict(n_estimators=sp_randint(50,81),max_features=sp_randint(20,31))\n",
    "    \n",
    "rfc=RandomForestClassifier(class_weight={0:1,1:10},random_state=6)\n",
    "# grid_rfc=GridSearchCV(rfc,param_grid,cv=10,scoring=\"accuracy\") \n",
    "rand_rfc=RandomizedSearchCV(rfc, param_dist,cv=10,scoring=\"accuracy\",n_iter=10)\n",
    "\n",
    "# grid_rfc.fit(X_train,y_train)\n",
    "rand_rfc.fit(X_train1,y_train)\n",
    "\n",
    "joblib.dump(rand_rfc, \"Z:/largetransfer/luc/carter/Isaac/model_files/rand_rfc_grade.pkl\")\n",
    "\n",
    "end_time=time()-start_time\n",
    "sound()"
   ]
  },
  {
   "cell_type": "markdown",
   "metadata": {},
   "source": [
    "### Fitting Gradient Boosting"
   ]
  },
  {
   "cell_type": "code",
   "execution_count": 171,
   "metadata": {
    "collapsed": true
   },
   "outputs": [],
   "source": [
    "from scipy.stats import randint as sp_randint\n",
    "from time import time\n",
    "from itertools import islice,count\n",
    "from sklearn.externals import joblib\n",
    "\n",
    "start=time()\n",
    "\n",
    "param_dist=dict(n_estimators= sp_randint(200,250),\\\n",
    "                max_features= sp_randint(20,30),\\\n",
    "                max_depth= sp_randint(2,10),\\\n",
    "               learning_rate =list(islice(count(0.01,0.01),0,10)))\n",
    "         \n",
    "gbm=GradientBoostingClassifier(random_state=10)\n",
    "\n",
    "rand_gbm=RandomizedSearchCV(gbm,param_dist,cv=10,scoring='accuracy',n_iter=5)\n",
    "\n",
    "rand_gbm.fit(X_train1,y_train)\n",
    "\n",
    "joblib.dump(rand_gbm,\"Z:/largetransfer/luc/carter/Isaac/model_files/rand_gbm_grade.pkl\")\n",
    "\n",
    "end_time=time()-start\n",
    "sound()"
   ]
  },
  {
   "cell_type": "markdown",
   "metadata": {},
   "source": [
    "### Fitting logistic regression"
   ]
  },
  {
   "cell_type": "code",
   "execution_count": 21,
   "metadata": {
    "collapsed": false
   },
   "outputs": [],
   "source": [
    "from sklearn.preprocessing import StandardScaler\n",
    "from time import time\n",
    "from sklearn.externals import joblib\n",
    "start_time=time()\n",
    "# Scaling features\n",
    "\n",
    "X_train1=StandardScaler().fit_transform(X_train1)\n",
    "#X_test1=StandardScaler().fit_transform(X_test1)\n",
    "\n",
    "# Parameter options using the l1 penalty\n",
    "grid_param1={'penalty':['l2'],\\\n",
    "           'solver':['newton-cg'],\\\n",
    "           'C':[ 0.001,0.01, 0.1, 1, 10,100,1000]}\n",
    "\n",
    "log_reg1=LogisticRegression(tol=0.0001, max_iter=300,class_weight={0:1,1:10})\n",
    "\n",
    "# Creating gridsearch obj using the above setings\n",
    "grid_reg1=GridSearchCV(log_reg1,grid_param1,cv=10,scoring='accuracy',error_score=0)\n",
    "\n",
    "grid_reg1.fit(X_train1,y_train)\n",
    "\n",
    "joblib.dump(grid_reg1,'Z:/largetransfer/luc/carter/Isaac/model_files/logistic_reg_grade.pkl')\n",
    "\n",
    "total_time=time()-start_time\n",
    "\n",
    "sound()\n"
   ]
  },
  {
   "cell_type": "markdown",
   "metadata": {
    "collapsed": true
   },
   "source": [
    "## Making predictions"
   ]
  },
  {
   "cell_type": "code",
   "execution_count": 22,
   "metadata": {
    "collapsed": false
   },
   "outputs": [],
   "source": [
    "from sklearn.externals import joblib\n",
    "logistic=joblib.load('Z:/largetransfer/luc/carter/Isaac/model_files/logistic_reg_grade.pkl')\n",
    "gradientB=joblib.load('Z:/largetransfer/luc/carter/Isaac/model_files/rand_gbm_grade.pkl')\n",
    "RandomF=joblib.load(\"Z:/largetransfer/luc/carter/Isaac/model_files/rand_rfc_grade.pkl\")"
   ]
  },
  {
   "cell_type": "markdown",
   "metadata": {},
   "source": [
    "### Logistic"
   ]
  },
  {
   "cell_type": "code",
   "execution_count": 23,
   "metadata": {
    "collapsed": false
   },
   "outputs": [
    {
     "data": {
      "text/plain": [
       "LogisticRegression(C=0.001, class_weight={0: 1, 1: 10}, dual=False,\n",
       "          fit_intercept=True, intercept_scaling=1, max_iter=300,\n",
       "          multi_class='ovr', n_jobs=1, penalty='l2', random_state=None,\n",
       "          solver='newton-cg', tol=0.0001, verbose=0, warm_start=False)"
      ]
     },
     "execution_count": 23,
     "metadata": {},
     "output_type": "execute_result"
    }
   ],
   "source": [
    "#Best model after the Randomized search\n",
    "logistic.best_estimator_"
   ]
  },
  {
   "cell_type": "code",
   "execution_count": 25,
   "metadata": {
    "collapsed": false
   },
   "outputs": [
    {
     "data": {
      "text/plain": [
       "{'C': 0.001, 'penalty': 'l2', 'solver': 'newton-cg'}"
      ]
     },
     "execution_count": 25,
     "metadata": {},
     "output_type": "execute_result"
    }
   ],
   "source": [
    "#Checking the parameters used for the model selection\n",
    "logistic.best_params_"
   ]
  },
  {
   "cell_type": "code",
   "execution_count": 38,
   "metadata": {
    "collapsed": false
   },
   "outputs": [],
   "source": [
    "#predicted values\n",
    "from sklearn.preprocessing import StandardScaler\n",
    "X_testlg=StandardScaler().fit_transform(X_testr)\n",
    "predicted=logistic.predict(X_testlg)\n"
   ]
  },
  {
   "cell_type": "code",
   "execution_count": 27,
   "metadata": {
    "collapsed": false
   },
   "outputs": [
    {
     "data": {
      "text/plain": [
       "0.96904094730181689"
      ]
     },
     "execution_count": 27,
     "metadata": {},
     "output_type": "execute_result"
    }
   ],
   "source": [
    "#Measuring model accuracy\n",
    "metrics.accuracy_score(y_test,predicted)"
   ]
  },
  {
   "cell_type": "code",
   "execution_count": 28,
   "metadata": {
    "collapsed": false
   },
   "outputs": [
    {
     "data": {
      "text/plain": [
       "array([[21242,   600],\n",
       "       [   85,   199]])"
      ]
     },
     "execution_count": 28,
     "metadata": {},
     "output_type": "execute_result"
    }
   ],
   "source": [
    "#This is contain the same information as the cell that immediately follows it\n",
    "metrics.confusion_matrix(y_test,predicted)"
   ]
  },
  {
   "cell_type": "code",
   "execution_count": 44,
   "metadata": {
    "collapsed": false
   },
   "outputs": [
    {
     "data": {
      "text/html": [
       "<div>\n",
       "<table border=\"1\" class=\"dataframe\">\n",
       "  <thead>\n",
       "    <tr style=\"text-align: right;\">\n",
       "      <th>predicted</th>\n",
       "      <th>0.0</th>\n",
       "      <th>1.0</th>\n",
       "      <th>All</th>\n",
       "    </tr>\n",
       "    <tr>\n",
       "      <th>Actual</th>\n",
       "      <th></th>\n",
       "      <th></th>\n",
       "      <th></th>\n",
       "    </tr>\n",
       "  </thead>\n",
       "  <tbody>\n",
       "    <tr>\n",
       "      <th>0.0</th>\n",
       "      <td>21242</td>\n",
       "      <td>600</td>\n",
       "      <td>21842</td>\n",
       "    </tr>\n",
       "    <tr>\n",
       "      <th>1.0</th>\n",
       "      <td>85</td>\n",
       "      <td>199</td>\n",
       "      <td>284</td>\n",
       "    </tr>\n",
       "    <tr>\n",
       "      <th>All</th>\n",
       "      <td>21327</td>\n",
       "      <td>799</td>\n",
       "      <td>22126</td>\n",
       "    </tr>\n",
       "  </tbody>\n",
       "</table>\n",
       "</div>"
      ],
      "text/plain": [
       "predicted    0.0  1.0    All\n",
       "Actual                      \n",
       "0.0        21242  600  21842\n",
       "1.0           85  199    284\n",
       "All        21327  799  22126"
      ]
     },
     "execution_count": 44,
     "metadata": {},
     "output_type": "execute_result"
    }
   ],
   "source": [
    "pd.crosstab(y_test,predicted, margins=True,colnames=['predicted'],rownames=['Actual'])"
   ]
  },
  {
   "cell_type": "code",
   "execution_count": 45,
   "metadata": {
    "collapsed": false
   },
   "outputs": [
    {
     "data": {
      "image/png": "[encoded data removed]",
      "text/plain": [
       "<matplotlib.figure.Figure at 0x1b7b6295e10>"
      ]
     },
     "metadata": {},
     "output_type": "display_data"
    }
   ],
   "source": [
    "# Visualizing the distribution of the  predicted probabilities\n",
    "# sns.set_style('white')\n",
    "\n",
    "predprob=logistic.predict_proba(X_testlg)[:,1]\n",
    "\n",
    "def distprob(predprob,threshold,model='',adjusted=False):\n",
    "    \"\"\"Utility for plotting the distribution probability\"\"\"\n",
    "    \n",
    "    sns.distplot(predprob,kde=False)\n",
    "    plt.axvline(threshold,color='DarkBlue', alpha=0.5)\n",
    "    plt.xlabel('predicted probabilities')\n",
    "    ax=plt.gca()\n",
    "    ax.annotate('Decision boundary', xy=(threshold,7500), xytext=(threshold+0.2,8000),\n",
    "                arrowprops=dict(facecolor='black', shrink=0.08),\n",
    "                )\n",
    "    if adjusted:\n",
    "        plt.title(model +' with adjusted threshold:%.2f'%threshold)\n",
    "    else:\n",
    "        plt.title(model)\n",
    "\n",
    "\n",
    "    \n",
    "distprob(predprob,0.5,'logistic regression')"
   ]
  },
  {
   "cell_type": "code",
   "execution_count": 33,
   "metadata": {
    "collapsed": false
   },
   "outputs": [],
   "source": [
    "dsource=pd.read_excel('Z:/largetransfer/luc/carter/data/model_data/model_variables_and_sources.xlsx')\n",
    "dsource=dsource.rename(columns={'Variable names':'variables'})\n",
    "dsource['source']=dsource.source.str.lower()\n",
    "dsource['variables']=dsource.variables.str.lower()\n",
    "# dsource"
   ]
  },
  {
   "cell_type": "code",
   "execution_count": 77,
   "metadata": {
    "collapsed": false
   },
   "outputs": [],
   "source": [
    "#Coefficients of the model\n",
    "coef=logistic.best_estimator_.coef_.T[:X_testr.shape[1]].ravel()\n",
    "# coef=logistic.best_estimator_.coef_.T.ravel()\n",
    "var=X_test1.columns.values[:X_test1.shape[1]]\n",
    "df=pd.DataFrame(dict(list(zip(['variables','coef'],[var,coef]))))\n",
    "df['variables']=df.variables.str.lower()\n",
    "df=pd.merge(df,dsource[['variables','source']],on='variables',how='left')\n",
    "df.loc[df.variables=='bachelors.','source']='demographics'\n",
    "df.loc[df.variables=='v_total_2yr','source']='violations'\n",
    "df.loc[df.variables=='c_ovv_board_num','source']='complaints'\n",
    "df.loc[df.variables== 'c_ovv_num','source']='complaints'\n",
    "df.loc[df.variables=='fc_days','source']='foreclosure'\n",
    "# df.iloc[df.shape[0]-4:,'source']='condition'\n",
    "df=df.fillna('condition',axis=1)\n",
    "df['source']=df.source.str.replace('_',' ')\n",
    "df['source']=df.source.str.capitalize()\n",
    "    \n",
    "sources=set(df.source)\n",
    "for s in sources:\n",
    "    l=df.ix[df.source==s,].shape[0]\n",
    "    idx=df.ix[df.source==s,].index.values\n",
    "    if l != 1:\n",
    "        for i in range(l):\n",
    "            df.loc[df.index==idx[i],'source']= s + str(i)\n"
   ]
  },
  {
   "cell_type": "code",
   "execution_count": 74,
   "metadata": {
    "collapsed": false
   },
   "outputs": [],
   "source": [
    "# Tuning the prediction probabilities and setting roc_curve\n",
    "adjusted_prediction=np.where(predprob>0.9,1,0)"
   ]
  },
  {
   "cell_type": "code",
   "execution_count": 75,
   "metadata": {
    "collapsed": false
   },
   "outputs": [
    {
     "data": {
      "text/html": [
       "<div>\n",
       "<table border=\"1\" class=\"dataframe\">\n",
       "  <thead>\n",
       "    <tr style=\"text-align: right;\">\n",
       "      <th>predicted</th>\n",
       "      <th>0</th>\n",
       "      <th>1</th>\n",
       "    </tr>\n",
       "    <tr>\n",
       "      <th>Actual</th>\n",
       "      <th></th>\n",
       "      <th></th>\n",
       "    </tr>\n",
       "  </thead>\n",
       "  <tbody>\n",
       "    <tr>\n",
       "      <th>0.0</th>\n",
       "      <td>21786</td>\n",
       "      <td>56</td>\n",
       "    </tr>\n",
       "    <tr>\n",
       "      <th>1.0</th>\n",
       "      <td>243</td>\n",
       "      <td>41</td>\n",
       "    </tr>\n",
       "  </tbody>\n",
       "</table>\n",
       "</div>"
      ],
      "text/plain": [
       "predicted      0   1\n",
       "Actual              \n",
       "0.0        21786  56\n",
       "1.0          243  41"
      ]
     },
     "execution_count": 75,
     "metadata": {},
     "output_type": "execute_result"
    }
   ],
   "source": [
    "pd.crosstab(y_test,adjusted_prediction,colnames=['predicted'],rownames=['Actual'])"
   ]
  },
  {
   "cell_type": "code",
   "execution_count": 76,
   "metadata": {
    "collapsed": false
   },
   "outputs": [
    {
     "data": {
      "image/png": "[encoded data removed]",
      "text/plain": [
       "<matplotlib.figure.Figure at 0x1b7b25e0390>"
      ]
     },
     "metadata": {},
     "output_type": "display_data"
    }
   ],
   "source": [
    "#adjusting the decision line to 0.8\n",
    "distprob(predprob,0.9,adjusted=True, model='Logistic Regression')"
   ]
  },
  {
   "cell_type": "markdown",
   "metadata": {},
   "source": [
    "### Random Forest"
   ]
  },
  {
   "cell_type": "code",
   "execution_count": 78,
   "metadata": {
    "collapsed": false
   },
   "outputs": [],
   "source": [
    "features=df.source"
   ]
  },
  {
   "cell_type": "code",
   "execution_count": 80,
   "metadata": {
    "collapsed": false
   },
   "outputs": [
    {
     "data": {
      "text/plain": [
       "RandomForestClassifier(bootstrap=True, class_weight={0: 1, 1: 10},\n",
       "            criterion='gini', max_depth=None, max_features=21,\n",
       "            max_leaf_nodes=None, min_impurity_split=1e-07,\n",
       "            min_samples_leaf=1, min_samples_split=2,\n",
       "            min_weight_fraction_leaf=0.0, n_estimators=58, n_jobs=1,\n",
       "            oob_score=False, random_state=6, verbose=0, warm_start=False)"
      ]
     },
     "execution_count": 80,
     "metadata": {},
     "output_type": "execute_result"
    }
   ],
   "source": [
    "RandomF.best_estimator_"
   ]
  },
  {
   "cell_type": "code",
   "execution_count": 81,
   "metadata": {
    "collapsed": false
   },
   "outputs": [
    {
     "data": {
      "text/html": [
       "<div>\n",
       "<table border=\"1\" class=\"dataframe\">\n",
       "  <thead>\n",
       "    <tr style=\"text-align: right;\">\n",
       "      <th></th>\n",
       "      <th>features</th>\n",
       "      <th>values</th>\n",
       "    </tr>\n",
       "  </thead>\n",
       "  <tbody>\n",
       "    <tr>\n",
       "      <th>0</th>\n",
       "      <td>Residential</td>\n",
       "      <td>0.004356</td>\n",
       "    </tr>\n",
       "    <tr>\n",
       "      <th>1</th>\n",
       "      <td>Main property0</td>\n",
       "      <td>0.020362</td>\n",
       "    </tr>\n",
       "    <tr>\n",
       "      <th>2</th>\n",
       "      <td>Main property1</td>\n",
       "      <td>0.024570</td>\n",
       "    </tr>\n",
       "    <tr>\n",
       "      <th>3</th>\n",
       "      <td>Main property2</td>\n",
       "      <td>0.025201</td>\n",
       "    </tr>\n",
       "    <tr>\n",
       "      <th>4</th>\n",
       "      <td>Main property3</td>\n",
       "      <td>0.001852</td>\n",
       "    </tr>\n",
       "  </tbody>\n",
       "</table>\n",
       "</div>"
      ],
      "text/plain": [
       "         features    values\n",
       "0     Residential  0.004356\n",
       "1  Main property0  0.020362\n",
       "2  Main property1  0.024570\n",
       "3  Main property2  0.025201\n",
       "4  Main property3  0.001852"
      ]
     },
     "execution_count": 81,
     "metadata": {},
     "output_type": "execute_result"
    }
   ],
   "source": [
    "important_features=RandomF.best_estimator_.feature_importances_\n",
    "feature_map=dict(zip(['features','values'],[features,important_features]))\n",
    "pd.DataFrame(feature_map).head()"
   ]
  },
  {
   "cell_type": "code",
   "execution_count": 99,
   "metadata": {
    "collapsed": false
   },
   "outputs": [
    {
     "data": {
      "image/png": "[encoded data removed]",
      "text/plain": [
       "<matplotlib.figure.Figure at 0x1b794d23320>"
      ]
     },
     "metadata": {},
     "output_type": "display_data"
    }
   ],
   "source": [
    "#variable importance plotting utility\n",
    "\n",
    "\n",
    "def important_feature_plot(variables,values,model=''):\n",
    "    # Plot feature importance\n",
    "    sns.set_context('paper')    # There are other contexts you can set: \"talk\", \"notebook\", \"poster\"\n",
    "\n",
    "    # make importances relative to max importance\n",
    "    features1=np.array(variables)\n",
    "    feature_importance = 100.0 * (values / values.max())\n",
    "    sorted_idx = np.argsort(feature_importance)\n",
    "    pos = np.arange(sorted_idx.shape[0]) + .5\n",
    "#     plt.subplot(1, 2, 2)\n",
    "    plt.barh(pos, feature_importance[sorted_idx], align='center')\n",
    "    plt.yticks(pos,features1[sorted_idx])\n",
    "    plt.xlabel('Relative Importance')\n",
    "    plt.title('Variable Importance: '+ model)\n",
    "    plt.show()\n",
    "    \n",
    "# feature_lab=['Residential 1','Main property 1','Main property 1','Main property 2','Main property 3','Main property 4'\\\n",
    "#             ,'Main property 5','Demographics','Land & Banks 1','Land & Banks 2','Tax 1','Tax 2','Tax 3','Tax 4','Tax 5','Tax 6'\\\n",
    "#             ,'Tax 7','Tax 8','Postal vacancy','Violations 1','Violations 2','Complaints 1','Complaints 2','Complaints 3','Complaints 4',\\\n",
    "#             'Foreclosure 1','Foreclosure 2','Foreclosure 3','Foreclosure 4','Transfer 1','Transfer 2','Transfer 3','Armslength 1','Armslength 2',\\\n",
    "#             'Tax 9']\n",
    "\n",
    "important_feature_plot(features,important_features,'Random forest')"
   ]
  },
  {
   "cell_type": "code",
   "execution_count": 83,
   "metadata": {
    "collapsed": false
   },
   "outputs": [
    {
     "data": {
      "text/html": [
       "<div>\n",
       "<table border=\"1\" class=\"dataframe\">\n",
       "  <thead>\n",
       "    <tr style=\"text-align: right;\">\n",
       "      <th>predicted</th>\n",
       "      <th>0.0</th>\n",
       "      <th>1.0</th>\n",
       "    </tr>\n",
       "    <tr>\n",
       "      <th>Actual</th>\n",
       "      <th></th>\n",
       "      <th></th>\n",
       "    </tr>\n",
       "  </thead>\n",
       "  <tbody>\n",
       "    <tr>\n",
       "      <th>0.0</th>\n",
       "      <td>21817</td>\n",
       "      <td>25</td>\n",
       "    </tr>\n",
       "    <tr>\n",
       "      <th>1.0</th>\n",
       "      <td>262</td>\n",
       "      <td>22</td>\n",
       "    </tr>\n",
       "  </tbody>\n",
       "</table>\n",
       "</div>"
      ],
      "text/plain": [
       "predicted    0.0  1.0\n",
       "Actual               \n",
       "0.0        21817   25\n",
       "1.0          262   22"
      ]
     },
     "execution_count": 83,
     "metadata": {},
     "output_type": "execute_result"
    }
   ],
   "source": [
    "#Making a prediction\n",
    "predicted_rf=RandomF.predict(X_test1)\n",
    "pd.crosstab(y_test,predicted_rf,colnames=['predicted'],rownames=['Actual'])"
   ]
  },
  {
   "cell_type": "code",
   "execution_count": 84,
   "metadata": {
    "collapsed": false
   },
   "outputs": [
    {
     "name": "stdout",
     "output_type": "stream",
     "text": [
      "Calculated score: 0.98703 \n",
      " RandomizedScore: 0.98746\n"
     ]
    }
   ],
   "source": [
    "print('Calculated score: %.5f \\n RandomizedScore: %.5f'%(metrics.accuracy_score(y_test,predicted_rf),RandomF.best_score_))"
   ]
  },
  {
   "cell_type": "code",
   "execution_count": 53,
   "metadata": {
    "collapsed": false
   },
   "outputs": [],
   "source": [
    "#prediction probability\n",
    "# prob_rf=RandomF.predict_proba(X_test1)[:,1]\n",
    "# plt.subplot(211)\n",
    "# distprob(prob_rf,0.5,model='Random Forest')\n",
    "# plt.subplot(212)\n",
    "# distprob(prob_rf,0.4,model='Random Forest', adjusted=True)"
   ]
  },
  {
   "cell_type": "code",
   "execution_count": 98,
   "metadata": {
    "collapsed": false
   },
   "outputs": [
    {
     "data": {
      "image/png": "[encoded data removed]",
      "text/plain": [
       "<matplotlib.figure.Figure at 0x1b794c5fe10>"
      ]
     },
     "metadata": {},
     "output_type": "display_data"
    }
   ],
   "source": [
    "#prediction probability\n",
    "prob_rf=RandomF.predict_proba(X_test1)[:,1]\n",
    "with sns.plotting_context(\"paper\"):\n",
    "    distprob(prob_rf,0.5,model='Random Forest')\n"
   ]
  },
  {
   "cell_type": "code",
   "execution_count": 97,
   "metadata": {
    "collapsed": false
   },
   "outputs": [
    {
     "data": {
      "image/png": "[encoded data removed]",
      "text/plain": [
       "<matplotlib.figure.Figure at 0x1b7938162b0>"
      ]
     },
     "metadata": {},
     "output_type": "display_data"
    }
   ],
   "source": [
    "#prediction probability\n",
    "prob_rf=RandomF.predict_proba(X_test1)[:,1]\n",
    "with sns.plotting_context(\"paper\"):\n",
    "    distprob(prob_rf,0.4,model='Random Forest', adjusted=True)"
   ]
  },
  {
   "cell_type": "code",
   "execution_count": 87,
   "metadata": {
    "collapsed": false
   },
   "outputs": [
    {
     "data": {
      "text/html": [
       "<div>\n",
       "<table border=\"1\" class=\"dataframe\">\n",
       "  <thead>\n",
       "    <tr style=\"text-align: right;\">\n",
       "      <th>predicted</th>\n",
       "      <th>0</th>\n",
       "      <th>1</th>\n",
       "    </tr>\n",
       "    <tr>\n",
       "      <th>Actual</th>\n",
       "      <th></th>\n",
       "      <th></th>\n",
       "    </tr>\n",
       "  </thead>\n",
       "  <tbody>\n",
       "    <tr>\n",
       "      <th>0.0</th>\n",
       "      <td>21780</td>\n",
       "      <td>62</td>\n",
       "    </tr>\n",
       "    <tr>\n",
       "      <th>1.0</th>\n",
       "      <td>236</td>\n",
       "      <td>48</td>\n",
       "    </tr>\n",
       "  </tbody>\n",
       "</table>\n",
       "</div>"
      ],
      "text/plain": [
       "predicted      0   1\n",
       "Actual              \n",
       "0.0        21780  62\n",
       "1.0          236  48"
      ]
     },
     "execution_count": 87,
     "metadata": {},
     "output_type": "execute_result"
    }
   ],
   "source": [
    "\n",
    "#Adjusting the thresholds and setting the roc curves\n",
    "newpred_rf=np.where(prob_rf>0.4,1,0)\n",
    "\n",
    "pd.crosstab(y_test,newpred_rf,colnames=['predicted'],rownames=['Actual'])"
   ]
  },
  {
   "cell_type": "markdown",
   "metadata": {},
   "source": [
    "### Gradient Boosting\n"
   ]
  },
  {
   "cell_type": "code",
   "execution_count": 88,
   "metadata": {
    "collapsed": false
   },
   "outputs": [
    {
     "data": {
      "text/plain": [
       "GradientBoostingClassifier(criterion='friedman_mse', init=None,\n",
       "              learning_rate=0.060000000000000005, loss='deviance',\n",
       "              max_depth=4, max_features=20, max_leaf_nodes=None,\n",
       "              min_impurity_split=1e-07, min_samples_leaf=1,\n",
       "              min_samples_split=2, min_weight_fraction_leaf=0.0,\n",
       "              n_estimators=234, presort='auto', random_state=10,\n",
       "              subsample=1.0, verbose=0, warm_start=False)"
      ]
     },
     "execution_count": 88,
     "metadata": {},
     "output_type": "execute_result"
    }
   ],
   "source": [
    "#checking the best estimator obtained from the Randomized grid parameter search\n",
    "gradientB.best_estimator_"
   ]
  },
  {
   "cell_type": "code",
   "execution_count": 100,
   "metadata": {
    "collapsed": false
   },
   "outputs": [
    {
     "data": {
      "image/png": "[encoded data removed]",
      "text/plain": [
       "<matplotlib.figure.Figure at 0x1b794145630>"
      ]
     },
     "metadata": {},
     "output_type": "display_data"
    }
   ],
   "source": [
    "important_feat=gradientB.best_estimator_.feature_importances_\n",
    "\n",
    "important_feature_plot(features,important_feat,'Gradient Boosting')"
   ]
  },
  {
   "cell_type": "code",
   "execution_count": 90,
   "metadata": {
    "collapsed": true
   },
   "outputs": [],
   "source": [
    "predictedgb=gradientB.predict(X_test1)"
   ]
  },
  {
   "cell_type": "code",
   "execution_count": 91,
   "metadata": {
    "collapsed": false
   },
   "outputs": [
    {
     "data": {
      "text/html": [
       "<div>\n",
       "<table border=\"1\" class=\"dataframe\">\n",
       "  <thead>\n",
       "    <tr style=\"text-align: right;\">\n",
       "      <th>predicted</th>\n",
       "      <th>0.0</th>\n",
       "      <th>1.0</th>\n",
       "    </tr>\n",
       "    <tr>\n",
       "      <th>Actual</th>\n",
       "      <th></th>\n",
       "      <th></th>\n",
       "    </tr>\n",
       "  </thead>\n",
       "  <tbody>\n",
       "    <tr>\n",
       "      <th>0.0</th>\n",
       "      <td>21795</td>\n",
       "      <td>47</td>\n",
       "    </tr>\n",
       "    <tr>\n",
       "      <th>1.0</th>\n",
       "      <td>241</td>\n",
       "      <td>43</td>\n",
       "    </tr>\n",
       "  </tbody>\n",
       "</table>\n",
       "</div>"
      ],
      "text/plain": [
       "predicted    0.0  1.0\n",
       "Actual               \n",
       "0.0        21795   47\n",
       "1.0          241   43"
      ]
     },
     "execution_count": 91,
     "metadata": {},
     "output_type": "execute_result"
    }
   ],
   "source": [
    "pd.crosstab(y_test,predictedgb,colnames=['predicted'],rownames=['Actual'])"
   ]
  },
  {
   "cell_type": "code",
   "execution_count": 92,
   "metadata": {
    "collapsed": false
   },
   "outputs": [
    {
     "data": {
      "text/plain": [
       "0.98698363915755216"
      ]
     },
     "execution_count": 92,
     "metadata": {},
     "output_type": "execute_result"
    }
   ],
   "source": [
    "#Accuracy score\n",
    "metrics.accuracy_score(y_test,predictedgb)"
   ]
  },
  {
   "cell_type": "code",
   "execution_count": 59,
   "metadata": {
    "collapsed": false
   },
   "outputs": [],
   "source": [
    "# prob_gbm=gradientB.predict_proba(X_test1)[:,1]\n",
    "# plt.subplot(211)\n",
    "# distprob(prob_gbm,0.5,model='Gradient Boosting')\n",
    "# plt.subplot(212)\n",
    "# distprob(prob_gbm,0.2,model='Gradient Boosting', adjusted=True)"
   ]
  },
  {
   "cell_type": "code",
   "execution_count": 101,
   "metadata": {
    "collapsed": false
   },
   "outputs": [
    {
     "data": {
      "image/png": "[encoded data removed]",
      "text/plain": [
       "<matplotlib.figure.Figure at 0x1b795234fd0>"
      ]
     },
     "metadata": {},
     "output_type": "display_data"
    }
   ],
   "source": [
    "prob_gbm=gradientB.predict_proba(X_test1)[:,1]\n",
    "\n",
    "distprob(prob_gbm,0.5,model='Gradient Boosting')\n"
   ]
  },
  {
   "cell_type": "code",
   "execution_count": 102,
   "metadata": {
    "collapsed": false
   },
   "outputs": [
    {
     "data": {
      "image/png": "[encoded data removed]",
      "text/plain": [
       "<matplotlib.figure.Figure at 0x1b7954a7cf8>"
      ]
     },
     "metadata": {},
     "output_type": "display_data"
    }
   ],
   "source": [
    "prob_gbm=gradientB.predict_proba(X_test1)[:,1]\n",
    "\n",
    "distprob(prob_gbm,0.4,model='Gradient Boosting', adjusted=True)"
   ]
  },
  {
   "cell_type": "code",
   "execution_count": 103,
   "metadata": {
    "collapsed": false
   },
   "outputs": [
    {
     "data": {
      "text/html": [
       "<div>\n",
       "<table border=\"1\" class=\"dataframe\">\n",
       "  <thead>\n",
       "    <tr style=\"text-align: right;\">\n",
       "      <th>Predicted</th>\n",
       "      <th>0</th>\n",
       "      <th>1</th>\n",
       "    </tr>\n",
       "    <tr>\n",
       "      <th>Actual</th>\n",
       "      <th></th>\n",
       "      <th></th>\n",
       "    </tr>\n",
       "  </thead>\n",
       "  <tbody>\n",
       "    <tr>\n",
       "      <th>0.0</th>\n",
       "      <td>21762</td>\n",
       "      <td>80</td>\n",
       "    </tr>\n",
       "    <tr>\n",
       "      <th>1.0</th>\n",
       "      <td>214</td>\n",
       "      <td>70</td>\n",
       "    </tr>\n",
       "  </tbody>\n",
       "</table>\n",
       "</div>"
      ],
      "text/plain": [
       "Predicted      0   1\n",
       "Actual              \n",
       "0.0        21762  80\n",
       "1.0          214  70"
      ]
     },
     "execution_count": 103,
     "metadata": {},
     "output_type": "execute_result"
    }
   ],
   "source": [
    "adjustpredgb=np.where(prob_gbm>0.4,1,0)\n",
    "pd.crosstab(y_test,adjustpredgb,colnames=['Predicted'],rownames=['Actual'])"
   ]
  },
  {
   "cell_type": "markdown",
   "metadata": {},
   "source": [
    "### ROC Curve"
   ]
  },
  {
   "cell_type": "code",
   "execution_count": 106,
   "metadata": {
    "collapsed": false
   },
   "outputs": [
    {
     "data": {
      "text/plain": [
       "<matplotlib.legend.Legend at 0x1b794bd0940>"
      ]
     },
     "execution_count": 106,
     "metadata": {},
     "output_type": "execute_result"
    },
    {
     "data": {
      "image/png": "[encoded data removed]",
      "text/plain": [
       "<matplotlib.figure.Figure at 0x1b795234128>"
      ]
     },
     "metadata": {},
     "output_type": "display_data"
    }
   ],
   "source": [
    "def roc_curve(actual,score,model=''):\n",
    "    fpr,tpr,thresholds=metrics.roc_curve(actual,score)\n",
    "    plt.plot(fpr,tpr,label=model)\n",
    "    plt.title('ROC curves')\n",
    "    plt.xlabel('False postive rate')\n",
    "    plt.ylabel('True positive rate')\n",
    "    \n",
    "roc_curve(y_test,predprob,'logistic')\n",
    "plt.hold('on')\n",
    "roc_curve(y_test,prob_rf,'Random Forest')\n",
    "plt.hold('on')\n",
    "roc_curve(y_test,prob_gbm,'Gradient Boosting')\n",
    "plt.hold('off')\n",
    "plt.legend(loc='lower right')"
   ]
  },
  {
   "cell_type": "markdown",
   "metadata": {},
   "source": [
    "### Specificity and sensitivity of models"
   ]
  },
  {
   "cell_type": "code",
   "execution_count": 107,
   "metadata": {
    "collapsed": false
   },
   "outputs": [
    {
     "name": "stdout",
     "output_type": "stream",
     "text": [
      "Summary of model performance\n",
      "for gradient boosting\n",
      "             precision    recall  f1-score   support\n",
      "\n",
      "        0.0       1.00      0.97      0.98     21842\n",
      "        1.0       0.25      0.70      0.37       284\n",
      "\n",
      "avg / total       0.99      0.97      0.98     22126\n",
      "\n",
      "\n",
      "\n",
      "For Logistic model\n",
      "             precision    recall  f1-score   support\n",
      "\n",
      "        0.0       0.99      1.00      0.99     21842\n",
      "        1.0       0.47      0.08      0.13       284\n",
      "\n",
      "avg / total       0.98      0.99      0.98     22126\n",
      "\n",
      "\n",
      "\n",
      "For random forest\n",
      "             precision    recall  f1-score   support\n",
      "\n",
      "        0.0       0.99      1.00      0.99     21842\n",
      "        1.0       0.48      0.15      0.23       284\n",
      "\n",
      "avg / total       0.98      0.99      0.98     22126\n",
      "\n",
      "\n",
      "\n"
     ]
    }
   ],
   "source": [
    "\n",
    "model_predictions=[predicted,predicted_rf,predictedgb]\n",
    "print('Summary of model performance')\n",
    "for i,pred in enumerate(model_predictions):\n",
    "    if i == 1:\n",
    "        print(\"For Logistic model\")\n",
    "    elif i == 2:\n",
    "        print('For random forest')\n",
    "    else:\n",
    "        print('for gradient boosting')\n",
    "        \n",
    "    print(metrics.classification_report(y_test,pred))\n",
    "    print('\\n')"
   ]
  },
  {
   "cell_type": "markdown",
   "metadata": {},
   "source": [
    "### Writing out predictions to disk"
   ]
  },
  {
   "cell_type": "code",
   "execution_count": 108,
   "metadata": {
    "collapsed": false
   },
   "outputs": [],
   "source": [
    "results=pd.DataFrame({'Logistic':predicted,'Random_forest':predicted_rf,'Gradient_Boosting':predictedgb})\n",
    "# results.to_csv('C:\\\\Users\\\\senatoduro8\\\\Poverty_center\\\\Predictions.csv')\n",
    "results.to_csv('Z:/largetransfer/luc/carter/Isaac//Predictions_10_14_2016_graded.csv')"
   ]
  },
  {
   "cell_type": "markdown",
   "metadata": {},
   "source": [
    "### Files for buffering"
   ]
  },
  {
   "cell_type": "code",
   "execution_count": 66,
   "metadata": {
    "collapsed": true
   },
   "outputs": [],
   "source": [
    "\n",
    "predictions=pd.read_csv('Z:/largetransfer/luc/carter/data/predictions/Predictions_10_14_2016.csv')"
   ]
  },
  {
   "cell_type": "code",
   "execution_count": 84,
   "metadata": {
    "collapsed": false
   },
   "outputs": [],
   "source": [
    "X_test.reset_index(inplace=True)"
   ]
  },
  {
   "cell_type": "code",
   "execution_count": 91,
   "metadata": {
    "collapsed": false
   },
   "outputs": [],
   "source": [
    "# data=pd.merge(pd.DataFrame(y_test).reset_index(),predictions,right_index=True,left_index=True,how='inner').drop('Unnamed: 0',axis=1)\n",
    "df=pd.merge(data,X_test[['parcel','NAME10','Survey Grade']],left_on='parcel',right_on='parcel',how='outer').rename(columns={'NAME10':'census_track'})\n"
   ]
  },
  {
   "cell_type": "code",
   "execution_count": 92,
   "metadata": {
    "collapsed": true
   },
   "outputs": [],
   "source": [
    "df.to_csv('Z:/largetransfer/luc/carter/data/predictions/predictions_10_14_2016.csv')"
   ]
  }
 ],
 "metadata": {
  "anaconda-cloud": {},
  "kernelspec": {
   "display_name": "Python [default]",
   "language": "python",
   "name": "python3"
  },
  "language_info": {
   "codemirror_mode": {
    "name": "ipython",
    "version": 3
   },
   "file_extension": ".py",
   "mimetype": "text/x-python",
   "name": "python",
   "nbconvert_exporter": "python",
   "pygments_lexer": "ipython3",
   "version": "3.5.2"
  }
 },
 "nbformat": 4,
 "nbformat_minor": 0
}
