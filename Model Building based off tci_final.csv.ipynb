{
 "cells": [
  {
   "cell_type": "code",
   "execution_count": 1,
   "metadata": {
    "collapsed": false
   },
   "outputs": [],
   "source": [
    "import pandas as pd\n",
    "import numpy as np\n",
    "import seaborn as sns\n",
    "import matplotlib.pyplot as plt\n",
    "import os \n",
    "from sklearn.cross_validation import cross_val_score\n",
    "from sklearn.cross_validation import train_test_split\n",
    "from sklearn.linear_model import LogisticRegression\n",
    "from sklearn.ensemble import RandomForestClassifier\n",
    "from sklearn.ensemble import GradientBoostingClassifier\n",
    "from sklearn import metrics\n",
    "from sklearn.preprocessing import binarize\n",
    "from sklearn.grid_search import GridSearchCV, RandomizedSearchCV\n",
    "\n",
    "# A sound object\n",
    "def sound():\n",
    "    os.system('E:/Downloads/DATA/Sosumi.aiff')\n",
    "\n",
    "%matplotlib inline\n",
    "sns.set_context('notebook')\n",
    "\n",
    "#path = 'Z:/largetransfer/luc/carter'"
   ]
  },
  {
   "cell_type": "code",
   "execution_count": 5,
   "metadata": {
    "collapsed": false
   },
   "outputs": [],
   "source": [
    "# data=pd.read_csv(path+'/data/model_data/tci_final.csv',index_col=0)\n",
    "data=pd.read_csv('Z:/largetransfer/luc/carter/data/model_data/tci_final(2016729).csv',index_col=0)"
   ]
  },
  {
   "cell_type": "code",
   "execution_count": 6,
   "metadata": {
    "collapsed": false
   },
   "outputs": [],
   "source": [
    "data['nluc']=data.nluc.astype(str)\n",
    "data['pclass']= data.pclass.astype(str)\n",
    "data['NAME10']= data.NAME10.astype(str)"
   ]
  },
  {
   "cell_type": "code",
   "execution_count": 7,
   "metadata": {
    "collapsed": false
   },
   "outputs": [],
   "source": [
    "#Creating dummy variables\n",
    "nluc_dummy= pd.get_dummies(data.nluc) \n",
    "pclass_dummy=pd.get_dummies(data.pclass) \n",
    "Name10_dummy=pd.get_dummies(data.NAME10)"
   ]
  },
  {
   "cell_type": "code",
   "execution_count": 8,
   "metadata": {
    "collapsed": false
   },
   "outputs": [],
   "source": [
    "#matching new encoded values with parcel id\n",
    "nluc_dummy['parcel']=data.parcel\n",
    "pclass_dummy['parcel']=data.parcel\n",
    "Name10_dummy['parcel']= data.parcel"
   ]
  },
  {
   "cell_type": "code",
   "execution_count": 9,
   "metadata": {
    "collapsed": false
   },
   "outputs": [],
   "source": [
    "#merging dummy variable to the data\n",
    "data_final= pd.merge(data, nluc_dummy,left_on='parcel', right_on= 'parcel',how='left')\n",
    "data_final= pd.merge(data_final,pclass_dummy,left_on='parcel',right_on='parcel', how='left')\n",
    "data_final= pd.merge(data_final,Name10_dummy,left_on='parcel',right_on='parcel', how='left')\n",
    "data_final.drop('nan',axis=1, inplace=True)\n"
   ]
  },
  {
   "cell_type": "code",
   "execution_count": 10,
   "metadata": {
    "collapsed": false
   },
   "outputs": [],
   "source": [
    "data_final.set_index('parcel',inplace=True)"
   ]
  },
  {
   "cell_type": "code",
   "execution_count": 11,
   "metadata": {
    "collapsed": false
   },
   "outputs": [],
   "source": [
    "#Removing certain features from the data set\n",
    "t = list(data_final.columns)\n",
    "for i in ['vacant_block','median_rent','property_crimes','burglaries',\\\n",
    "          'part_one_crimes','part_two_crimes','bachelors+','poverty_rate','median_hh_income',\\\n",
    "          'white','black','asian','other','hispanic','young','middle','old','nluc','NAME10','pclass','vacant']:\n",
    "    if i in t:\n",
    "        t.remove(i)\n",
    "    \n",
    "features = t\n"
   ]
  },
  {
   "cell_type": "code",
   "execution_count": 12,
   "metadata": {
    "collapsed": false
   },
   "outputs": [
    {
     "data": {
      "text/html": [
       "<div>\n",
       "<table border=\"1\" class=\"dataframe\">\n",
       "  <thead>\n",
       "    <tr style=\"text-align: right;\">\n",
       "      <th></th>\n",
       "      <th>rnumstor</th>\n",
       "      <th>propsize</th>\n",
       "      <th>totusabl</th>\n",
       "      <th>tmktval</th>\n",
       "      <th>ownerocc_value</th>\n",
       "      <th>totbldgs</th>\n",
       "      <th>yrbuilt_filtered</th>\n",
       "      <th>bachelors.</th>\n",
       "      <th>lb_acquired</th>\n",
       "      <th>lb_tax_fc</th>\n",
       "      <th>...</th>\n",
       "      <th>1242.01</th>\n",
       "      <th>1242.02</th>\n",
       "      <th>1243.0</th>\n",
       "      <th>1245.0</th>\n",
       "      <th>1246.0</th>\n",
       "      <th>1261.0</th>\n",
       "      <th>1275.01</th>\n",
       "      <th>1964.0</th>\n",
       "      <th>1965.0</th>\n",
       "      <th>9801.0</th>\n",
       "    </tr>\n",
       "    <tr>\n",
       "      <th>parcel</th>\n",
       "      <th></th>\n",
       "      <th></th>\n",
       "      <th></th>\n",
       "      <th></th>\n",
       "      <th></th>\n",
       "      <th></th>\n",
       "      <th></th>\n",
       "      <th></th>\n",
       "      <th></th>\n",
       "      <th></th>\n",
       "      <th></th>\n",
       "      <th></th>\n",
       "      <th></th>\n",
       "      <th></th>\n",
       "      <th></th>\n",
       "      <th></th>\n",
       "      <th></th>\n",
       "      <th></th>\n",
       "      <th></th>\n",
       "      <th></th>\n",
       "      <th></th>\n",
       "    </tr>\n",
       "  </thead>\n",
       "  <tbody>\n",
       "    <tr>\n",
       "      <th>001-01-001</th>\n",
       "      <td>1.0</td>\n",
       "      <td>32768</td>\n",
       "      <td>4149.0</td>\n",
       "      <td>445500.0</td>\n",
       "      <td>1</td>\n",
       "      <td>1</td>\n",
       "      <td>1951</td>\n",
       "      <td>35.99</td>\n",
       "      <td>0</td>\n",
       "      <td>0</td>\n",
       "      <td>...</td>\n",
       "      <td>0.0</td>\n",
       "      <td>0.0</td>\n",
       "      <td>0.0</td>\n",
       "      <td>0.0</td>\n",
       "      <td>0.0</td>\n",
       "      <td>0.0</td>\n",
       "      <td>0.0</td>\n",
       "      <td>0.0</td>\n",
       "      <td>0.0</td>\n",
       "      <td>0.0</td>\n",
       "    </tr>\n",
       "    <tr>\n",
       "      <th>001-01-003</th>\n",
       "      <td>1.5</td>\n",
       "      <td>81536</td>\n",
       "      <td>15828.0</td>\n",
       "      <td>1159600.0</td>\n",
       "      <td>1</td>\n",
       "      <td>1</td>\n",
       "      <td>1962</td>\n",
       "      <td>35.99</td>\n",
       "      <td>0</td>\n",
       "      <td>0</td>\n",
       "      <td>...</td>\n",
       "      <td>0.0</td>\n",
       "      <td>0.0</td>\n",
       "      <td>0.0</td>\n",
       "      <td>0.0</td>\n",
       "      <td>0.0</td>\n",
       "      <td>0.0</td>\n",
       "      <td>0.0</td>\n",
       "      <td>0.0</td>\n",
       "      <td>0.0</td>\n",
       "      <td>0.0</td>\n",
       "    </tr>\n",
       "    <tr>\n",
       "      <th>001-01-004</th>\n",
       "      <td>1.5</td>\n",
       "      <td>13832</td>\n",
       "      <td>2537.0</td>\n",
       "      <td>266300.0</td>\n",
       "      <td>1</td>\n",
       "      <td>1</td>\n",
       "      <td>1957</td>\n",
       "      <td>35.99</td>\n",
       "      <td>0</td>\n",
       "      <td>0</td>\n",
       "      <td>...</td>\n",
       "      <td>0.0</td>\n",
       "      <td>0.0</td>\n",
       "      <td>0.0</td>\n",
       "      <td>0.0</td>\n",
       "      <td>0.0</td>\n",
       "      <td>0.0</td>\n",
       "      <td>0.0</td>\n",
       "      <td>0.0</td>\n",
       "      <td>0.0</td>\n",
       "      <td>0.0</td>\n",
       "    </tr>\n",
       "    <tr>\n",
       "      <th>001-01-005</th>\n",
       "      <td>1.5</td>\n",
       "      <td>10500</td>\n",
       "      <td>1578.0</td>\n",
       "      <td>171700.0</td>\n",
       "      <td>1</td>\n",
       "      <td>1</td>\n",
       "      <td>1953</td>\n",
       "      <td>35.99</td>\n",
       "      <td>0</td>\n",
       "      <td>0</td>\n",
       "      <td>...</td>\n",
       "      <td>0.0</td>\n",
       "      <td>0.0</td>\n",
       "      <td>0.0</td>\n",
       "      <td>0.0</td>\n",
       "      <td>0.0</td>\n",
       "      <td>0.0</td>\n",
       "      <td>0.0</td>\n",
       "      <td>0.0</td>\n",
       "      <td>0.0</td>\n",
       "      <td>0.0</td>\n",
       "    </tr>\n",
       "    <tr>\n",
       "      <th>001-01-006</th>\n",
       "      <td>2.0</td>\n",
       "      <td>16500</td>\n",
       "      <td>3650.0</td>\n",
       "      <td>296200.0</td>\n",
       "      <td>1</td>\n",
       "      <td>1</td>\n",
       "      <td>1928</td>\n",
       "      <td>35.99</td>\n",
       "      <td>0</td>\n",
       "      <td>0</td>\n",
       "      <td>...</td>\n",
       "      <td>0.0</td>\n",
       "      <td>0.0</td>\n",
       "      <td>0.0</td>\n",
       "      <td>0.0</td>\n",
       "      <td>0.0</td>\n",
       "      <td>0.0</td>\n",
       "      <td>0.0</td>\n",
       "      <td>0.0</td>\n",
       "      <td>0.0</td>\n",
       "      <td>0.0</td>\n",
       "    </tr>\n",
       "  </tbody>\n",
       "</table>\n",
       "<p>5 rows × 240 columns</p>\n",
       "</div>"
      ],
      "text/plain": [
       "            rnumstor  propsize  totusabl    tmktval  ownerocc_value  totbldgs  \\\n",
       "parcel                                                                          \n",
       "001-01-001       1.0     32768    4149.0   445500.0               1         1   \n",
       "001-01-003       1.5     81536   15828.0  1159600.0               1         1   \n",
       "001-01-004       1.5     13832    2537.0   266300.0               1         1   \n",
       "001-01-005       1.5     10500    1578.0   171700.0               1         1   \n",
       "001-01-006       2.0     16500    3650.0   296200.0               1         1   \n",
       "\n",
       "            yrbuilt_filtered  bachelors.  lb_acquired  lb_tax_fc   ...    \\\n",
       "parcel                                                             ...     \n",
       "001-01-001              1951       35.99            0          0   ...     \n",
       "001-01-003              1962       35.99            0          0   ...     \n",
       "001-01-004              1957       35.99            0          0   ...     \n",
       "001-01-005              1953       35.99            0          0   ...     \n",
       "001-01-006              1928       35.99            0          0   ...     \n",
       "\n",
       "            1242.01  1242.02  1243.0  1245.0  1246.0  1261.0  1275.01  1964.0  \\\n",
       "parcel                                                                          \n",
       "001-01-001      0.0      0.0     0.0     0.0     0.0     0.0      0.0     0.0   \n",
       "001-01-003      0.0      0.0     0.0     0.0     0.0     0.0      0.0     0.0   \n",
       "001-01-004      0.0      0.0     0.0     0.0     0.0     0.0      0.0     0.0   \n",
       "001-01-005      0.0      0.0     0.0     0.0     0.0     0.0      0.0     0.0   \n",
       "001-01-006      0.0      0.0     0.0     0.0     0.0     0.0      0.0     0.0   \n",
       "\n",
       "            1965.0  9801.0  \n",
       "parcel                      \n",
       "001-01-001     0.0     0.0  \n",
       "001-01-003     0.0     0.0  \n",
       "001-01-004     0.0     0.0  \n",
       "001-01-005     0.0     0.0  \n",
       "001-01-006     0.0     0.0  \n",
       "\n",
       "[5 rows x 240 columns]"
      ]
     },
     "execution_count": 12,
     "metadata": {},
     "output_type": "execute_result"
    }
   ],
   "source": [
    "data_final[features].head()"
   ]
  },
  {
   "cell_type": "markdown",
   "metadata": {},
   "source": [
    "### Split data into training and testing sets"
   ]
  },
  {
   "cell_type": "code",
   "execution_count": 27,
   "metadata": {
    "collapsed": false
   },
   "outputs": [],
   "source": [
    "X_train,X_test,y_train,y_test=train_test_split(data_final[features],data_final[\"vacant\"],test_size=0.2,random_state=7)"
   ]
  },
  {
   "cell_type": "code",
   "execution_count": 15,
   "metadata": {
    "collapsed": false
   },
   "outputs": [
    {
     "name": "stdout",
     "output_type": "stream",
     "text": [
      "(90372, 240)\n",
      "(22593, 240)\n",
      "(90372,)\n",
      "(22593,)\n"
     ]
    }
   ],
   "source": [
    "print(X_train.shape)\n",
    "print(X_test.shape)\n",
    "print(y_train.shape)\n",
    "print(y_test.shape)"
   ]
  },
  {
   "cell_type": "markdown",
   "metadata": {},
   "source": [
    "### Building models"
   ]
  },
  {
   "cell_type": "code",
   "execution_count": 112,
   "metadata": {
    "collapsed": false
   },
   "outputs": [],
   "source": [
    "from scipy.stats import randint as sp_randint\n",
    "from sklearn.externals import joblib\n",
    "from time import time\n",
    "\n",
    "n_trees=list(range(40,81))\n",
    "n_features=list(range(20,31))\n",
    "\n",
    "# param_grid=dict(n_estimators=n_trees,max_features=n_features)\n",
    "start_time=time()\n",
    "\n",
    "param_dist=dict(n_estimators=sp_randint(50,81),max_features=sp_randint(20,31))\n",
    "    \n",
    "rfc=RandomForestClassifier(class_weight={0:1,1:10},random_state=6)\n",
    "# grid_rfc=GridSearchCV(rfc,param_grid,cv=10,scoring=\"accuracy\") \n",
    "rand_rfc=RandomizedSearchCV(rfc, param_dist,cv=10,scoring=\"accuracy\",n_iter=10)\n",
    "\n",
    "# grid_rfc.fit(X_train,y_train)\n",
    "rand_rfc.fit(X_train,y_train)\n",
    "\n",
    "joblib.dump(rand_rfc, \"Z:/largetransfer/luc/carter/models/rand_rfc1.pkl\")\n",
    "\n",
    "end_time=time()-start_time\n",
    "sound()"
   ]
  },
  {
   "cell_type": "code",
   "execution_count": 113,
   "metadata": {
    "collapsed": false
   },
   "outputs": [],
   "source": [
    "from scipy.stats import randint as sp_randint\n",
    "from time import time\n",
    "from itertools import islice,count\n",
    "from sklearn.externals import joblib\n",
    "\n",
    "start=time()\n",
    "\n",
    "param_dist=dict(n_estimators= sp_randint(200,250),\\\n",
    "                max_features= sp_randint(20,30),\\\n",
    "                max_depth= sp_randint(2,10),\\\n",
    "               learning_rate =list(islice(count(0.01,0.01),0,10)))\n",
    "         \n",
    "gbm=GradientBoostingClassifier(random_state=10)\n",
    "\n",
    "rand_gbm=RandomizedSearchCV(gbm,param_dist,cv=10,scoring='accuracy',n_iter=5)\n",
    "\n",
    "rand_gbm.fit(X_train,y_train)\n",
    "\n",
    "joblib.dump(rand_gbm,\"Z:/largetransfer/luc/carter/models/rand_gbm1.pkl\")\n",
    "\n",
    "end_time=time()-start\n",
    "sound()"
   ]
  },
  {
   "cell_type": "code",
   "execution_count": 9,
   "metadata": {
    "collapsed": false
   },
   "outputs": [
    {
     "data": {
      "text/plain": [
       "['C:\\\\Users\\\\senatoduro8\\\\Poverty_center\\\\rand_gbm1.pkl',\n",
       " 'C:\\\\Users\\\\senatoduro8\\\\Poverty_center\\\\rand_gbm1.pkl_01.npy',\n",
       " 'C:\\\\Users\\\\senatoduro8\\\\Poverty_center\\\\rand_gbm1.pkl_02.npy',\n",
       " 'C:\\\\Users\\\\senatoduro8\\\\Poverty_center\\\\rand_gbm1.pkl_03.npy',\n",
       " 'C:\\\\Users\\\\senatoduro8\\\\Poverty_center\\\\rand_gbm1.pkl_04.npy',\n",
       " 'C:\\\\Users\\\\senatoduro8\\\\Poverty_center\\\\rand_gbm1.pkl_05.npy',\n",
       " 'C:\\\\Users\\\\senatoduro8\\\\Poverty_center\\\\rand_gbm1.pkl_06.npy',\n",
       " 'C:\\\\Users\\\\senatoduro8\\\\Poverty_center\\\\rand_gbm1.pkl_07.npy',\n",
       " 'C:\\\\Users\\\\senatoduro8\\\\Poverty_center\\\\rand_gbm1.pkl_08.npy',\n",
       " 'C:\\\\Users\\\\senatoduro8\\\\Poverty_center\\\\rand_gbm1.pkl_09.npy',\n",
       " 'C:\\\\Users\\\\senatoduro8\\\\Poverty_center\\\\rand_gbm1.pkl_10.npy',\n",
       " 'C:\\\\Users\\\\senatoduro8\\\\Poverty_center\\\\rand_gbm1.pkl_11.npy',\n",
       " 'C:\\\\Users\\\\senatoduro8\\\\Poverty_center\\\\rand_gbm1.pkl_12.npy',\n",
       " 'C:\\\\Users\\\\senatoduro8\\\\Poverty_center\\\\rand_gbm1.pkl_13.npy',\n",
       " 'C:\\\\Users\\\\senatoduro8\\\\Poverty_center\\\\rand_gbm1.pkl_14.npy',\n",
       " 'C:\\\\Users\\\\senatoduro8\\\\Poverty_center\\\\rand_gbm1.pkl_15.npy',\n",
       " 'C:\\\\Users\\\\senatoduro8\\\\Poverty_center\\\\rand_gbm1.pkl_16.npy',\n",
       " 'C:\\\\Users\\\\senatoduro8\\\\Poverty_center\\\\rand_gbm1.pkl_17.npy',\n",
       " 'C:\\\\Users\\\\senatoduro8\\\\Poverty_center\\\\rand_gbm1.pkl_18.npy',\n",
       " 'C:\\\\Users\\\\senatoduro8\\\\Poverty_center\\\\rand_gbm1.pkl_19.npy',\n",
       " 'C:\\\\Users\\\\senatoduro8\\\\Poverty_center\\\\rand_gbm1.pkl_20.npy',\n",
       " 'C:\\\\Users\\\\senatoduro8\\\\Poverty_center\\\\rand_gbm1.pkl_21.npy',\n",
       " 'C:\\\\Users\\\\senatoduro8\\\\Poverty_center\\\\rand_gbm1.pkl_22.npy',\n",
       " 'C:\\\\Users\\\\senatoduro8\\\\Poverty_center\\\\rand_gbm1.pkl_23.npy',\n",
       " 'C:\\\\Users\\\\senatoduro8\\\\Poverty_center\\\\rand_gbm1.pkl_24.npy',\n",
       " 'C:\\\\Users\\\\senatoduro8\\\\Poverty_center\\\\rand_gbm1.pkl_25.npy',\n",
       " 'C:\\\\Users\\\\senatoduro8\\\\Poverty_center\\\\rand_gbm1.pkl_26.npy',\n",
       " 'C:\\\\Users\\\\senatoduro8\\\\Poverty_center\\\\rand_gbm1.pkl_27.npy',\n",
       " 'C:\\\\Users\\\\senatoduro8\\\\Poverty_center\\\\rand_gbm1.pkl_28.npy',\n",
       " 'C:\\\\Users\\\\senatoduro8\\\\Poverty_center\\\\rand_gbm1.pkl_29.npy',\n",
       " 'C:\\\\Users\\\\senatoduro8\\\\Poverty_center\\\\rand_gbm1.pkl_30.npy',\n",
       " 'C:\\\\Users\\\\senatoduro8\\\\Poverty_center\\\\rand_gbm1.pkl_31.npy',\n",
       " 'C:\\\\Users\\\\senatoduro8\\\\Poverty_center\\\\rand_gbm1.pkl_32.npy',\n",
       " 'C:\\\\Users\\\\senatoduro8\\\\Poverty_center\\\\rand_gbm1.pkl_33.npy',\n",
       " 'C:\\\\Users\\\\senatoduro8\\\\Poverty_center\\\\rand_gbm1.pkl_34.npy',\n",
       " 'C:\\\\Users\\\\senatoduro8\\\\Poverty_center\\\\rand_gbm1.pkl_35.npy',\n",
       " 'C:\\\\Users\\\\senatoduro8\\\\Poverty_center\\\\rand_gbm1.pkl_36.npy',\n",
       " 'C:\\\\Users\\\\senatoduro8\\\\Poverty_center\\\\rand_gbm1.pkl_37.npy',\n",
       " 'C:\\\\Users\\\\senatoduro8\\\\Poverty_center\\\\rand_gbm1.pkl_38.npy',\n",
       " 'C:\\\\Users\\\\senatoduro8\\\\Poverty_center\\\\rand_gbm1.pkl_39.npy',\n",
       " 'C:\\\\Users\\\\senatoduro8\\\\Poverty_center\\\\rand_gbm1.pkl_40.npy',\n",
       " 'C:\\\\Users\\\\senatoduro8\\\\Poverty_center\\\\rand_gbm1.pkl_41.npy',\n",
       " 'C:\\\\Users\\\\senatoduro8\\\\Poverty_center\\\\rand_gbm1.pkl_42.npy',\n",
       " 'C:\\\\Users\\\\senatoduro8\\\\Poverty_center\\\\rand_gbm1.pkl_43.npy',\n",
       " 'C:\\\\Users\\\\senatoduro8\\\\Poverty_center\\\\rand_gbm1.pkl_44.npy',\n",
       " 'C:\\\\Users\\\\senatoduro8\\\\Poverty_center\\\\rand_gbm1.pkl_45.npy',\n",
       " 'C:\\\\Users\\\\senatoduro8\\\\Poverty_center\\\\rand_gbm1.pkl_46.npy',\n",
       " 'C:\\\\Users\\\\senatoduro8\\\\Poverty_center\\\\rand_gbm1.pkl_47.npy',\n",
       " 'C:\\\\Users\\\\senatoduro8\\\\Poverty_center\\\\rand_gbm1.pkl_48.npy',\n",
       " 'C:\\\\Users\\\\senatoduro8\\\\Poverty_center\\\\rand_gbm1.pkl_49.npy',\n",
       " 'C:\\\\Users\\\\senatoduro8\\\\Poverty_center\\\\rand_gbm1.pkl_50.npy',\n",
       " 'C:\\\\Users\\\\senatoduro8\\\\Poverty_center\\\\rand_gbm1.pkl_51.npy',\n",
       " 'C:\\\\Users\\\\senatoduro8\\\\Poverty_center\\\\rand_gbm1.pkl_52.npy',\n",
       " 'C:\\\\Users\\\\senatoduro8\\\\Poverty_center\\\\rand_gbm1.pkl_53.npy',\n",
       " 'C:\\\\Users\\\\senatoduro8\\\\Poverty_center\\\\rand_gbm1.pkl_54.npy',\n",
       " 'C:\\\\Users\\\\senatoduro8\\\\Poverty_center\\\\rand_gbm1.pkl_55.npy',\n",
       " 'C:\\\\Users\\\\senatoduro8\\\\Poverty_center\\\\rand_gbm1.pkl_56.npy',\n",
       " 'C:\\\\Users\\\\senatoduro8\\\\Poverty_center\\\\rand_gbm1.pkl_57.npy',\n",
       " 'C:\\\\Users\\\\senatoduro8\\\\Poverty_center\\\\rand_gbm1.pkl_58.npy',\n",
       " 'C:\\\\Users\\\\senatoduro8\\\\Poverty_center\\\\rand_gbm1.pkl_59.npy',\n",
       " 'C:\\\\Users\\\\senatoduro8\\\\Poverty_center\\\\rand_gbm1.pkl_60.npy',\n",
       " 'C:\\\\Users\\\\senatoduro8\\\\Poverty_center\\\\rand_gbm1.pkl_61.npy',\n",
       " 'C:\\\\Users\\\\senatoduro8\\\\Poverty_center\\\\rand_gbm1.pkl_62.npy',\n",
       " 'C:\\\\Users\\\\senatoduro8\\\\Poverty_center\\\\rand_gbm1.pkl_63.npy',\n",
       " 'C:\\\\Users\\\\senatoduro8\\\\Poverty_center\\\\rand_gbm1.pkl_64.npy',\n",
       " 'C:\\\\Users\\\\senatoduro8\\\\Poverty_center\\\\rand_gbm1.pkl_65.npy',\n",
       " 'C:\\\\Users\\\\senatoduro8\\\\Poverty_center\\\\rand_gbm1.pkl_66.npy',\n",
       " 'C:\\\\Users\\\\senatoduro8\\\\Poverty_center\\\\rand_gbm1.pkl_67.npy',\n",
       " 'C:\\\\Users\\\\senatoduro8\\\\Poverty_center\\\\rand_gbm1.pkl_68.npy',\n",
       " 'C:\\\\Users\\\\senatoduro8\\\\Poverty_center\\\\rand_gbm1.pkl_69.npy',\n",
       " 'C:\\\\Users\\\\senatoduro8\\\\Poverty_center\\\\rand_gbm1.pkl_70.npy',\n",
       " 'C:\\\\Users\\\\senatoduro8\\\\Poverty_center\\\\rand_gbm1.pkl_71.npy',\n",
       " 'C:\\\\Users\\\\senatoduro8\\\\Poverty_center\\\\rand_gbm1.pkl_72.npy',\n",
       " 'C:\\\\Users\\\\senatoduro8\\\\Poverty_center\\\\rand_gbm1.pkl_73.npy',\n",
       " 'C:\\\\Users\\\\senatoduro8\\\\Poverty_center\\\\rand_gbm1.pkl_74.npy',\n",
       " 'C:\\\\Users\\\\senatoduro8\\\\Poverty_center\\\\rand_gbm1.pkl_75.npy',\n",
       " 'C:\\\\Users\\\\senatoduro8\\\\Poverty_center\\\\rand_gbm1.pkl_76.npy',\n",
       " 'C:\\\\Users\\\\senatoduro8\\\\Poverty_center\\\\rand_gbm1.pkl_77.npy',\n",
       " 'C:\\\\Users\\\\senatoduro8\\\\Poverty_center\\\\rand_gbm1.pkl_78.npy',\n",
       " 'C:\\\\Users\\\\senatoduro8\\\\Poverty_center\\\\rand_gbm1.pkl_79.npy',\n",
       " 'C:\\\\Users\\\\senatoduro8\\\\Poverty_center\\\\rand_gbm1.pkl_80.npy',\n",
       " 'C:\\\\Users\\\\senatoduro8\\\\Poverty_center\\\\rand_gbm1.pkl_81.npy',\n",
       " 'C:\\\\Users\\\\senatoduro8\\\\Poverty_center\\\\rand_gbm1.pkl_82.npy',\n",
       " 'C:\\\\Users\\\\senatoduro8\\\\Poverty_center\\\\rand_gbm1.pkl_83.npy',\n",
       " 'C:\\\\Users\\\\senatoduro8\\\\Poverty_center\\\\rand_gbm1.pkl_84.npy',\n",
       " 'C:\\\\Users\\\\senatoduro8\\\\Poverty_center\\\\rand_gbm1.pkl_85.npy',\n",
       " 'C:\\\\Users\\\\senatoduro8\\\\Poverty_center\\\\rand_gbm1.pkl_86.npy',\n",
       " 'C:\\\\Users\\\\senatoduro8\\\\Poverty_center\\\\rand_gbm1.pkl_87.npy',\n",
       " 'C:\\\\Users\\\\senatoduro8\\\\Poverty_center\\\\rand_gbm1.pkl_88.npy',\n",
       " 'C:\\\\Users\\\\senatoduro8\\\\Poverty_center\\\\rand_gbm1.pkl_89.npy',\n",
       " 'C:\\\\Users\\\\senatoduro8\\\\Poverty_center\\\\rand_gbm1.pkl_90.npy',\n",
       " 'C:\\\\Users\\\\senatoduro8\\\\Poverty_center\\\\rand_gbm1.pkl_91.npy',\n",
       " 'C:\\\\Users\\\\senatoduro8\\\\Poverty_center\\\\rand_gbm1.pkl_92.npy',\n",
       " 'C:\\\\Users\\\\senatoduro8\\\\Poverty_center\\\\rand_gbm1.pkl_93.npy',\n",
       " 'C:\\\\Users\\\\senatoduro8\\\\Poverty_center\\\\rand_gbm1.pkl_94.npy',\n",
       " 'C:\\\\Users\\\\senatoduro8\\\\Poverty_center\\\\rand_gbm1.pkl_95.npy',\n",
       " 'C:\\\\Users\\\\senatoduro8\\\\Poverty_center\\\\rand_gbm1.pkl_96.npy',\n",
       " 'C:\\\\Users\\\\senatoduro8\\\\Poverty_center\\\\rand_gbm1.pkl_97.npy',\n",
       " 'C:\\\\Users\\\\senatoduro8\\\\Poverty_center\\\\rand_gbm1.pkl_98.npy',\n",
       " 'C:\\\\Users\\\\senatoduro8\\\\Poverty_center\\\\rand_gbm1.pkl_99.npy',\n",
       " 'C:\\\\Users\\\\senatoduro8\\\\Poverty_center\\\\rand_gbm1.pkl_100.npy',\n",
       " 'C:\\\\Users\\\\senatoduro8\\\\Poverty_center\\\\rand_gbm1.pkl_101.npy',\n",
       " 'C:\\\\Users\\\\senatoduro8\\\\Poverty_center\\\\rand_gbm1.pkl_102.npy',\n",
       " 'C:\\\\Users\\\\senatoduro8\\\\Poverty_center\\\\rand_gbm1.pkl_103.npy',\n",
       " 'C:\\\\Users\\\\senatoduro8\\\\Poverty_center\\\\rand_gbm1.pkl_104.npy',\n",
       " 'C:\\\\Users\\\\senatoduro8\\\\Poverty_center\\\\rand_gbm1.pkl_105.npy',\n",
       " 'C:\\\\Users\\\\senatoduro8\\\\Poverty_center\\\\rand_gbm1.pkl_106.npy',\n",
       " 'C:\\\\Users\\\\senatoduro8\\\\Poverty_center\\\\rand_gbm1.pkl_107.npy',\n",
       " 'C:\\\\Users\\\\senatoduro8\\\\Poverty_center\\\\rand_gbm1.pkl_108.npy',\n",
       " 'C:\\\\Users\\\\senatoduro8\\\\Poverty_center\\\\rand_gbm1.pkl_109.npy',\n",
       " 'C:\\\\Users\\\\senatoduro8\\\\Poverty_center\\\\rand_gbm1.pkl_110.npy',\n",
       " 'C:\\\\Users\\\\senatoduro8\\\\Poverty_center\\\\rand_gbm1.pkl_111.npy',\n",
       " 'C:\\\\Users\\\\senatoduro8\\\\Poverty_center\\\\rand_gbm1.pkl_112.npy',\n",
       " 'C:\\\\Users\\\\senatoduro8\\\\Poverty_center\\\\rand_gbm1.pkl_113.npy',\n",
       " 'C:\\\\Users\\\\senatoduro8\\\\Poverty_center\\\\rand_gbm1.pkl_114.npy',\n",
       " 'C:\\\\Users\\\\senatoduro8\\\\Poverty_center\\\\rand_gbm1.pkl_115.npy',\n",
       " 'C:\\\\Users\\\\senatoduro8\\\\Poverty_center\\\\rand_gbm1.pkl_116.npy',\n",
       " 'C:\\\\Users\\\\senatoduro8\\\\Poverty_center\\\\rand_gbm1.pkl_117.npy',\n",
       " 'C:\\\\Users\\\\senatoduro8\\\\Poverty_center\\\\rand_gbm1.pkl_118.npy',\n",
       " 'C:\\\\Users\\\\senatoduro8\\\\Poverty_center\\\\rand_gbm1.pkl_119.npy',\n",
       " 'C:\\\\Users\\\\senatoduro8\\\\Poverty_center\\\\rand_gbm1.pkl_120.npy',\n",
       " 'C:\\\\Users\\\\senatoduro8\\\\Poverty_center\\\\rand_gbm1.pkl_121.npy',\n",
       " 'C:\\\\Users\\\\senatoduro8\\\\Poverty_center\\\\rand_gbm1.pkl_122.npy',\n",
       " 'C:\\\\Users\\\\senatoduro8\\\\Poverty_center\\\\rand_gbm1.pkl_123.npy',\n",
       " 'C:\\\\Users\\\\senatoduro8\\\\Poverty_center\\\\rand_gbm1.pkl_124.npy',\n",
       " 'C:\\\\Users\\\\senatoduro8\\\\Poverty_center\\\\rand_gbm1.pkl_125.npy',\n",
       " 'C:\\\\Users\\\\senatoduro8\\\\Poverty_center\\\\rand_gbm1.pkl_126.npy',\n",
       " 'C:\\\\Users\\\\senatoduro8\\\\Poverty_center\\\\rand_gbm1.pkl_127.npy',\n",
       " 'C:\\\\Users\\\\senatoduro8\\\\Poverty_center\\\\rand_gbm1.pkl_128.npy',\n",
       " 'C:\\\\Users\\\\senatoduro8\\\\Poverty_center\\\\rand_gbm1.pkl_129.npy',\n",
       " 'C:\\\\Users\\\\senatoduro8\\\\Poverty_center\\\\rand_gbm1.pkl_130.npy',\n",
       " 'C:\\\\Users\\\\senatoduro8\\\\Poverty_center\\\\rand_gbm1.pkl_131.npy',\n",
       " 'C:\\\\Users\\\\senatoduro8\\\\Poverty_center\\\\rand_gbm1.pkl_132.npy',\n",
       " 'C:\\\\Users\\\\senatoduro8\\\\Poverty_center\\\\rand_gbm1.pkl_133.npy',\n",
       " 'C:\\\\Users\\\\senatoduro8\\\\Poverty_center\\\\rand_gbm1.pkl_134.npy',\n",
       " 'C:\\\\Users\\\\senatoduro8\\\\Poverty_center\\\\rand_gbm1.pkl_135.npy',\n",
       " 'C:\\\\Users\\\\senatoduro8\\\\Poverty_center\\\\rand_gbm1.pkl_136.npy',\n",
       " 'C:\\\\Users\\\\senatoduro8\\\\Poverty_center\\\\rand_gbm1.pkl_137.npy',\n",
       " 'C:\\\\Users\\\\senatoduro8\\\\Poverty_center\\\\rand_gbm1.pkl_138.npy',\n",
       " 'C:\\\\Users\\\\senatoduro8\\\\Poverty_center\\\\rand_gbm1.pkl_139.npy',\n",
       " 'C:\\\\Users\\\\senatoduro8\\\\Poverty_center\\\\rand_gbm1.pkl_140.npy',\n",
       " 'C:\\\\Users\\\\senatoduro8\\\\Poverty_center\\\\rand_gbm1.pkl_141.npy',\n",
       " 'C:\\\\Users\\\\senatoduro8\\\\Poverty_center\\\\rand_gbm1.pkl_142.npy',\n",
       " 'C:\\\\Users\\\\senatoduro8\\\\Poverty_center\\\\rand_gbm1.pkl_143.npy',\n",
       " 'C:\\\\Users\\\\senatoduro8\\\\Poverty_center\\\\rand_gbm1.pkl_144.npy',\n",
       " 'C:\\\\Users\\\\senatoduro8\\\\Poverty_center\\\\rand_gbm1.pkl_145.npy',\n",
       " 'C:\\\\Users\\\\senatoduro8\\\\Poverty_center\\\\rand_gbm1.pkl_146.npy',\n",
       " 'C:\\\\Users\\\\senatoduro8\\\\Poverty_center\\\\rand_gbm1.pkl_147.npy',\n",
       " 'C:\\\\Users\\\\senatoduro8\\\\Poverty_center\\\\rand_gbm1.pkl_148.npy',\n",
       " 'C:\\\\Users\\\\senatoduro8\\\\Poverty_center\\\\rand_gbm1.pkl_149.npy',\n",
       " 'C:\\\\Users\\\\senatoduro8\\\\Poverty_center\\\\rand_gbm1.pkl_150.npy',\n",
       " 'C:\\\\Users\\\\senatoduro8\\\\Poverty_center\\\\rand_gbm1.pkl_151.npy',\n",
       " 'C:\\\\Users\\\\senatoduro8\\\\Poverty_center\\\\rand_gbm1.pkl_152.npy',\n",
       " 'C:\\\\Users\\\\senatoduro8\\\\Poverty_center\\\\rand_gbm1.pkl_153.npy',\n",
       " 'C:\\\\Users\\\\senatoduro8\\\\Poverty_center\\\\rand_gbm1.pkl_154.npy',\n",
       " 'C:\\\\Users\\\\senatoduro8\\\\Poverty_center\\\\rand_gbm1.pkl_155.npy',\n",
       " 'C:\\\\Users\\\\senatoduro8\\\\Poverty_center\\\\rand_gbm1.pkl_156.npy',\n",
       " 'C:\\\\Users\\\\senatoduro8\\\\Poverty_center\\\\rand_gbm1.pkl_157.npy',\n",
       " 'C:\\\\Users\\\\senatoduro8\\\\Poverty_center\\\\rand_gbm1.pkl_158.npy',\n",
       " 'C:\\\\Users\\\\senatoduro8\\\\Poverty_center\\\\rand_gbm1.pkl_159.npy',\n",
       " 'C:\\\\Users\\\\senatoduro8\\\\Poverty_center\\\\rand_gbm1.pkl_160.npy',\n",
       " 'C:\\\\Users\\\\senatoduro8\\\\Poverty_center\\\\rand_gbm1.pkl_161.npy',\n",
       " 'C:\\\\Users\\\\senatoduro8\\\\Poverty_center\\\\rand_gbm1.pkl_162.npy',\n",
       " 'C:\\\\Users\\\\senatoduro8\\\\Poverty_center\\\\rand_gbm1.pkl_163.npy',\n",
       " 'C:\\\\Users\\\\senatoduro8\\\\Poverty_center\\\\rand_gbm1.pkl_164.npy',\n",
       " 'C:\\\\Users\\\\senatoduro8\\\\Poverty_center\\\\rand_gbm1.pkl_165.npy',\n",
       " 'C:\\\\Users\\\\senatoduro8\\\\Poverty_center\\\\rand_gbm1.pkl_166.npy',\n",
       " 'C:\\\\Users\\\\senatoduro8\\\\Poverty_center\\\\rand_gbm1.pkl_167.npy',\n",
       " 'C:\\\\Users\\\\senatoduro8\\\\Poverty_center\\\\rand_gbm1.pkl_168.npy',\n",
       " 'C:\\\\Users\\\\senatoduro8\\\\Poverty_center\\\\rand_gbm1.pkl_169.npy',\n",
       " 'C:\\\\Users\\\\senatoduro8\\\\Poverty_center\\\\rand_gbm1.pkl_170.npy',\n",
       " 'C:\\\\Users\\\\senatoduro8\\\\Poverty_center\\\\rand_gbm1.pkl_171.npy',\n",
       " 'C:\\\\Users\\\\senatoduro8\\\\Poverty_center\\\\rand_gbm1.pkl_172.npy',\n",
       " 'C:\\\\Users\\\\senatoduro8\\\\Poverty_center\\\\rand_gbm1.pkl_173.npy',\n",
       " 'C:\\\\Users\\\\senatoduro8\\\\Poverty_center\\\\rand_gbm1.pkl_174.npy',\n",
       " 'C:\\\\Users\\\\senatoduro8\\\\Poverty_center\\\\rand_gbm1.pkl_175.npy',\n",
       " 'C:\\\\Users\\\\senatoduro8\\\\Poverty_center\\\\rand_gbm1.pkl_176.npy',\n",
       " 'C:\\\\Users\\\\senatoduro8\\\\Poverty_center\\\\rand_gbm1.pkl_177.npy',\n",
       " 'C:\\\\Users\\\\senatoduro8\\\\Poverty_center\\\\rand_gbm1.pkl_178.npy',\n",
       " 'C:\\\\Users\\\\senatoduro8\\\\Poverty_center\\\\rand_gbm1.pkl_179.npy',\n",
       " 'C:\\\\Users\\\\senatoduro8\\\\Poverty_center\\\\rand_gbm1.pkl_180.npy',\n",
       " 'C:\\\\Users\\\\senatoduro8\\\\Poverty_center\\\\rand_gbm1.pkl_181.npy',\n",
       " 'C:\\\\Users\\\\senatoduro8\\\\Poverty_center\\\\rand_gbm1.pkl_182.npy',\n",
       " 'C:\\\\Users\\\\senatoduro8\\\\Poverty_center\\\\rand_gbm1.pkl_183.npy',\n",
       " 'C:\\\\Users\\\\senatoduro8\\\\Poverty_center\\\\rand_gbm1.pkl_184.npy',\n",
       " 'C:\\\\Users\\\\senatoduro8\\\\Poverty_center\\\\rand_gbm1.pkl_185.npy',\n",
       " 'C:\\\\Users\\\\senatoduro8\\\\Poverty_center\\\\rand_gbm1.pkl_186.npy',\n",
       " 'C:\\\\Users\\\\senatoduro8\\\\Poverty_center\\\\rand_gbm1.pkl_187.npy',\n",
       " 'C:\\\\Users\\\\senatoduro8\\\\Poverty_center\\\\rand_gbm1.pkl_188.npy',\n",
       " 'C:\\\\Users\\\\senatoduro8\\\\Poverty_center\\\\rand_gbm1.pkl_189.npy',\n",
       " 'C:\\\\Users\\\\senatoduro8\\\\Poverty_center\\\\rand_gbm1.pkl_190.npy',\n",
       " 'C:\\\\Users\\\\senatoduro8\\\\Poverty_center\\\\rand_gbm1.pkl_191.npy',\n",
       " 'C:\\\\Users\\\\senatoduro8\\\\Poverty_center\\\\rand_gbm1.pkl_192.npy',\n",
       " 'C:\\\\Users\\\\senatoduro8\\\\Poverty_center\\\\rand_gbm1.pkl_193.npy',\n",
       " 'C:\\\\Users\\\\senatoduro8\\\\Poverty_center\\\\rand_gbm1.pkl_194.npy',\n",
       " 'C:\\\\Users\\\\senatoduro8\\\\Poverty_center\\\\rand_gbm1.pkl_195.npy',\n",
       " 'C:\\\\Users\\\\senatoduro8\\\\Poverty_center\\\\rand_gbm1.pkl_196.npy',\n",
       " 'C:\\\\Users\\\\senatoduro8\\\\Poverty_center\\\\rand_gbm1.pkl_197.npy',\n",
       " 'C:\\\\Users\\\\senatoduro8\\\\Poverty_center\\\\rand_gbm1.pkl_198.npy',\n",
       " 'C:\\\\Users\\\\senatoduro8\\\\Poverty_center\\\\rand_gbm1.pkl_199.npy',\n",
       " 'C:\\\\Users\\\\senatoduro8\\\\Poverty_center\\\\rand_gbm1.pkl_200.npy',\n",
       " 'C:\\\\Users\\\\senatoduro8\\\\Poverty_center\\\\rand_gbm1.pkl_201.npy',\n",
       " 'C:\\\\Users\\\\senatoduro8\\\\Poverty_center\\\\rand_gbm1.pkl_202.npy',\n",
       " 'C:\\\\Users\\\\senatoduro8\\\\Poverty_center\\\\rand_gbm1.pkl_203.npy',\n",
       " 'C:\\\\Users\\\\senatoduro8\\\\Poverty_center\\\\rand_gbm1.pkl_204.npy',\n",
       " 'C:\\\\Users\\\\senatoduro8\\\\Poverty_center\\\\rand_gbm1.pkl_205.npy',\n",
       " 'C:\\\\Users\\\\senatoduro8\\\\Poverty_center\\\\rand_gbm1.pkl_206.npy',\n",
       " 'C:\\\\Users\\\\senatoduro8\\\\Poverty_center\\\\rand_gbm1.pkl_207.npy',\n",
       " 'C:\\\\Users\\\\senatoduro8\\\\Poverty_center\\\\rand_gbm1.pkl_208.npy',\n",
       " 'C:\\\\Users\\\\senatoduro8\\\\Poverty_center\\\\rand_gbm1.pkl_209.npy',\n",
       " 'C:\\\\Users\\\\senatoduro8\\\\Poverty_center\\\\rand_gbm1.pkl_210.npy',\n",
       " 'C:\\\\Users\\\\senatoduro8\\\\Poverty_center\\\\rand_gbm1.pkl_211.npy',\n",
       " 'C:\\\\Users\\\\senatoduro8\\\\Poverty_center\\\\rand_gbm1.pkl_212.npy',\n",
       " 'C:\\\\Users\\\\senatoduro8\\\\Poverty_center\\\\rand_gbm1.pkl_213.npy',\n",
       " 'C:\\\\Users\\\\senatoduro8\\\\Poverty_center\\\\rand_gbm1.pkl_214.npy',\n",
       " 'C:\\\\Users\\\\senatoduro8\\\\Poverty_center\\\\rand_gbm1.pkl_215.npy',\n",
       " 'C:\\\\Users\\\\senatoduro8\\\\Poverty_center\\\\rand_gbm1.pkl_216.npy',\n",
       " 'C:\\\\Users\\\\senatoduro8\\\\Poverty_center\\\\rand_gbm1.pkl_217.npy',\n",
       " 'C:\\\\Users\\\\senatoduro8\\\\Poverty_center\\\\rand_gbm1.pkl_218.npy',\n",
       " 'C:\\\\Users\\\\senatoduro8\\\\Poverty_center\\\\rand_gbm1.pkl_219.npy',\n",
       " 'C:\\\\Users\\\\senatoduro8\\\\Poverty_center\\\\rand_gbm1.pkl_220.npy',\n",
       " 'C:\\\\Users\\\\senatoduro8\\\\Poverty_center\\\\rand_gbm1.pkl_221.npy',\n",
       " 'C:\\\\Users\\\\senatoduro8\\\\Poverty_center\\\\rand_gbm1.pkl_222.npy',\n",
       " 'C:\\\\Users\\\\senatoduro8\\\\Poverty_center\\\\rand_gbm1.pkl_223.npy',\n",
       " 'C:\\\\Users\\\\senatoduro8\\\\Poverty_center\\\\rand_gbm1.pkl_224.npy',\n",
       " 'C:\\\\Users\\\\senatoduro8\\\\Poverty_center\\\\rand_gbm1.pkl_225.npy',\n",
       " 'C:\\\\Users\\\\senatoduro8\\\\Poverty_center\\\\rand_gbm1.pkl_226.npy',\n",
       " 'C:\\\\Users\\\\senatoduro8\\\\Poverty_center\\\\rand_gbm1.pkl_227.npy',\n",
       " 'C:\\\\Users\\\\senatoduro8\\\\Poverty_center\\\\rand_gbm1.pkl_228.npy',\n",
       " 'C:\\\\Users\\\\senatoduro8\\\\Poverty_center\\\\rand_gbm1.pkl_229.npy',\n",
       " 'C:\\\\Users\\\\senatoduro8\\\\Poverty_center\\\\rand_gbm1.pkl_230.npy',\n",
       " 'C:\\\\Users\\\\senatoduro8\\\\Poverty_center\\\\rand_gbm1.pkl_231.npy',\n",
       " 'C:\\\\Users\\\\senatoduro8\\\\Poverty_center\\\\rand_gbm1.pkl_232.npy',\n",
       " 'C:\\\\Users\\\\senatoduro8\\\\Poverty_center\\\\rand_gbm1.pkl_233.npy',\n",
       " 'C:\\\\Users\\\\senatoduro8\\\\Poverty_center\\\\rand_gbm1.pkl_234.npy',\n",
       " 'C:\\\\Users\\\\senatoduro8\\\\Poverty_center\\\\rand_gbm1.pkl_235.npy',\n",
       " 'C:\\\\Users\\\\senatoduro8\\\\Poverty_center\\\\rand_gbm1.pkl_236.npy',\n",
       " 'C:\\\\Users\\\\senatoduro8\\\\Poverty_center\\\\rand_gbm1.pkl_237.npy',\n",
       " 'C:\\\\Users\\\\senatoduro8\\\\Poverty_center\\\\rand_gbm1.pkl_238.npy',\n",
       " 'C:\\\\Users\\\\senatoduro8\\\\Poverty_center\\\\rand_gbm1.pkl_239.npy',\n",
       " 'C:\\\\Users\\\\senatoduro8\\\\Poverty_center\\\\rand_gbm1.pkl_240.npy',\n",
       " 'C:\\\\Users\\\\senatoduro8\\\\Poverty_center\\\\rand_gbm1.pkl_241.npy',\n",
       " 'C:\\\\Users\\\\senatoduro8\\\\Poverty_center\\\\rand_gbm1.pkl_242.npy',\n",
       " 'C:\\\\Users\\\\senatoduro8\\\\Poverty_center\\\\rand_gbm1.pkl_243.npy',\n",
       " 'C:\\\\Users\\\\senatoduro8\\\\Poverty_center\\\\rand_gbm1.pkl_244.npy',\n",
       " 'C:\\\\Users\\\\senatoduro8\\\\Poverty_center\\\\rand_gbm1.pkl_245.npy',\n",
       " 'C:\\\\Users\\\\senatoduro8\\\\Poverty_center\\\\rand_gbm1.pkl_246.npy',\n",
       " 'C:\\\\Users\\\\senatoduro8\\\\Poverty_center\\\\rand_gbm1.pkl_247.npy',\n",
       " 'C:\\\\Users\\\\senatoduro8\\\\Poverty_center\\\\rand_gbm1.pkl_248.npy',\n",
       " 'C:\\\\Users\\\\senatoduro8\\\\Poverty_center\\\\rand_gbm1.pkl_249.npy',\n",
       " 'C:\\\\Users\\\\senatoduro8\\\\Poverty_center\\\\rand_gbm1.pkl_250.npy',\n",
       " 'C:\\\\Users\\\\senatoduro8\\\\Poverty_center\\\\rand_gbm1.pkl_251.npy',\n",
       " 'C:\\\\Users\\\\senatoduro8\\\\Poverty_center\\\\rand_gbm1.pkl_252.npy',\n",
       " 'C:\\\\Users\\\\senatoduro8\\\\Poverty_center\\\\rand_gbm1.pkl_253.npy',\n",
       " 'C:\\\\Users\\\\senatoduro8\\\\Poverty_center\\\\rand_gbm1.pkl_254.npy',\n",
       " 'C:\\\\Users\\\\senatoduro8\\\\Poverty_center\\\\rand_gbm1.pkl_255.npy',\n",
       " 'C:\\\\Users\\\\senatoduro8\\\\Poverty_center\\\\rand_gbm1.pkl_256.npy',\n",
       " 'C:\\\\Users\\\\senatoduro8\\\\Poverty_center\\\\rand_gbm1.pkl_257.npy',\n",
       " 'C:\\\\Users\\\\senatoduro8\\\\Poverty_center\\\\rand_gbm1.pkl_258.npy',\n",
       " 'C:\\\\Users\\\\senatoduro8\\\\Poverty_center\\\\rand_gbm1.pkl_259.npy',\n",
       " 'C:\\\\Users\\\\senatoduro8\\\\Poverty_center\\\\rand_gbm1.pkl_260.npy',\n",
       " 'C:\\\\Users\\\\senatoduro8\\\\Poverty_center\\\\rand_gbm1.pkl_261.npy',\n",
       " 'C:\\\\Users\\\\senatoduro8\\\\Poverty_center\\\\rand_gbm1.pkl_262.npy',\n",
       " 'C:\\\\Users\\\\senatoduro8\\\\Poverty_center\\\\rand_gbm1.pkl_263.npy',\n",
       " 'C:\\\\Users\\\\senatoduro8\\\\Poverty_center\\\\rand_gbm1.pkl_264.npy',\n",
       " 'C:\\\\Users\\\\senatoduro8\\\\Poverty_center\\\\rand_gbm1.pkl_265.npy',\n",
       " 'C:\\\\Users\\\\senatoduro8\\\\Poverty_center\\\\rand_gbm1.pkl_266.npy',\n",
       " 'C:\\\\Users\\\\senatoduro8\\\\Poverty_center\\\\rand_gbm1.pkl_267.npy',\n",
       " 'C:\\\\Users\\\\senatoduro8\\\\Poverty_center\\\\rand_gbm1.pkl_268.npy',\n",
       " 'C:\\\\Users\\\\senatoduro8\\\\Poverty_center\\\\rand_gbm1.pkl_269.npy',\n",
       " 'C:\\\\Users\\\\senatoduro8\\\\Poverty_center\\\\rand_gbm1.pkl_270.npy',\n",
       " 'C:\\\\Users\\\\senatoduro8\\\\Poverty_center\\\\rand_gbm1.pkl_271.npy',\n",
       " 'C:\\\\Users\\\\senatoduro8\\\\Poverty_center\\\\rand_gbm1.pkl_272.npy',\n",
       " 'C:\\\\Users\\\\senatoduro8\\\\Poverty_center\\\\rand_gbm1.pkl_273.npy',\n",
       " 'C:\\\\Users\\\\senatoduro8\\\\Poverty_center\\\\rand_gbm1.pkl_274.npy',\n",
       " 'C:\\\\Users\\\\senatoduro8\\\\Poverty_center\\\\rand_gbm1.pkl_275.npy',\n",
       " 'C:\\\\Users\\\\senatoduro8\\\\Poverty_center\\\\rand_gbm1.pkl_276.npy',\n",
       " 'C:\\\\Users\\\\senatoduro8\\\\Poverty_center\\\\rand_gbm1.pkl_277.npy',\n",
       " 'C:\\\\Users\\\\senatoduro8\\\\Poverty_center\\\\rand_gbm1.pkl_278.npy',\n",
       " 'C:\\\\Users\\\\senatoduro8\\\\Poverty_center\\\\rand_gbm1.pkl_279.npy',\n",
       " 'C:\\\\Users\\\\senatoduro8\\\\Poverty_center\\\\rand_gbm1.pkl_280.npy',\n",
       " 'C:\\\\Users\\\\senatoduro8\\\\Poverty_center\\\\rand_gbm1.pkl_281.npy',\n",
       " 'C:\\\\Users\\\\senatoduro8\\\\Poverty_center\\\\rand_gbm1.pkl_282.npy',\n",
       " 'C:\\\\Users\\\\senatoduro8\\\\Poverty_center\\\\rand_gbm1.pkl_283.npy',\n",
       " 'C:\\\\Users\\\\senatoduro8\\\\Poverty_center\\\\rand_gbm1.pkl_284.npy',\n",
       " 'C:\\\\Users\\\\senatoduro8\\\\Poverty_center\\\\rand_gbm1.pkl_285.npy',\n",
       " 'C:\\\\Users\\\\senatoduro8\\\\Poverty_center\\\\rand_gbm1.pkl_286.npy',\n",
       " 'C:\\\\Users\\\\senatoduro8\\\\Poverty_center\\\\rand_gbm1.pkl_287.npy',\n",
       " 'C:\\\\Users\\\\senatoduro8\\\\Poverty_center\\\\rand_gbm1.pkl_288.npy',\n",
       " 'C:\\\\Users\\\\senatoduro8\\\\Poverty_center\\\\rand_gbm1.pkl_289.npy',\n",
       " 'C:\\\\Users\\\\senatoduro8\\\\Poverty_center\\\\rand_gbm1.pkl_290.npy',\n",
       " 'C:\\\\Users\\\\senatoduro8\\\\Poverty_center\\\\rand_gbm1.pkl_291.npy',\n",
       " 'C:\\\\Users\\\\senatoduro8\\\\Poverty_center\\\\rand_gbm1.pkl_292.npy',\n",
       " 'C:\\\\Users\\\\senatoduro8\\\\Poverty_center\\\\rand_gbm1.pkl_293.npy',\n",
       " 'C:\\\\Users\\\\senatoduro8\\\\Poverty_center\\\\rand_gbm1.pkl_294.npy',\n",
       " 'C:\\\\Users\\\\senatoduro8\\\\Poverty_center\\\\rand_gbm1.pkl_295.npy',\n",
       " 'C:\\\\Users\\\\senatoduro8\\\\Poverty_center\\\\rand_gbm1.pkl_296.npy',\n",
       " 'C:\\\\Users\\\\senatoduro8\\\\Poverty_center\\\\rand_gbm1.pkl_297.npy',\n",
       " 'C:\\\\Users\\\\senatoduro8\\\\Poverty_center\\\\rand_gbm1.pkl_298.npy',\n",
       " 'C:\\\\Users\\\\senatoduro8\\\\Poverty_center\\\\rand_gbm1.pkl_299.npy',\n",
       " 'C:\\\\Users\\\\senatoduro8\\\\Poverty_center\\\\rand_gbm1.pkl_300.npy',\n",
       " 'C:\\\\Users\\\\senatoduro8\\\\Poverty_center\\\\rand_gbm1.pkl_301.npy',\n",
       " 'C:\\\\Users\\\\senatoduro8\\\\Poverty_center\\\\rand_gbm1.pkl_302.npy',\n",
       " 'C:\\\\Users\\\\senatoduro8\\\\Poverty_center\\\\rand_gbm1.pkl_303.npy',\n",
       " 'C:\\\\Users\\\\senatoduro8\\\\Poverty_center\\\\rand_gbm1.pkl_304.npy',\n",
       " 'C:\\\\Users\\\\senatoduro8\\\\Poverty_center\\\\rand_gbm1.pkl_305.npy',\n",
       " 'C:\\\\Users\\\\senatoduro8\\\\Poverty_center\\\\rand_gbm1.pkl_306.npy',\n",
       " 'C:\\\\Users\\\\senatoduro8\\\\Poverty_center\\\\rand_gbm1.pkl_307.npy',\n",
       " 'C:\\\\Users\\\\senatoduro8\\\\Poverty_center\\\\rand_gbm1.pkl_308.npy',\n",
       " 'C:\\\\Users\\\\senatoduro8\\\\Poverty_center\\\\rand_gbm1.pkl_309.npy',\n",
       " 'C:\\\\Users\\\\senatoduro8\\\\Poverty_center\\\\rand_gbm1.pkl_310.npy',\n",
       " 'C:\\\\Users\\\\senatoduro8\\\\Poverty_center\\\\rand_gbm1.pkl_311.npy',\n",
       " 'C:\\\\Users\\\\senatoduro8\\\\Poverty_center\\\\rand_gbm1.pkl_312.npy',\n",
       " 'C:\\\\Users\\\\senatoduro8\\\\Poverty_center\\\\rand_gbm1.pkl_313.npy',\n",
       " 'C:\\\\Users\\\\senatoduro8\\\\Poverty_center\\\\rand_gbm1.pkl_314.npy',\n",
       " 'C:\\\\Users\\\\senatoduro8\\\\Poverty_center\\\\rand_gbm1.pkl_315.npy',\n",
       " 'C:\\\\Users\\\\senatoduro8\\\\Poverty_center\\\\rand_gbm1.pkl_316.npy',\n",
       " 'C:\\\\Users\\\\senatoduro8\\\\Poverty_center\\\\rand_gbm1.pkl_317.npy',\n",
       " 'C:\\\\Users\\\\senatoduro8\\\\Poverty_center\\\\rand_gbm1.pkl_318.npy',\n",
       " 'C:\\\\Users\\\\senatoduro8\\\\Poverty_center\\\\rand_gbm1.pkl_319.npy',\n",
       " 'C:\\\\Users\\\\senatoduro8\\\\Poverty_center\\\\rand_gbm1.pkl_320.npy',\n",
       " 'C:\\\\Users\\\\senatoduro8\\\\Poverty_center\\\\rand_gbm1.pkl_321.npy',\n",
       " 'C:\\\\Users\\\\senatoduro8\\\\Poverty_center\\\\rand_gbm1.pkl_322.npy',\n",
       " 'C:\\\\Users\\\\senatoduro8\\\\Poverty_center\\\\rand_gbm1.pkl_323.npy',\n",
       " 'C:\\\\Users\\\\senatoduro8\\\\Poverty_center\\\\rand_gbm1.pkl_324.npy',\n",
       " 'C:\\\\Users\\\\senatoduro8\\\\Poverty_center\\\\rand_gbm1.pkl_325.npy',\n",
       " 'C:\\\\Users\\\\senatoduro8\\\\Poverty_center\\\\rand_gbm1.pkl_326.npy',\n",
       " 'C:\\\\Users\\\\senatoduro8\\\\Poverty_center\\\\rand_gbm1.pkl_327.npy',\n",
       " 'C:\\\\Users\\\\senatoduro8\\\\Poverty_center\\\\rand_gbm1.pkl_328.npy',\n",
       " 'C:\\\\Users\\\\senatoduro8\\\\Poverty_center\\\\rand_gbm1.pkl_329.npy',\n",
       " 'C:\\\\Users\\\\senatoduro8\\\\Poverty_center\\\\rand_gbm1.pkl_330.npy',\n",
       " 'C:\\\\Users\\\\senatoduro8\\\\Poverty_center\\\\rand_gbm1.pkl_331.npy',\n",
       " 'C:\\\\Users\\\\senatoduro8\\\\Poverty_center\\\\rand_gbm1.pkl_332.npy',\n",
       " 'C:\\\\Users\\\\senatoduro8\\\\Poverty_center\\\\rand_gbm1.pkl_333.npy',\n",
       " 'C:\\\\Users\\\\senatoduro8\\\\Poverty_center\\\\rand_gbm1.pkl_334.npy',\n",
       " 'C:\\\\Users\\\\senatoduro8\\\\Poverty_center\\\\rand_gbm1.pkl_335.npy',\n",
       " 'C:\\\\Users\\\\senatoduro8\\\\Poverty_center\\\\rand_gbm1.pkl_336.npy',\n",
       " 'C:\\\\Users\\\\senatoduro8\\\\Poverty_center\\\\rand_gbm1.pkl_337.npy',\n",
       " 'C:\\\\Users\\\\senatoduro8\\\\Poverty_center\\\\rand_gbm1.pkl_338.npy',\n",
       " 'C:\\\\Users\\\\senatoduro8\\\\Poverty_center\\\\rand_gbm1.pkl_339.npy',\n",
       " 'C:\\\\Users\\\\senatoduro8\\\\Poverty_center\\\\rand_gbm1.pkl_340.npy',\n",
       " 'C:\\\\Users\\\\senatoduro8\\\\Poverty_center\\\\rand_gbm1.pkl_341.npy',\n",
       " 'C:\\\\Users\\\\senatoduro8\\\\Poverty_center\\\\rand_gbm1.pkl_342.npy',\n",
       " 'C:\\\\Users\\\\senatoduro8\\\\Poverty_center\\\\rand_gbm1.pkl_343.npy',\n",
       " 'C:\\\\Users\\\\senatoduro8\\\\Poverty_center\\\\rand_gbm1.pkl_344.npy',\n",
       " 'C:\\\\Users\\\\senatoduro8\\\\Poverty_center\\\\rand_gbm1.pkl_345.npy',\n",
       " 'C:\\\\Users\\\\senatoduro8\\\\Poverty_center\\\\rand_gbm1.pkl_346.npy',\n",
       " 'C:\\\\Users\\\\senatoduro8\\\\Poverty_center\\\\rand_gbm1.pkl_347.npy',\n",
       " 'C:\\\\Users\\\\senatoduro8\\\\Poverty_center\\\\rand_gbm1.pkl_348.npy',\n",
       " 'C:\\\\Users\\\\senatoduro8\\\\Poverty_center\\\\rand_gbm1.pkl_349.npy',\n",
       " 'C:\\\\Users\\\\senatoduro8\\\\Poverty_center\\\\rand_gbm1.pkl_350.npy',\n",
       " 'C:\\\\Users\\\\senatoduro8\\\\Poverty_center\\\\rand_gbm1.pkl_351.npy',\n",
       " 'C:\\\\Users\\\\senatoduro8\\\\Poverty_center\\\\rand_gbm1.pkl_352.npy',\n",
       " 'C:\\\\Users\\\\senatoduro8\\\\Poverty_center\\\\rand_gbm1.pkl_353.npy',\n",
       " 'C:\\\\Users\\\\senatoduro8\\\\Poverty_center\\\\rand_gbm1.pkl_354.npy',\n",
       " 'C:\\\\Users\\\\senatoduro8\\\\Poverty_center\\\\rand_gbm1.pkl_355.npy',\n",
       " 'C:\\\\Users\\\\senatoduro8\\\\Poverty_center\\\\rand_gbm1.pkl_356.npy',\n",
       " 'C:\\\\Users\\\\senatoduro8\\\\Poverty_center\\\\rand_gbm1.pkl_357.npy',\n",
       " 'C:\\\\Users\\\\senatoduro8\\\\Poverty_center\\\\rand_gbm1.pkl_358.npy',\n",
       " 'C:\\\\Users\\\\senatoduro8\\\\Poverty_center\\\\rand_gbm1.pkl_359.npy',\n",
       " 'C:\\\\Users\\\\senatoduro8\\\\Poverty_center\\\\rand_gbm1.pkl_360.npy',\n",
       " 'C:\\\\Users\\\\senatoduro8\\\\Poverty_center\\\\rand_gbm1.pkl_361.npy',\n",
       " 'C:\\\\Users\\\\senatoduro8\\\\Poverty_center\\\\rand_gbm1.pkl_362.npy',\n",
       " 'C:\\\\Users\\\\senatoduro8\\\\Poverty_center\\\\rand_gbm1.pkl_363.npy',\n",
       " 'C:\\\\Users\\\\senatoduro8\\\\Poverty_center\\\\rand_gbm1.pkl_364.npy',\n",
       " 'C:\\\\Users\\\\senatoduro8\\\\Poverty_center\\\\rand_gbm1.pkl_365.npy',\n",
       " 'C:\\\\Users\\\\senatoduro8\\\\Poverty_center\\\\rand_gbm1.pkl_366.npy',\n",
       " 'C:\\\\Users\\\\senatoduro8\\\\Poverty_center\\\\rand_gbm1.pkl_367.npy',\n",
       " 'C:\\\\Users\\\\senatoduro8\\\\Poverty_center\\\\rand_gbm1.pkl_368.npy',\n",
       " 'C:\\\\Users\\\\senatoduro8\\\\Poverty_center\\\\rand_gbm1.pkl_369.npy',\n",
       " 'C:\\\\Users\\\\senatoduro8\\\\Poverty_center\\\\rand_gbm1.pkl_370.npy',\n",
       " 'C:\\\\Users\\\\senatoduro8\\\\Poverty_center\\\\rand_gbm1.pkl_371.npy',\n",
       " 'C:\\\\Users\\\\senatoduro8\\\\Poverty_center\\\\rand_gbm1.pkl_372.npy',\n",
       " 'C:\\\\Users\\\\senatoduro8\\\\Poverty_center\\\\rand_gbm1.pkl_373.npy',\n",
       " 'C:\\\\Users\\\\senatoduro8\\\\Poverty_center\\\\rand_gbm1.pkl_374.npy',\n",
       " 'C:\\\\Users\\\\senatoduro8\\\\Poverty_center\\\\rand_gbm1.pkl_375.npy',\n",
       " 'C:\\\\Users\\\\senatoduro8\\\\Poverty_center\\\\rand_gbm1.pkl_376.npy',\n",
       " 'C:\\\\Users\\\\senatoduro8\\\\Poverty_center\\\\rand_gbm1.pkl_377.npy',\n",
       " 'C:\\\\Users\\\\senatoduro8\\\\Poverty_center\\\\rand_gbm1.pkl_378.npy',\n",
       " 'C:\\\\Users\\\\senatoduro8\\\\Poverty_center\\\\rand_gbm1.pkl_379.npy',\n",
       " 'C:\\\\Users\\\\senatoduro8\\\\Poverty_center\\\\rand_gbm1.pkl_380.npy',\n",
       " 'C:\\\\Users\\\\senatoduro8\\\\Poverty_center\\\\rand_gbm1.pkl_381.npy',\n",
       " 'C:\\\\Users\\\\senatoduro8\\\\Poverty_center\\\\rand_gbm1.pkl_382.npy',\n",
       " 'C:\\\\Users\\\\senatoduro8\\\\Poverty_center\\\\rand_gbm1.pkl_383.npy',\n",
       " 'C:\\\\Users\\\\senatoduro8\\\\Poverty_center\\\\rand_gbm1.pkl_384.npy',\n",
       " 'C:\\\\Users\\\\senatoduro8\\\\Poverty_center\\\\rand_gbm1.pkl_385.npy',\n",
       " 'C:\\\\Users\\\\senatoduro8\\\\Poverty_center\\\\rand_gbm1.pkl_386.npy',\n",
       " 'C:\\\\Users\\\\senatoduro8\\\\Poverty_center\\\\rand_gbm1.pkl_387.npy',\n",
       " 'C:\\\\Users\\\\senatoduro8\\\\Poverty_center\\\\rand_gbm1.pkl_388.npy',\n",
       " 'C:\\\\Users\\\\senatoduro8\\\\Poverty_center\\\\rand_gbm1.pkl_389.npy',\n",
       " 'C:\\\\Users\\\\senatoduro8\\\\Poverty_center\\\\rand_gbm1.pkl_390.npy',\n",
       " 'C:\\\\Users\\\\senatoduro8\\\\Poverty_center\\\\rand_gbm1.pkl_391.npy',\n",
       " 'C:\\\\Users\\\\senatoduro8\\\\Poverty_center\\\\rand_gbm1.pkl_392.npy',\n",
       " 'C:\\\\Users\\\\senatoduro8\\\\Poverty_center\\\\rand_gbm1.pkl_393.npy',\n",
       " 'C:\\\\Users\\\\senatoduro8\\\\Poverty_center\\\\rand_gbm1.pkl_394.npy',\n",
       " 'C:\\\\Users\\\\senatoduro8\\\\Poverty_center\\\\rand_gbm1.pkl_395.npy',\n",
       " 'C:\\\\Users\\\\senatoduro8\\\\Poverty_center\\\\rand_gbm1.pkl_396.npy',\n",
       " 'C:\\\\Users\\\\senatoduro8\\\\Poverty_center\\\\rand_gbm1.pkl_397.npy',\n",
       " 'C:\\\\Users\\\\senatoduro8\\\\Poverty_center\\\\rand_gbm1.pkl_398.npy',\n",
       " 'C:\\\\Users\\\\senatoduro8\\\\Poverty_center\\\\rand_gbm1.pkl_399.npy',\n",
       " 'C:\\\\Users\\\\senatoduro8\\\\Poverty_center\\\\rand_gbm1.pkl_400.npy',\n",
       " 'C:\\\\Users\\\\senatoduro8\\\\Poverty_center\\\\rand_gbm1.pkl_401.npy',\n",
       " 'C:\\\\Users\\\\senatoduro8\\\\Poverty_center\\\\rand_gbm1.pkl_402.npy',\n",
       " 'C:\\\\Users\\\\senatoduro8\\\\Poverty_center\\\\rand_gbm1.pkl_403.npy',\n",
       " 'C:\\\\Users\\\\senatoduro8\\\\Poverty_center\\\\rand_gbm1.pkl_404.npy',\n",
       " 'C:\\\\Users\\\\senatoduro8\\\\Poverty_center\\\\rand_gbm1.pkl_405.npy',\n",
       " 'C:\\\\Users\\\\senatoduro8\\\\Poverty_center\\\\rand_gbm1.pkl_406.npy',\n",
       " 'C:\\\\Users\\\\senatoduro8\\\\Poverty_center\\\\rand_gbm1.pkl_407.npy',\n",
       " 'C:\\\\Users\\\\senatoduro8\\\\Poverty_center\\\\rand_gbm1.pkl_408.npy',\n",
       " 'C:\\\\Users\\\\senatoduro8\\\\Poverty_center\\\\rand_gbm1.pkl_409.npy',\n",
       " 'C:\\\\Users\\\\senatoduro8\\\\Poverty_center\\\\rand_gbm1.pkl_410.npy',\n",
       " 'C:\\\\Users\\\\senatoduro8\\\\Poverty_center\\\\rand_gbm1.pkl_411.npy',\n",
       " 'C:\\\\Users\\\\senatoduro8\\\\Poverty_center\\\\rand_gbm1.pkl_412.npy',\n",
       " 'C:\\\\Users\\\\senatoduro8\\\\Poverty_center\\\\rand_gbm1.pkl_413.npy',\n",
       " 'C:\\\\Users\\\\senatoduro8\\\\Poverty_center\\\\rand_gbm1.pkl_414.npy',\n",
       " 'C:\\\\Users\\\\senatoduro8\\\\Poverty_center\\\\rand_gbm1.pkl_415.npy',\n",
       " 'C:\\\\Users\\\\senatoduro8\\\\Poverty_center\\\\rand_gbm1.pkl_416.npy',\n",
       " 'C:\\\\Users\\\\senatoduro8\\\\Poverty_center\\\\rand_gbm1.pkl_417.npy',\n",
       " 'C:\\\\Users\\\\senatoduro8\\\\Poverty_center\\\\rand_gbm1.pkl_418.npy',\n",
       " 'C:\\\\Users\\\\senatoduro8\\\\Poverty_center\\\\rand_gbm1.pkl_419.npy',\n",
       " 'C:\\\\Users\\\\senatoduro8\\\\Poverty_center\\\\rand_gbm1.pkl_420.npy',\n",
       " 'C:\\\\Users\\\\senatoduro8\\\\Poverty_center\\\\rand_gbm1.pkl_421.npy',\n",
       " 'C:\\\\Users\\\\senatoduro8\\\\Poverty_center\\\\rand_gbm1.pkl_422.npy',\n",
       " 'C:\\\\Users\\\\senatoduro8\\\\Poverty_center\\\\rand_gbm1.pkl_423.npy',\n",
       " 'C:\\\\Users\\\\senatoduro8\\\\Poverty_center\\\\rand_gbm1.pkl_424.npy',\n",
       " 'C:\\\\Users\\\\senatoduro8\\\\Poverty_center\\\\rand_gbm1.pkl_425.npy',\n",
       " 'C:\\\\Users\\\\senatoduro8\\\\Poverty_center\\\\rand_gbm1.pkl_426.npy',\n",
       " 'C:\\\\Users\\\\senatoduro8\\\\Poverty_center\\\\rand_gbm1.pkl_427.npy',\n",
       " 'C:\\\\Users\\\\senatoduro8\\\\Poverty_center\\\\rand_gbm1.pkl_428.npy',\n",
       " 'C:\\\\Users\\\\senatoduro8\\\\Poverty_center\\\\rand_gbm1.pkl_429.npy',\n",
       " 'C:\\\\Users\\\\senatoduro8\\\\Poverty_center\\\\rand_gbm1.pkl_430.npy',\n",
       " 'C:\\\\Users\\\\senatoduro8\\\\Poverty_center\\\\rand_gbm1.pkl_431.npy',\n",
       " 'C:\\\\Users\\\\senatoduro8\\\\Poverty_center\\\\rand_gbm1.pkl_432.npy',\n",
       " 'C:\\\\Users\\\\senatoduro8\\\\Poverty_center\\\\rand_gbm1.pkl_433.npy',\n",
       " 'C:\\\\Users\\\\senatoduro8\\\\Poverty_center\\\\rand_gbm1.pkl_434.npy',\n",
       " 'C:\\\\Users\\\\senatoduro8\\\\Poverty_center\\\\rand_gbm1.pkl_435.npy',\n",
       " 'C:\\\\Users\\\\senatoduro8\\\\Poverty_center\\\\rand_gbm1.pkl_436.npy',\n",
       " 'C:\\\\Users\\\\senatoduro8\\\\Poverty_center\\\\rand_gbm1.pkl_437.npy',\n",
       " 'C:\\\\Users\\\\senatoduro8\\\\Poverty_center\\\\rand_gbm1.pkl_438.npy',\n",
       " 'C:\\\\Users\\\\senatoduro8\\\\Poverty_center\\\\rand_gbm1.pkl_439.npy',\n",
       " 'C:\\\\Users\\\\senatoduro8\\\\Poverty_center\\\\rand_gbm1.pkl_440.npy',\n",
       " 'C:\\\\Users\\\\senatoduro8\\\\Poverty_center\\\\rand_gbm1.pkl_441.npy',\n",
       " 'C:\\\\Users\\\\senatoduro8\\\\Poverty_center\\\\rand_gbm1.pkl_442.npy',\n",
       " 'C:\\\\Users\\\\senatoduro8\\\\Poverty_center\\\\rand_gbm1.pkl_443.npy',\n",
       " 'C:\\\\Users\\\\senatoduro8\\\\Poverty_center\\\\rand_gbm1.pkl_444.npy',\n",
       " 'C:\\\\Users\\\\senatoduro8\\\\Poverty_center\\\\rand_gbm1.pkl_445.npy',\n",
       " 'C:\\\\Users\\\\senatoduro8\\\\Poverty_center\\\\rand_gbm1.pkl_446.npy',\n",
       " 'C:\\\\Users\\\\senatoduro8\\\\Poverty_center\\\\rand_gbm1.pkl_447.npy',\n",
       " 'C:\\\\Users\\\\senatoduro8\\\\Poverty_center\\\\rand_gbm1.pkl_448.npy',\n",
       " 'C:\\\\Users\\\\senatoduro8\\\\Poverty_center\\\\rand_gbm1.pkl_449.npy',\n",
       " 'C:\\\\Users\\\\senatoduro8\\\\Poverty_center\\\\rand_gbm1.pkl_450.npy',\n",
       " 'C:\\\\Users\\\\senatoduro8\\\\Poverty_center\\\\rand_gbm1.pkl_451.npy',\n",
       " 'C:\\\\Users\\\\senatoduro8\\\\Poverty_center\\\\rand_gbm1.pkl_452.npy',\n",
       " 'C:\\\\Users\\\\senatoduro8\\\\Poverty_center\\\\rand_gbm1.pkl_453.npy',\n",
       " 'C:\\\\Users\\\\senatoduro8\\\\Poverty_center\\\\rand_gbm1.pkl_454.npy',\n",
       " 'C:\\\\Users\\\\senatoduro8\\\\Poverty_center\\\\rand_gbm1.pkl_455.npy',\n",
       " 'C:\\\\Users\\\\senatoduro8\\\\Poverty_center\\\\rand_gbm1.pkl_456.npy',\n",
       " 'C:\\\\Users\\\\senatoduro8\\\\Poverty_center\\\\rand_gbm1.pkl_457.npy',\n",
       " 'C:\\\\Users\\\\senatoduro8\\\\Poverty_center\\\\rand_gbm1.pkl_458.npy',\n",
       " 'C:\\\\Users\\\\senatoduro8\\\\Poverty_center\\\\rand_gbm1.pkl_459.npy',\n",
       " 'C:\\\\Users\\\\senatoduro8\\\\Poverty_center\\\\rand_gbm1.pkl_460.npy',\n",
       " 'C:\\\\Users\\\\senatoduro8\\\\Poverty_center\\\\rand_gbm1.pkl_461.npy',\n",
       " 'C:\\\\Users\\\\senatoduro8\\\\Poverty_center\\\\rand_gbm1.pkl_462.npy',\n",
       " 'C:\\\\Users\\\\senatoduro8\\\\Poverty_center\\\\rand_gbm1.pkl_463.npy',\n",
       " 'C:\\\\Users\\\\senatoduro8\\\\Poverty_center\\\\rand_gbm1.pkl_464.npy',\n",
       " 'C:\\\\Users\\\\senatoduro8\\\\Poverty_center\\\\rand_gbm1.pkl_465.npy',\n",
       " 'C:\\\\Users\\\\senatoduro8\\\\Poverty_center\\\\rand_gbm1.pkl_466.npy',\n",
       " 'C:\\\\Users\\\\senatoduro8\\\\Poverty_center\\\\rand_gbm1.pkl_467.npy',\n",
       " 'C:\\\\Users\\\\senatoduro8\\\\Poverty_center\\\\rand_gbm1.pkl_468.npy',\n",
       " 'C:\\\\Users\\\\senatoduro8\\\\Poverty_center\\\\rand_gbm1.pkl_469.npy',\n",
       " 'C:\\\\Users\\\\senatoduro8\\\\Poverty_center\\\\rand_gbm1.pkl_470.npy',\n",
       " 'C:\\\\Users\\\\senatoduro8\\\\Poverty_center\\\\rand_gbm1.pkl_471.npy',\n",
       " 'C:\\\\Users\\\\senatoduro8\\\\Poverty_center\\\\rand_gbm1.pkl_472.npy',\n",
       " 'C:\\\\Users\\\\senatoduro8\\\\Poverty_center\\\\rand_gbm1.pkl_473.npy',\n",
       " 'C:\\\\Users\\\\senatoduro8\\\\Poverty_center\\\\rand_gbm1.pkl_474.npy',\n",
       " 'C:\\\\Users\\\\senatoduro8\\\\Poverty_center\\\\rand_gbm1.pkl_475.npy',\n",
       " 'C:\\\\Users\\\\senatoduro8\\\\Poverty_center\\\\rand_gbm1.pkl_476.npy',\n",
       " 'C:\\\\Users\\\\senatoduro8\\\\Poverty_center\\\\rand_gbm1.pkl_477.npy',\n",
       " 'C:\\\\Users\\\\senatoduro8\\\\Poverty_center\\\\rand_gbm1.pkl_478.npy',\n",
       " 'C:\\\\Users\\\\senatoduro8\\\\Poverty_center\\\\rand_gbm1.pkl_479.npy',\n",
       " 'C:\\\\Users\\\\senatoduro8\\\\Poverty_center\\\\rand_gbm1.pkl_480.npy',\n",
       " 'C:\\\\Users\\\\senatoduro8\\\\Poverty_center\\\\rand_gbm1.pkl_481.npy',\n",
       " 'C:\\\\Users\\\\senatoduro8\\\\Poverty_center\\\\rand_gbm1.pkl_482.npy',\n",
       " 'C:\\\\Users\\\\senatoduro8\\\\Poverty_center\\\\rand_gbm1.pkl_483.npy',\n",
       " 'C:\\\\Users\\\\senatoduro8\\\\Poverty_center\\\\rand_gbm1.pkl_484.npy',\n",
       " 'C:\\\\Users\\\\senatoduro8\\\\Poverty_center\\\\rand_gbm1.pkl_485.npy',\n",
       " 'C:\\\\Users\\\\senatoduro8\\\\Poverty_center\\\\rand_gbm1.pkl_486.npy',\n",
       " 'C:\\\\Users\\\\senatoduro8\\\\Poverty_center\\\\rand_gbm1.pkl_487.npy',\n",
       " 'C:\\\\Users\\\\senatoduro8\\\\Poverty_center\\\\rand_gbm1.pkl_488.npy',\n",
       " 'C:\\\\Users\\\\senatoduro8\\\\Poverty_center\\\\rand_gbm1.pkl_489.npy',\n",
       " 'C:\\\\Users\\\\senatoduro8\\\\Poverty_center\\\\rand_gbm1.pkl_490.npy',\n",
       " 'C:\\\\Users\\\\senatoduro8\\\\Poverty_center\\\\rand_gbm1.pkl_491.npy',\n",
       " 'C:\\\\Users\\\\senatoduro8\\\\Poverty_center\\\\rand_gbm1.pkl_492.npy',\n",
       " 'C:\\\\Users\\\\senatoduro8\\\\Poverty_center\\\\rand_gbm1.pkl_493.npy',\n",
       " 'C:\\\\Users\\\\senatoduro8\\\\Poverty_center\\\\rand_gbm1.pkl_494.npy',\n",
       " 'C:\\\\Users\\\\senatoduro8\\\\Poverty_center\\\\rand_gbm1.pkl_495.npy',\n",
       " 'C:\\\\Users\\\\senatoduro8\\\\Poverty_center\\\\rand_gbm1.pkl_496.npy',\n",
       " 'C:\\\\Users\\\\senatoduro8\\\\Poverty_center\\\\rand_gbm1.pkl_497.npy',\n",
       " 'C:\\\\Users\\\\senatoduro8\\\\Poverty_center\\\\rand_gbm1.pkl_498.npy',\n",
       " 'C:\\\\Users\\\\senatoduro8\\\\Poverty_center\\\\rand_gbm1.pkl_499.npy',\n",
       " 'C:\\\\Users\\\\senatoduro8\\\\Poverty_center\\\\rand_gbm1.pkl_500.npy',\n",
       " 'C:\\\\Users\\\\senatoduro8\\\\Poverty_center\\\\rand_gbm1.pkl_501.npy',\n",
       " 'C:\\\\Users\\\\senatoduro8\\\\Poverty_center\\\\rand_gbm1.pkl_502.npy',\n",
       " 'C:\\\\Users\\\\senatoduro8\\\\Poverty_center\\\\rand_gbm1.pkl_503.npy',\n",
       " 'C:\\\\Users\\\\senatoduro8\\\\Poverty_center\\\\rand_gbm1.pkl_504.npy',\n",
       " 'C:\\\\Users\\\\senatoduro8\\\\Poverty_center\\\\rand_gbm1.pkl_505.npy',\n",
       " 'C:\\\\Users\\\\senatoduro8\\\\Poverty_center\\\\rand_gbm1.pkl_506.npy',\n",
       " 'C:\\\\Users\\\\senatoduro8\\\\Poverty_center\\\\rand_gbm1.pkl_507.npy',\n",
       " 'C:\\\\Users\\\\senatoduro8\\\\Poverty_center\\\\rand_gbm1.pkl_508.npy',\n",
       " 'C:\\\\Users\\\\senatoduro8\\\\Poverty_center\\\\rand_gbm1.pkl_509.npy',\n",
       " 'C:\\\\Users\\\\senatoduro8\\\\Poverty_center\\\\rand_gbm1.pkl_510.npy',\n",
       " 'C:\\\\Users\\\\senatoduro8\\\\Poverty_center\\\\rand_gbm1.pkl_511.npy',\n",
       " 'C:\\\\Users\\\\senatoduro8\\\\Poverty_center\\\\rand_gbm1.pkl_512.npy',\n",
       " 'C:\\\\Users\\\\senatoduro8\\\\Poverty_center\\\\rand_gbm1.pkl_513.npy',\n",
       " 'C:\\\\Users\\\\senatoduro8\\\\Poverty_center\\\\rand_gbm1.pkl_514.npy',\n",
       " 'C:\\\\Users\\\\senatoduro8\\\\Poverty_center\\\\rand_gbm1.pkl_515.npy',\n",
       " 'C:\\\\Users\\\\senatoduro8\\\\Poverty_center\\\\rand_gbm1.pkl_516.npy',\n",
       " 'C:\\\\Users\\\\senatoduro8\\\\Poverty_center\\\\rand_gbm1.pkl_517.npy',\n",
       " 'C:\\\\Users\\\\senatoduro8\\\\Poverty_center\\\\rand_gbm1.pkl_518.npy',\n",
       " 'C:\\\\Users\\\\senatoduro8\\\\Poverty_center\\\\rand_gbm1.pkl_519.npy',\n",
       " 'C:\\\\Users\\\\senatoduro8\\\\Poverty_center\\\\rand_gbm1.pkl_520.npy',\n",
       " 'C:\\\\Users\\\\senatoduro8\\\\Poverty_center\\\\rand_gbm1.pkl_521.npy',\n",
       " 'C:\\\\Users\\\\senatoduro8\\\\Poverty_center\\\\rand_gbm1.pkl_522.npy',\n",
       " 'C:\\\\Users\\\\senatoduro8\\\\Poverty_center\\\\rand_gbm1.pkl_523.npy',\n",
       " 'C:\\\\Users\\\\senatoduro8\\\\Poverty_center\\\\rand_gbm1.pkl_524.npy',\n",
       " 'C:\\\\Users\\\\senatoduro8\\\\Poverty_center\\\\rand_gbm1.pkl_525.npy',\n",
       " 'C:\\\\Users\\\\senatoduro8\\\\Poverty_center\\\\rand_gbm1.pkl_526.npy',\n",
       " 'C:\\\\Users\\\\senatoduro8\\\\Poverty_center\\\\rand_gbm1.pkl_527.npy',\n",
       " 'C:\\\\Users\\\\senatoduro8\\\\Poverty_center\\\\rand_gbm1.pkl_528.npy',\n",
       " 'C:\\\\Users\\\\senatoduro8\\\\Poverty_center\\\\rand_gbm1.pkl_529.npy',\n",
       " 'C:\\\\Users\\\\senatoduro8\\\\Poverty_center\\\\rand_gbm1.pkl_530.npy',\n",
       " 'C:\\\\Users\\\\senatoduro8\\\\Poverty_center\\\\rand_gbm1.pkl_531.npy',\n",
       " 'C:\\\\Users\\\\senatoduro8\\\\Poverty_center\\\\rand_gbm1.pkl_532.npy',\n",
       " 'C:\\\\Users\\\\senatoduro8\\\\Poverty_center\\\\rand_gbm1.pkl_533.npy',\n",
       " 'C:\\\\Users\\\\senatoduro8\\\\Poverty_center\\\\rand_gbm1.pkl_534.npy',\n",
       " 'C:\\\\Users\\\\senatoduro8\\\\Poverty_center\\\\rand_gbm1.pkl_535.npy',\n",
       " 'C:\\\\Users\\\\senatoduro8\\\\Poverty_center\\\\rand_gbm1.pkl_536.npy',\n",
       " 'C:\\\\Users\\\\senatoduro8\\\\Poverty_center\\\\rand_gbm1.pkl_537.npy',\n",
       " 'C:\\\\Users\\\\senatoduro8\\\\Poverty_center\\\\rand_gbm1.pkl_538.npy',\n",
       " 'C:\\\\Users\\\\senatoduro8\\\\Poverty_center\\\\rand_gbm1.pkl_539.npy',\n",
       " 'C:\\\\Users\\\\senatoduro8\\\\Poverty_center\\\\rand_gbm1.pkl_540.npy',\n",
       " 'C:\\\\Users\\\\senatoduro8\\\\Poverty_center\\\\rand_gbm1.pkl_541.npy',\n",
       " 'C:\\\\Users\\\\senatoduro8\\\\Poverty_center\\\\rand_gbm1.pkl_542.npy',\n",
       " 'C:\\\\Users\\\\senatoduro8\\\\Poverty_center\\\\rand_gbm1.pkl_543.npy',\n",
       " 'C:\\\\Users\\\\senatoduro8\\\\Poverty_center\\\\rand_gbm1.pkl_544.npy',\n",
       " 'C:\\\\Users\\\\senatoduro8\\\\Poverty_center\\\\rand_gbm1.pkl_545.npy',\n",
       " 'C:\\\\Users\\\\senatoduro8\\\\Poverty_center\\\\rand_gbm1.pkl_546.npy',\n",
       " 'C:\\\\Users\\\\senatoduro8\\\\Poverty_center\\\\rand_gbm1.pkl_547.npy',\n",
       " 'C:\\\\Users\\\\senatoduro8\\\\Poverty_center\\\\rand_gbm1.pkl_548.npy',\n",
       " 'C:\\\\Users\\\\senatoduro8\\\\Poverty_center\\\\rand_gbm1.pkl_549.npy',\n",
       " 'C:\\\\Users\\\\senatoduro8\\\\Poverty_center\\\\rand_gbm1.pkl_550.npy',\n",
       " 'C:\\\\Users\\\\senatoduro8\\\\Poverty_center\\\\rand_gbm1.pkl_551.npy',\n",
       " 'C:\\\\Users\\\\senatoduro8\\\\Poverty_center\\\\rand_gbm1.pkl_552.npy',\n",
       " 'C:\\\\Users\\\\senatoduro8\\\\Poverty_center\\\\rand_gbm1.pkl_553.npy',\n",
       " 'C:\\\\Users\\\\senatoduro8\\\\Poverty_center\\\\rand_gbm1.pkl_554.npy',\n",
       " 'C:\\\\Users\\\\senatoduro8\\\\Poverty_center\\\\rand_gbm1.pkl_555.npy',\n",
       " 'C:\\\\Users\\\\senatoduro8\\\\Poverty_center\\\\rand_gbm1.pkl_556.npy',\n",
       " 'C:\\\\Users\\\\senatoduro8\\\\Poverty_center\\\\rand_gbm1.pkl_557.npy',\n",
       " 'C:\\\\Users\\\\senatoduro8\\\\Poverty_center\\\\rand_gbm1.pkl_558.npy',\n",
       " 'C:\\\\Users\\\\senatoduro8\\\\Poverty_center\\\\rand_gbm1.pkl_559.npy',\n",
       " 'C:\\\\Users\\\\senatoduro8\\\\Poverty_center\\\\rand_gbm1.pkl_560.npy',\n",
       " 'C:\\\\Users\\\\senatoduro8\\\\Poverty_center\\\\rand_gbm1.pkl_561.npy',\n",
       " 'C:\\\\Users\\\\senatoduro8\\\\Poverty_center\\\\rand_gbm1.pkl_562.npy',\n",
       " 'C:\\\\Users\\\\senatoduro8\\\\Poverty_center\\\\rand_gbm1.pkl_563.npy',\n",
       " 'C:\\\\Users\\\\senatoduro8\\\\Poverty_center\\\\rand_gbm1.pkl_564.npy',\n",
       " 'C:\\\\Users\\\\senatoduro8\\\\Poverty_center\\\\rand_gbm1.pkl_565.npy',\n",
       " 'C:\\\\Users\\\\senatoduro8\\\\Poverty_center\\\\rand_gbm1.pkl_566.npy',\n",
       " 'C:\\\\Users\\\\senatoduro8\\\\Poverty_center\\\\rand_gbm1.pkl_567.npy',\n",
       " 'C:\\\\Users\\\\senatoduro8\\\\Poverty_center\\\\rand_gbm1.pkl_568.npy',\n",
       " 'C:\\\\Users\\\\senatoduro8\\\\Poverty_center\\\\rand_gbm1.pkl_569.npy',\n",
       " 'C:\\\\Users\\\\senatoduro8\\\\Poverty_center\\\\rand_gbm1.pkl_570.npy',\n",
       " 'C:\\\\Users\\\\senatoduro8\\\\Poverty_center\\\\rand_gbm1.pkl_571.npy',\n",
       " 'C:\\\\Users\\\\senatoduro8\\\\Poverty_center\\\\rand_gbm1.pkl_572.npy',\n",
       " 'C:\\\\Users\\\\senatoduro8\\\\Poverty_center\\\\rand_gbm1.pkl_573.npy',\n",
       " 'C:\\\\Users\\\\senatoduro8\\\\Poverty_center\\\\rand_gbm1.pkl_574.npy',\n",
       " 'C:\\\\Users\\\\senatoduro8\\\\Poverty_center\\\\rand_gbm1.pkl_575.npy',\n",
       " 'C:\\\\Users\\\\senatoduro8\\\\Poverty_center\\\\rand_gbm1.pkl_576.npy',\n",
       " 'C:\\\\Users\\\\senatoduro8\\\\Poverty_center\\\\rand_gbm1.pkl_577.npy',\n",
       " 'C:\\\\Users\\\\senatoduro8\\\\Poverty_center\\\\rand_gbm1.pkl_578.npy',\n",
       " 'C:\\\\Users\\\\senatoduro8\\\\Poverty_center\\\\rand_gbm1.pkl_579.npy',\n",
       " 'C:\\\\Users\\\\senatoduro8\\\\Poverty_center\\\\rand_gbm1.pkl_580.npy',\n",
       " 'C:\\\\Users\\\\senatoduro8\\\\Poverty_center\\\\rand_gbm1.pkl_581.npy',\n",
       " 'C:\\\\Users\\\\senatoduro8\\\\Poverty_center\\\\rand_gbm1.pkl_582.npy',\n",
       " 'C:\\\\Users\\\\senatoduro8\\\\Poverty_center\\\\rand_gbm1.pkl_583.npy',\n",
       " 'C:\\\\Users\\\\senatoduro8\\\\Poverty_center\\\\rand_gbm1.pkl_584.npy',\n",
       " 'C:\\\\Users\\\\senatoduro8\\\\Poverty_center\\\\rand_gbm1.pkl_585.npy',\n",
       " 'C:\\\\Users\\\\senatoduro8\\\\Poverty_center\\\\rand_gbm1.pkl_586.npy',\n",
       " 'C:\\\\Users\\\\senatoduro8\\\\Poverty_center\\\\rand_gbm1.pkl_587.npy',\n",
       " 'C:\\\\Users\\\\senatoduro8\\\\Poverty_center\\\\rand_gbm1.pkl_588.npy',\n",
       " 'C:\\\\Users\\\\senatoduro8\\\\Poverty_center\\\\rand_gbm1.pkl_589.npy',\n",
       " 'C:\\\\Users\\\\senatoduro8\\\\Poverty_center\\\\rand_gbm1.pkl_590.npy',\n",
       " 'C:\\\\Users\\\\senatoduro8\\\\Poverty_center\\\\rand_gbm1.pkl_591.npy',\n",
       " 'C:\\\\Users\\\\senatoduro8\\\\Poverty_center\\\\rand_gbm1.pkl_592.npy',\n",
       " 'C:\\\\Users\\\\senatoduro8\\\\Poverty_center\\\\rand_gbm1.pkl_593.npy',\n",
       " 'C:\\\\Users\\\\senatoduro8\\\\Poverty_center\\\\rand_gbm1.pkl_594.npy',\n",
       " 'C:\\\\Users\\\\senatoduro8\\\\Poverty_center\\\\rand_gbm1.pkl_595.npy',\n",
       " 'C:\\\\Users\\\\senatoduro8\\\\Poverty_center\\\\rand_gbm1.pkl_596.npy',\n",
       " 'C:\\\\Users\\\\senatoduro8\\\\Poverty_center\\\\rand_gbm1.pkl_597.npy',\n",
       " 'C:\\\\Users\\\\senatoduro8\\\\Poverty_center\\\\rand_gbm1.pkl_598.npy',\n",
       " 'C:\\\\Users\\\\senatoduro8\\\\Poverty_center\\\\rand_gbm1.pkl_599.npy',\n",
       " 'C:\\\\Users\\\\senatoduro8\\\\Poverty_center\\\\rand_gbm1.pkl_600.npy',\n",
       " 'C:\\\\Users\\\\senatoduro8\\\\Poverty_center\\\\rand_gbm1.pkl_601.npy',\n",
       " 'C:\\\\Users\\\\senatoduro8\\\\Poverty_center\\\\rand_gbm1.pkl_602.npy',\n",
       " 'C:\\\\Users\\\\senatoduro8\\\\Poverty_center\\\\rand_gbm1.pkl_603.npy',\n",
       " 'C:\\\\Users\\\\senatoduro8\\\\Poverty_center\\\\rand_gbm1.pkl_604.npy',\n",
       " 'C:\\\\Users\\\\senatoduro8\\\\Poverty_center\\\\rand_gbm1.pkl_605.npy',\n",
       " 'C:\\\\Users\\\\senatoduro8\\\\Poverty_center\\\\rand_gbm1.pkl_606.npy',\n",
       " 'C:\\\\Users\\\\senatoduro8\\\\Poverty_center\\\\rand_gbm1.pkl_607.npy',\n",
       " 'C:\\\\Users\\\\senatoduro8\\\\Poverty_center\\\\rand_gbm1.pkl_608.npy',\n",
       " 'C:\\\\Users\\\\senatoduro8\\\\Poverty_center\\\\rand_gbm1.pkl_609.npy',\n",
       " 'C:\\\\Users\\\\senatoduro8\\\\Poverty_center\\\\rand_gbm1.pkl_610.npy',\n",
       " 'C:\\\\Users\\\\senatoduro8\\\\Poverty_center\\\\rand_gbm1.pkl_611.npy',\n",
       " 'C:\\\\Users\\\\senatoduro8\\\\Poverty_center\\\\rand_gbm1.pkl_612.npy',\n",
       " 'C:\\\\Users\\\\senatoduro8\\\\Poverty_center\\\\rand_gbm1.pkl_613.npy',\n",
       " 'C:\\\\Users\\\\senatoduro8\\\\Poverty_center\\\\rand_gbm1.pkl_614.npy',\n",
       " 'C:\\\\Users\\\\senatoduro8\\\\Poverty_center\\\\rand_gbm1.pkl_615.npy',\n",
       " 'C:\\\\Users\\\\senatoduro8\\\\Poverty_center\\\\rand_gbm1.pkl_616.npy',\n",
       " 'C:\\\\Users\\\\senatoduro8\\\\Poverty_center\\\\rand_gbm1.pkl_617.npy',\n",
       " 'C:\\\\Users\\\\senatoduro8\\\\Poverty_center\\\\rand_gbm1.pkl_618.npy',\n",
       " 'C:\\\\Users\\\\senatoduro8\\\\Poverty_center\\\\rand_gbm1.pkl_619.npy',\n",
       " 'C:\\\\Users\\\\senatoduro8\\\\Poverty_center\\\\rand_gbm1.pkl_620.npy',\n",
       " 'C:\\\\Users\\\\senatoduro8\\\\Poverty_center\\\\rand_gbm1.pkl_621.npy',\n",
       " 'C:\\\\Users\\\\senatoduro8\\\\Poverty_center\\\\rand_gbm1.pkl_622.npy',\n",
       " 'C:\\\\Users\\\\senatoduro8\\\\Poverty_center\\\\rand_gbm1.pkl_623.npy',\n",
       " 'C:\\\\Users\\\\senatoduro8\\\\Poverty_center\\\\rand_gbm1.pkl_624.npy',\n",
       " 'C:\\\\Users\\\\senatoduro8\\\\Poverty_center\\\\rand_gbm1.pkl_625.npy',\n",
       " 'C:\\\\Users\\\\senatoduro8\\\\Poverty_center\\\\rand_gbm1.pkl_626.npy',\n",
       " 'C:\\\\Users\\\\senatoduro8\\\\Poverty_center\\\\rand_gbm1.pkl_627.npy',\n",
       " 'C:\\\\Users\\\\senatoduro8\\\\Poverty_center\\\\rand_gbm1.pkl_628.npy',\n",
       " 'C:\\\\Users\\\\senatoduro8\\\\Poverty_center\\\\rand_gbm1.pkl_629.npy',\n",
       " 'C:\\\\Users\\\\senatoduro8\\\\Poverty_center\\\\rand_gbm1.pkl_630.npy',\n",
       " 'C:\\\\Users\\\\senatoduro8\\\\Poverty_center\\\\rand_gbm1.pkl_631.npy',\n",
       " 'C:\\\\Users\\\\senatoduro8\\\\Poverty_center\\\\rand_gbm1.pkl_632.npy',\n",
       " 'C:\\\\Users\\\\senatoduro8\\\\Poverty_center\\\\rand_gbm1.pkl_633.npy',\n",
       " 'C:\\\\Users\\\\senatoduro8\\\\Poverty_center\\\\rand_gbm1.pkl_634.npy',\n",
       " 'C:\\\\Users\\\\senatoduro8\\\\Poverty_center\\\\rand_gbm1.pkl_635.npy',\n",
       " 'C:\\\\Users\\\\senatoduro8\\\\Poverty_center\\\\rand_gbm1.pkl_636.npy',\n",
       " 'C:\\\\Users\\\\senatoduro8\\\\Poverty_center\\\\rand_gbm1.pkl_637.npy',\n",
       " 'C:\\\\Users\\\\senatoduro8\\\\Poverty_center\\\\rand_gbm1.pkl_638.npy',\n",
       " 'C:\\\\Users\\\\senatoduro8\\\\Poverty_center\\\\rand_gbm1.pkl_639.npy',\n",
       " 'C:\\\\Users\\\\senatoduro8\\\\Poverty_center\\\\rand_gbm1.pkl_640.npy',\n",
       " 'C:\\\\Users\\\\senatoduro8\\\\Poverty_center\\\\rand_gbm1.pkl_641.npy',\n",
       " 'C:\\\\Users\\\\senatoduro8\\\\Poverty_center\\\\rand_gbm1.pkl_642.npy',\n",
       " 'C:\\\\Users\\\\senatoduro8\\\\Poverty_center\\\\rand_gbm1.pkl_643.npy',\n",
       " 'C:\\\\Users\\\\senatoduro8\\\\Poverty_center\\\\rand_gbm1.pkl_644.npy',\n",
       " 'C:\\\\Users\\\\senatoduro8\\\\Poverty_center\\\\rand_gbm1.pkl_645.npy',\n",
       " 'C:\\\\Users\\\\senatoduro8\\\\Poverty_center\\\\rand_gbm1.pkl_646.npy',\n",
       " 'C:\\\\Users\\\\senatoduro8\\\\Poverty_center\\\\rand_gbm1.pkl_647.npy',\n",
       " 'C:\\\\Users\\\\senatoduro8\\\\Poverty_center\\\\rand_gbm1.pkl_648.npy',\n",
       " 'C:\\\\Users\\\\senatoduro8\\\\Poverty_center\\\\rand_gbm1.pkl_649.npy',\n",
       " 'C:\\\\Users\\\\senatoduro8\\\\Poverty_center\\\\rand_gbm1.pkl_650.npy',\n",
       " 'C:\\\\Users\\\\senatoduro8\\\\Poverty_center\\\\rand_gbm1.pkl_651.npy',\n",
       " 'C:\\\\Users\\\\senatoduro8\\\\Poverty_center\\\\rand_gbm1.pkl_652.npy',\n",
       " 'C:\\\\Users\\\\senatoduro8\\\\Poverty_center\\\\rand_gbm1.pkl_653.npy',\n",
       " 'C:\\\\Users\\\\senatoduro8\\\\Poverty_center\\\\rand_gbm1.pkl_654.npy',\n",
       " 'C:\\\\Users\\\\senatoduro8\\\\Poverty_center\\\\rand_gbm1.pkl_655.npy',\n",
       " 'C:\\\\Users\\\\senatoduro8\\\\Poverty_center\\\\rand_gbm1.pkl_656.npy',\n",
       " 'C:\\\\Users\\\\senatoduro8\\\\Poverty_center\\\\rand_gbm1.pkl_657.npy',\n",
       " 'C:\\\\Users\\\\senatoduro8\\\\Poverty_center\\\\rand_gbm1.pkl_658.npy',\n",
       " 'C:\\\\Users\\\\senatoduro8\\\\Poverty_center\\\\rand_gbm1.pkl_659.npy',\n",
       " 'C:\\\\Users\\\\senatoduro8\\\\Poverty_center\\\\rand_gbm1.pkl_660.npy',\n",
       " 'C:\\\\Users\\\\senatoduro8\\\\Poverty_center\\\\rand_gbm1.pkl_661.npy',\n",
       " 'C:\\\\Users\\\\senatoduro8\\\\Poverty_center\\\\rand_gbm1.pkl_662.npy',\n",
       " 'C:\\\\Users\\\\senatoduro8\\\\Poverty_center\\\\rand_gbm1.pkl_663.npy',\n",
       " 'C:\\\\Users\\\\senatoduro8\\\\Poverty_center\\\\rand_gbm1.pkl_664.npy',\n",
       " 'C:\\\\Users\\\\senatoduro8\\\\Poverty_center\\\\rand_gbm1.pkl_665.npy',\n",
       " 'C:\\\\Users\\\\senatoduro8\\\\Poverty_center\\\\rand_gbm1.pkl_666.npy',\n",
       " 'C:\\\\Users\\\\senatoduro8\\\\Poverty_center\\\\rand_gbm1.pkl_667.npy',\n",
       " 'C:\\\\Users\\\\senatoduro8\\\\Poverty_center\\\\rand_gbm1.pkl_668.npy',\n",
       " 'C:\\\\Users\\\\senatoduro8\\\\Poverty_center\\\\rand_gbm1.pkl_669.npy',\n",
       " 'C:\\\\Users\\\\senatoduro8\\\\Poverty_center\\\\rand_gbm1.pkl_670.npy',\n",
       " 'C:\\\\Users\\\\senatoduro8\\\\Poverty_center\\\\rand_gbm1.pkl_671.npy',\n",
       " 'C:\\\\Users\\\\senatoduro8\\\\Poverty_center\\\\rand_gbm1.pkl_672.npy',\n",
       " 'C:\\\\Users\\\\senatoduro8\\\\Poverty_center\\\\rand_gbm1.pkl_673.npy',\n",
       " 'C:\\\\Users\\\\senatoduro8\\\\Poverty_center\\\\rand_gbm1.pkl_674.npy',\n",
       " 'C:\\\\Users\\\\senatoduro8\\\\Poverty_center\\\\rand_gbm1.pkl_675.npy',\n",
       " 'C:\\\\Users\\\\senatoduro8\\\\Poverty_center\\\\rand_gbm1.pkl_676.npy',\n",
       " 'C:\\\\Users\\\\senatoduro8\\\\Poverty_center\\\\rand_gbm1.pkl_677.npy',\n",
       " 'C:\\\\Users\\\\senatoduro8\\\\Poverty_center\\\\rand_gbm1.pkl_678.npy',\n",
       " 'C:\\\\Users\\\\senatoduro8\\\\Poverty_center\\\\rand_gbm1.pkl_679.npy',\n",
       " 'C:\\\\Users\\\\senatoduro8\\\\Poverty_center\\\\rand_gbm1.pkl_680.npy',\n",
       " 'C:\\\\Users\\\\senatoduro8\\\\Poverty_center\\\\rand_gbm1.pkl_681.npy',\n",
       " 'C:\\\\Users\\\\senatoduro8\\\\Poverty_center\\\\rand_gbm1.pkl_682.npy',\n",
       " 'C:\\\\Users\\\\senatoduro8\\\\Poverty_center\\\\rand_gbm1.pkl_683.npy',\n",
       " 'C:\\\\Users\\\\senatoduro8\\\\Poverty_center\\\\rand_gbm1.pkl_684.npy',\n",
       " 'C:\\\\Users\\\\senatoduro8\\\\Poverty_center\\\\rand_gbm1.pkl_685.npy',\n",
       " 'C:\\\\Users\\\\senatoduro8\\\\Poverty_center\\\\rand_gbm1.pkl_686.npy',\n",
       " 'C:\\\\Users\\\\senatoduro8\\\\Poverty_center\\\\rand_gbm1.pkl_687.npy',\n",
       " 'C:\\\\Users\\\\senatoduro8\\\\Poverty_center\\\\rand_gbm1.pkl_688.npy',\n",
       " 'C:\\\\Users\\\\senatoduro8\\\\Poverty_center\\\\rand_gbm1.pkl_689.npy',\n",
       " 'C:\\\\Users\\\\senatoduro8\\\\Poverty_center\\\\rand_gbm1.pkl_690.npy',\n",
       " 'C:\\\\Users\\\\senatoduro8\\\\Poverty_center\\\\rand_gbm1.pkl_691.npy',\n",
       " 'C:\\\\Users\\\\senatoduro8\\\\Poverty_center\\\\rand_gbm1.pkl_692.npy',\n",
       " 'C:\\\\Users\\\\senatoduro8\\\\Poverty_center\\\\rand_gbm1.pkl_693.npy',\n",
       " 'C:\\\\Users\\\\senatoduro8\\\\Poverty_center\\\\rand_gbm1.pkl_694.npy',\n",
       " 'C:\\\\Users\\\\senatoduro8\\\\Poverty_center\\\\rand_gbm1.pkl_695.npy',\n",
       " 'C:\\\\Users\\\\senatoduro8\\\\Poverty_center\\\\rand_gbm1.pkl_696.npy',\n",
       " 'C:\\\\Users\\\\senatoduro8\\\\Poverty_center\\\\rand_gbm1.pkl_697.npy',\n",
       " 'C:\\\\Users\\\\senatoduro8\\\\Poverty_center\\\\rand_gbm1.pkl_698.npy',\n",
       " 'C:\\\\Users\\\\senatoduro8\\\\Poverty_center\\\\rand_gbm1.pkl_699.npy',\n",
       " 'C:\\\\Users\\\\senatoduro8\\\\Poverty_center\\\\rand_gbm1.pkl_700.npy',\n",
       " 'C:\\\\Users\\\\senatoduro8\\\\Poverty_center\\\\rand_gbm1.pkl_701.npy',\n",
       " 'C:\\\\Users\\\\senatoduro8\\\\Poverty_center\\\\rand_gbm1.pkl_702.npy',\n",
       " 'C:\\\\Users\\\\senatoduro8\\\\Poverty_center\\\\rand_gbm1.pkl_703.npy',\n",
       " 'C:\\\\Users\\\\senatoduro8\\\\Poverty_center\\\\rand_gbm1.pkl_704.npy',\n",
       " 'C:\\\\Users\\\\senatoduro8\\\\Poverty_center\\\\rand_gbm1.pkl_705.npy',\n",
       " 'C:\\\\Users\\\\senatoduro8\\\\Poverty_center\\\\rand_gbm1.pkl_706.npy',\n",
       " 'C:\\\\Users\\\\senatoduro8\\\\Poverty_center\\\\rand_gbm1.pkl_707.npy',\n",
       " 'C:\\\\Users\\\\senatoduro8\\\\Poverty_center\\\\rand_gbm1.pkl_708.npy',\n",
       " 'C:\\\\Users\\\\senatoduro8\\\\Poverty_center\\\\rand_gbm1.pkl_709.npy',\n",
       " 'C:\\\\Users\\\\senatoduro8\\\\Poverty_center\\\\rand_gbm1.pkl_710.npy',\n",
       " 'C:\\\\Users\\\\senatoduro8\\\\Poverty_center\\\\rand_gbm1.pkl_711.npy',\n",
       " 'C:\\\\Users\\\\senatoduro8\\\\Poverty_center\\\\rand_gbm1.pkl_712.npy',\n",
       " 'C:\\\\Users\\\\senatoduro8\\\\Poverty_center\\\\rand_gbm1.pkl_713.npy',\n",
       " 'C:\\\\Users\\\\senatoduro8\\\\Poverty_center\\\\rand_gbm1.pkl_714.npy',\n",
       " 'C:\\\\Users\\\\senatoduro8\\\\Poverty_center\\\\rand_gbm1.pkl_715.npy',\n",
       " 'C:\\\\Users\\\\senatoduro8\\\\Poverty_center\\\\rand_gbm1.pkl_716.npy',\n",
       " 'C:\\\\Users\\\\senatoduro8\\\\Poverty_center\\\\rand_gbm1.pkl_717.npy',\n",
       " 'C:\\\\Users\\\\senatoduro8\\\\Poverty_center\\\\rand_gbm1.pkl_718.npy',\n",
       " 'C:\\\\Users\\\\senatoduro8\\\\Poverty_center\\\\rand_gbm1.pkl_719.npy',\n",
       " 'C:\\\\Users\\\\senatoduro8\\\\Poverty_center\\\\rand_gbm1.pkl_720.npy',\n",
       " 'C:\\\\Users\\\\senatoduro8\\\\Poverty_center\\\\rand_gbm1.pkl_721.npy',\n",
       " 'C:\\\\Users\\\\senatoduro8\\\\Poverty_center\\\\rand_gbm1.pkl_722.npy',\n",
       " 'C:\\\\Users\\\\senatoduro8\\\\Poverty_center\\\\rand_gbm1.pkl_723.npy',\n",
       " 'C:\\\\Users\\\\senatoduro8\\\\Poverty_center\\\\rand_gbm1.pkl_724.npy',\n",
       " 'C:\\\\Users\\\\senatoduro8\\\\Poverty_center\\\\rand_gbm1.pkl_725.npy',\n",
       " 'C:\\\\Users\\\\senatoduro8\\\\Poverty_center\\\\rand_gbm1.pkl_726.npy',\n",
       " 'C:\\\\Users\\\\senatoduro8\\\\Poverty_center\\\\rand_gbm1.pkl_727.npy',\n",
       " 'C:\\\\Users\\\\senatoduro8\\\\Poverty_center\\\\rand_gbm1.pkl_728.npy',\n",
       " 'C:\\\\Users\\\\senatoduro8\\\\Poverty_center\\\\rand_gbm1.pkl_729.npy']"
      ]
     },
     "execution_count": 9,
     "metadata": {},
     "output_type": "execute_result"
    }
   ],
   "source": [
    "from sklearn.externals import joblib\n",
    "joblib.dump(rand_gbm,\"Z:/largetransfer/luc/carter/models/rand_gbm1.pkl\")"
   ]
  },
  {
   "cell_type": "markdown",
   "metadata": {},
   "source": [
    "### Utility function for reporting of top models"
   ]
  },
  {
   "cell_type": "code",
   "execution_count": null,
   "metadata": {
    "collapsed": true
   },
   "outputs": [],
   "source": [
    "def report(grid_scores, n_top=3):\n",
    "    \"\"\"For reporting top best models\"\"\"\n",
    "    top_scores = sorted(grid_scores, key=itemgetter(1), reverse=True)[:n_top]\n",
    "    for i, score in enumerate(top_scores):\n",
    "        print(\"Model with rank: {0}\".format(i + 1))\n",
    "        print(\"Mean validation score: {0:.3f} (std: {1:.3f})\".format(\n",
    "              score.mean_validation_score,\n",
    "              np.std(score.cv_validation_scores)))\n",
    "        print(\"Parameters: {0}\".format(score.parameters))\n",
    "        print(\"\")"
   ]
  },
  {
   "cell_type": "code",
   "execution_count": 108,
   "metadata": {
    "collapsed": false
   },
   "outputs": [],
   "source": [
    "from sklearn.preprocessing import StandardScaler\n",
    "from time import time\n",
    "from sklearn.externals import joblib\n",
    "start_time=time()\n",
    "# Scaling features\n",
    "\n",
    "X_train=StandardScaler().fit_transform(X_train)\n",
    "X_test=StandardScaler().fit_transform(X_test)\n",
    "\n",
    "# Parameter options using the l1 penalty\n",
    "grid_param1={'penalty':['l2'],\\\n",
    "           'solver':['newton-cg'],\\\n",
    "           'C':[ 0.001,0.01, 0.1, 1, 10,100,1000]}\n",
    "\n",
    "log_reg1=LogisticRegression(tol=0.0001, max_iter=300,class_weight={0:1,1:10})\n",
    "\n",
    "# Creating gridsearch obj using the above setings\n",
    "grid_reg1=GridSearchCV(log_reg1,grid_param1,cv=10,scoring='accuracy',error_score=0)\n",
    "\n",
    "grid_reg1.fit(X_train,y_train)\n",
    "\n",
    "joblib.dump(grid_reg1,'Z:/largetransfer/luc/carter/models/logistic_reg.pkl')\n",
    "\n",
    "total_time=time()-start_time\n",
    "\n",
    "sound()\n"
   ]
  },
  {
   "cell_type": "code",
   "execution_count": 109,
   "metadata": {
    "collapsed": false
   },
   "outputs": [],
   "source": [
    "from sklearn.externals import joblib"
   ]
  },
  {
   "cell_type": "code",
   "execution_count": 25,
   "metadata": {
    "collapsed": false
   },
   "outputs": [
    {
     "data": {
      "text/plain": [
       "['C:\\\\Users\\\\senatoduro8\\\\Poverty_center\\\\serialized_models\\\\logistic_reg.pkl',\n",
       " 'C:\\\\Users\\\\senatoduro8\\\\Poverty_center\\\\serialized_models\\\\logistic_reg.pkl_01.npy',\n",
       " 'C:\\\\Users\\\\senatoduro8\\\\Poverty_center\\\\serialized_models\\\\logistic_reg.pkl_02.npy',\n",
       " 'C:\\\\Users\\\\senatoduro8\\\\Poverty_center\\\\serialized_models\\\\logistic_reg.pkl_03.npy',\n",
       " 'C:\\\\Users\\\\senatoduro8\\\\Poverty_center\\\\serialized_models\\\\logistic_reg.pkl_04.npy',\n",
       " 'C:\\\\Users\\\\senatoduro8\\\\Poverty_center\\\\serialized_models\\\\logistic_reg.pkl_05.npy',\n",
       " 'C:\\\\Users\\\\senatoduro8\\\\Poverty_center\\\\serialized_models\\\\logistic_reg.pkl_06.npy',\n",
       " 'C:\\\\Users\\\\senatoduro8\\\\Poverty_center\\\\serialized_models\\\\logistic_reg.pkl_07.npy',\n",
       " 'C:\\\\Users\\\\senatoduro8\\\\Poverty_center\\\\serialized_models\\\\logistic_reg.pkl_08.npy',\n",
       " 'C:\\\\Users\\\\senatoduro8\\\\Poverty_center\\\\serialized_models\\\\logistic_reg.pkl_09.npy',\n",
       " 'C:\\\\Users\\\\senatoduro8\\\\Poverty_center\\\\serialized_models\\\\logistic_reg.pkl_10.npy',\n",
       " 'C:\\\\Users\\\\senatoduro8\\\\Poverty_center\\\\serialized_models\\\\logistic_reg.pkl_11.npy',\n",
       " 'C:\\\\Users\\\\senatoduro8\\\\Poverty_center\\\\serialized_models\\\\logistic_reg.pkl_12.npy',\n",
       " 'C:\\\\Users\\\\senatoduro8\\\\Poverty_center\\\\serialized_models\\\\logistic_reg.pkl_13.npy',\n",
       " 'C:\\\\Users\\\\senatoduro8\\\\Poverty_center\\\\serialized_models\\\\logistic_reg.pkl_14.npy',\n",
       " 'C:\\\\Users\\\\senatoduro8\\\\Poverty_center\\\\serialized_models\\\\logistic_reg.pkl_15.npy',\n",
       " 'C:\\\\Users\\\\senatoduro8\\\\Poverty_center\\\\serialized_models\\\\logistic_reg.pkl_16.npy',\n",
       " 'C:\\\\Users\\\\senatoduro8\\\\Poverty_center\\\\serialized_models\\\\logistic_reg.pkl_17.npy',\n",
       " 'C:\\\\Users\\\\senatoduro8\\\\Poverty_center\\\\serialized_models\\\\logistic_reg.pkl_18.npy']"
      ]
     },
     "execution_count": 25,
     "metadata": {},
     "output_type": "execute_result"
    }
   ],
   "source": [
    "joblib.dump(grid_reg1,'Z:/largetransfer/luc/carter/models/logistic_reg.pkl')\n",
    "\n",
    "# joblib.dump(grid_reg1,'C:\\\\Users\\\\senatoduro8\\\\Poverty_center\\\\serialized_models\\\\logistic_reg.pkl')"
   ]
  },
  {
   "cell_type": "code",
   "execution_count": 110,
   "metadata": {
    "collapsed": false
   },
   "outputs": [
    {
     "data": {
      "text/plain": [
       "array([[18058,  2482],\n",
       "       [  481,  1572]])"
      ]
     },
     "execution_count": 110,
     "metadata": {},
     "output_type": "execute_result"
    }
   ],
   "source": [
    "# Note that you standardize the test and training data so check to make sure you did that before running the cell\n",
    "pred_lg=grid_reg1.predict(X_test)\n",
    "metrics.confusion_matrix(y_test,pred_lg)"
   ]
  },
  {
   "cell_type": "code",
   "execution_count": null,
   "metadata": {
    "collapsed": false
   },
   "outputs": [],
   "source": [
    "# Make sure the test data is not standardized so check it!\n",
    "\n",
    "gbm1=joblib.load('C:\\\\Users\\\\senatoduro8\\\\Poverty_center\\\\serialized_models\\\\rand_gbm1.pkl')\n",
    "pred_gbm=gbm1.predict(X_test)\n",
    "metrics.confusion_matrix(y_test,pred_gbm)"
   ]
  },
  {
   "cell_type": "markdown",
   "metadata": {
    "collapsed": false
   },
   "source": [
    "# Making predictions\n",
    "1. Logistic model\n",
    "2. Random Forest\n",
    "3. Gradient Boosting"
   ]
  },
  {
   "cell_type": "code",
   "execution_count": 2,
   "metadata": {
    "collapsed": false
   },
   "outputs": [],
   "source": [
    "from sklearn.externals import joblib\n",
    "\n",
    "logistic=joblib.load('Z:/largetransfer/luc/carter/models/logistic_reg.pkl')\n",
    "gradientB=joblib.load('Z:/largetransfer/luc/carter/models/rand_gbm1.pkl')\n",
    "RandomF=joblib.load(\"Z:/largetransfer/luc/carter/models/rand_rfc1.pkl\")"
   ]
  },
  {
   "cell_type": "markdown",
   "metadata": {},
   "source": [
    "### Exploring the logistic model"
   ]
  },
  {
   "cell_type": "code",
   "execution_count": 13,
   "metadata": {
    "collapsed": false
   },
   "outputs": [
    {
     "data": {
      "text/plain": [
       "LogisticRegression(C=0.001, class_weight={0: 1, 1: 10}, dual=False,\n",
       "          fit_intercept=True, intercept_scaling=1, max_iter=300,\n",
       "          multi_class='ovr', n_jobs=1, penalty='l2', random_state=None,\n",
       "          solver='newton-cg', tol=0.0001, verbose=0, warm_start=False)"
      ]
     },
     "execution_count": 13,
     "metadata": {},
     "output_type": "execute_result"
    }
   ],
   "source": [
    "#Best model after the Randomized search\n",
    "logistic.best_estimator_"
   ]
  },
  {
   "cell_type": "code",
   "execution_count": 14,
   "metadata": {
    "collapsed": false
   },
   "outputs": [
    {
     "data": {
      "text/plain": [
       "{'C': 0.001, 'penalty': 'l2', 'solver': 'newton-cg'}"
      ]
     },
     "execution_count": 14,
     "metadata": {},
     "output_type": "execute_result"
    }
   ],
   "source": [
    "#Checking the parameters used for the model selection\n",
    "logistic.best_params_"
   ]
  },
  {
   "cell_type": "code",
   "execution_count": 3,
   "metadata": {
    "collapsed": false
   },
   "outputs": [
    {
     "data": {
      "text/plain": [
       "0.86999291816049218"
      ]
     },
     "execution_count": 3,
     "metadata": {},
     "output_type": "execute_result"
    }
   ],
   "source": [
    "#Accuracy score\n",
    "logistic.best_score_"
   ]
  },
  {
   "cell_type": "code",
   "execution_count": 33,
   "metadata": {
    "collapsed": true
   },
   "outputs": [],
   "source": [
    "#predicted values\n",
    "from sklearn.preprocessing import StandardScaler\n",
    "X_testlg=StandardScaler().fit_transform(X_test)\n",
    "predicted=logistic.predict(X_testlg)\n"
   ]
  },
  {
   "cell_type": "code",
   "execution_count": 19,
   "metadata": {
    "collapsed": false
   },
   "outputs": [
    {
     "data": {
      "text/plain": [
       "0.86885318461470362"
      ]
     },
     "execution_count": 19,
     "metadata": {},
     "output_type": "execute_result"
    }
   ],
   "source": [
    "#Measuring model accuracy\n",
    "metrics.accuracy_score(y_test,predicted)"
   ]
  },
  {
   "cell_type": "code",
   "execution_count": 20,
   "metadata": {
    "collapsed": false
   },
   "outputs": [
    {
     "data": {
      "text/plain": [
       "array([[18058,  2482],\n",
       "       [  481,  1572]])"
      ]
     },
     "execution_count": 20,
     "metadata": {},
     "output_type": "execute_result"
    }
   ],
   "source": [
    "metrics.confusion_matrix(y_test,predicted)"
   ]
  },
  {
   "cell_type": "code",
   "execution_count": 135,
   "metadata": {
    "collapsed": false
   },
   "outputs": [
    {
     "data": {
      "text/html": [
       "<div>\n",
       "<table border=\"1\" class=\"dataframe\">\n",
       "  <thead>\n",
       "    <tr style=\"text-align: right;\">\n",
       "      <th>predicted</th>\n",
       "      <th>0</th>\n",
       "      <th>1</th>\n",
       "      <th>All</th>\n",
       "    </tr>\n",
       "    <tr>\n",
       "      <th>Actual</th>\n",
       "      <th></th>\n",
       "      <th></th>\n",
       "      <th></th>\n",
       "    </tr>\n",
       "  </thead>\n",
       "  <tbody>\n",
       "    <tr>\n",
       "      <th>0</th>\n",
       "      <td>18058</td>\n",
       "      <td>2482</td>\n",
       "      <td>20540</td>\n",
       "    </tr>\n",
       "    <tr>\n",
       "      <th>1</th>\n",
       "      <td>481</td>\n",
       "      <td>1572</td>\n",
       "      <td>2053</td>\n",
       "    </tr>\n",
       "    <tr>\n",
       "      <th>All</th>\n",
       "      <td>18539</td>\n",
       "      <td>4054</td>\n",
       "      <td>22593</td>\n",
       "    </tr>\n",
       "  </tbody>\n",
       "</table>\n",
       "</div>"
      ],
      "text/plain": [
       "predicted      0     1    All\n",
       "Actual                       \n",
       "0          18058  2482  20540\n",
       "1            481  1572   2053\n",
       "All        18539  4054  22593"
      ]
     },
     "execution_count": 135,
     "metadata": {},
     "output_type": "execute_result"
    }
   ],
   "source": [
    "pd.crosstab(y_test,predicted, margins=True,colnames=['predicted'],rownames=['Actual'])"
   ]
  },
  {
   "cell_type": "code",
   "execution_count": 34,
   "metadata": {
    "collapsed": false
   },
   "outputs": [
    {
     "data": {
      "image/png": "[encoded data removed]",
      "text/plain": [
       "<matplotlib.figure.Figure at 0x3a3b91ca58>"
      ]
     },
     "metadata": {},
     "output_type": "display_data"
    }
   ],
   "source": [
    "# Visualizing the distribution of the  predicted probabilities\n",
    "sns.set_style('white')\n",
    "\n",
    "predprob=logistic.predict_proba(X_testlg)[:,1]\n",
    "\n",
    "def distprob(predprob,threshold,model='',adjusted=False):\n",
    "    \"\"\"Utility for plotting the distribution probability\"\"\"\n",
    "    \n",
    "    sns.distplot(predprob,kde=False)\n",
    "    plt.axvline(threshold,color='DarkBlue', alpha=0.5)\n",
    "    plt.xlabel('predicted probabilities')\n",
    "    ax=plt.gca()\n",
    "    ax.annotate('Decision boundary', xy=(threshold,7500), xytext=(threshold+0.2,8000),\n",
    "                arrowprops=dict(facecolor='black', shrink=0.08),\n",
    "                )\n",
    "    if adjusted:\n",
    "        plt.title(model +' with adjusted threshold:%.2f'%threshold)\n",
    "    else:\n",
    "        plt.title(model)\n",
    "\n",
    "\n",
    "    \n",
    "distprob(predprob,0.5,'logistic regression')"
   ]
  },
  {
   "cell_type": "code",
   "execution_count": 25,
   "metadata": {
    "collapsed": false
   },
   "outputs": [
    {
     "data": {
      "text/html": [
       "<div>\n",
       "<table border=\"1\" class=\"dataframe\">\n",
       "  <thead>\n",
       "    <tr style=\"text-align: right;\">\n",
       "      <th></th>\n",
       "      <th>coef</th>\n",
       "      <th>variables</th>\n",
       "    </tr>\n",
       "  </thead>\n",
       "  <tbody>\n",
       "    <tr>\n",
       "      <th>0</th>\n",
       "      <td>-0.069279</td>\n",
       "      <td>rnumstor</td>\n",
       "    </tr>\n",
       "    <tr>\n",
       "      <th>1</th>\n",
       "      <td>-0.081273</td>\n",
       "      <td>propsize</td>\n",
       "    </tr>\n",
       "    <tr>\n",
       "      <th>2</th>\n",
       "      <td>-0.021483</td>\n",
       "      <td>totusabl</td>\n",
       "    </tr>\n",
       "    <tr>\n",
       "      <th>3</th>\n",
       "      <td>-0.254867</td>\n",
       "      <td>tmktval</td>\n",
       "    </tr>\n",
       "    <tr>\n",
       "      <th>4</th>\n",
       "      <td>-0.141198</td>\n",
       "      <td>ownerocc_value</td>\n",
       "    </tr>\n",
       "    <tr>\n",
       "      <th>5</th>\n",
       "      <td>-0.016724</td>\n",
       "      <td>totbldgs</td>\n",
       "    </tr>\n",
       "    <tr>\n",
       "      <th>6</th>\n",
       "      <td>-0.152969</td>\n",
       "      <td>yrbuilt_filtered</td>\n",
       "    </tr>\n",
       "    <tr>\n",
       "      <th>7</th>\n",
       "      <td>-0.007600</td>\n",
       "      <td>bachelors.</td>\n",
       "    </tr>\n",
       "    <tr>\n",
       "      <th>8</th>\n",
       "      <td>0.047800</td>\n",
       "      <td>lb_acquired</td>\n",
       "    </tr>\n",
       "    <tr>\n",
       "      <th>9</th>\n",
       "      <td>-0.030829</td>\n",
       "      <td>lb_tax_fc</td>\n",
       "    </tr>\n",
       "    <tr>\n",
       "      <th>10</th>\n",
       "      <td>-0.147750</td>\n",
       "      <td>TOTAL_NET_DELQ_BALANCE</td>\n",
       "    </tr>\n",
       "    <tr>\n",
       "      <th>11</th>\n",
       "      <td>-0.008211</td>\n",
       "      <td>TAX_ASSESSED_LAND</td>\n",
       "    </tr>\n",
       "    <tr>\n",
       "      <th>12</th>\n",
       "      <td>-0.008149</td>\n",
       "      <td>TAX_MARKET_LAND</td>\n",
       "    </tr>\n",
       "    <tr>\n",
       "      <th>13</th>\n",
       "      <td>0.147680</td>\n",
       "      <td>GRAND_TOTAL_BALANCE</td>\n",
       "    </tr>\n",
       "    <tr>\n",
       "      <th>14</th>\n",
       "      <td>-0.000466</td>\n",
       "      <td>GRAND_TOTAL_PAID</td>\n",
       "    </tr>\n",
       "    <tr>\n",
       "      <th>15</th>\n",
       "      <td>0.214069</td>\n",
       "      <td>delq_total_ratio</td>\n",
       "    </tr>\n",
       "    <tr>\n",
       "      <th>16</th>\n",
       "      <td>-0.112074</td>\n",
       "      <td>paid_percent</td>\n",
       "    </tr>\n",
       "    <tr>\n",
       "      <th>17</th>\n",
       "      <td>0.128007</td>\n",
       "      <td>GRAND_TOTAL_BALANCE_14</td>\n",
       "    </tr>\n",
       "    <tr>\n",
       "      <th>18</th>\n",
       "      <td>0.487908</td>\n",
       "      <td>pv_count</td>\n",
       "    </tr>\n",
       "    <tr>\n",
       "      <th>19</th>\n",
       "      <td>0.171473</td>\n",
       "      <td>v_total_1yr</td>\n",
       "    </tr>\n",
       "    <tr>\n",
       "      <th>20</th>\n",
       "      <td>0.097108</td>\n",
       "      <td>v_total_2yr</td>\n",
       "    </tr>\n",
       "    <tr>\n",
       "      <th>21</th>\n",
       "      <td>-0.054556</td>\n",
       "      <td>days_since_ovv_board_up</td>\n",
       "    </tr>\n",
       "    <tr>\n",
       "      <th>22</th>\n",
       "      <td>0.013285</td>\n",
       "      <td>c_ovv_board_num</td>\n",
       "    </tr>\n",
       "    <tr>\n",
       "      <th>23</th>\n",
       "      <td>-0.399574</td>\n",
       "      <td>days_since_ovv</td>\n",
       "    </tr>\n",
       "    <tr>\n",
       "      <th>24</th>\n",
       "      <td>0.126531</td>\n",
       "      <td>c_ovv_num</td>\n",
       "    </tr>\n",
       "    <tr>\n",
       "      <th>25</th>\n",
       "      <td>-0.016644</td>\n",
       "      <td>active_fc</td>\n",
       "    </tr>\n",
       "    <tr>\n",
       "      <th>26</th>\n",
       "      <td>-0.031966</td>\n",
       "      <td>fc_1yr</td>\n",
       "    </tr>\n",
       "    <tr>\n",
       "      <th>27</th>\n",
       "      <td>0.144072</td>\n",
       "      <td>fc_2yr</td>\n",
       "    </tr>\n",
       "    <tr>\n",
       "      <th>28</th>\n",
       "      <td>-0.348572</td>\n",
       "      <td>fc_days</td>\n",
       "    </tr>\n",
       "    <tr>\n",
       "      <th>29</th>\n",
       "      <td>0.118197</td>\n",
       "      <td>t_days</td>\n",
       "    </tr>\n",
       "    <tr>\n",
       "      <th>30</th>\n",
       "      <td>-0.137194</td>\n",
       "      <td>t_shf_deed</td>\n",
       "    </tr>\n",
       "    <tr>\n",
       "      <th>31</th>\n",
       "      <td>0.033398</td>\n",
       "      <td>t_num</td>\n",
       "    </tr>\n",
       "    <tr>\n",
       "      <th>32</th>\n",
       "      <td>-0.023926</td>\n",
       "      <td>al_num</td>\n",
       "    </tr>\n",
       "    <tr>\n",
       "      <th>33</th>\n",
       "      <td>0.062917</td>\n",
       "      <td>al_days</td>\n",
       "    </tr>\n",
       "    <tr>\n",
       "      <th>34</th>\n",
       "      <td>-0.130187</td>\n",
       "      <td>price_per_sqft</td>\n",
       "    </tr>\n",
       "  </tbody>\n",
       "</table>\n",
       "</div>"
      ],
      "text/plain": [
       "        coef                variables\n",
       "0  -0.069279                 rnumstor\n",
       "1  -0.081273                 propsize\n",
       "2  -0.021483                 totusabl\n",
       "3  -0.254867                  tmktval\n",
       "4  -0.141198           ownerocc_value\n",
       "5  -0.016724                 totbldgs\n",
       "6  -0.152969         yrbuilt_filtered\n",
       "7  -0.007600               bachelors.\n",
       "8   0.047800              lb_acquired\n",
       "9  -0.030829                lb_tax_fc\n",
       "10 -0.147750   TOTAL_NET_DELQ_BALANCE\n",
       "11 -0.008211        TAX_ASSESSED_LAND\n",
       "12 -0.008149          TAX_MARKET_LAND\n",
       "13  0.147680      GRAND_TOTAL_BALANCE\n",
       "14 -0.000466         GRAND_TOTAL_PAID\n",
       "15  0.214069         delq_total_ratio\n",
       "16 -0.112074             paid_percent\n",
       "17  0.128007   GRAND_TOTAL_BALANCE_14\n",
       "18  0.487908                 pv_count\n",
       "19  0.171473              v_total_1yr\n",
       "20  0.097108              v_total_2yr\n",
       "21 -0.054556  days_since_ovv_board_up\n",
       "22  0.013285          c_ovv_board_num\n",
       "23 -0.399574           days_since_ovv\n",
       "24  0.126531                c_ovv_num\n",
       "25 -0.016644                active_fc\n",
       "26 -0.031966                   fc_1yr\n",
       "27  0.144072                   fc_2yr\n",
       "28 -0.348572                  fc_days\n",
       "29  0.118197                   t_days\n",
       "30 -0.137194               t_shf_deed\n",
       "31  0.033398                    t_num\n",
       "32 -0.023926                   al_num\n",
       "33  0.062917                  al_days\n",
       "34 -0.130187           price_per_sqft"
      ]
     },
     "execution_count": 25,
     "metadata": {},
     "output_type": "execute_result"
    }
   ],
   "source": [
    "#Coefficients of the model\n",
    "coef=logistic.best_estimator_.coef_.T[:35].ravel()\n",
    "var=features[:35]\n",
    "pd.DataFrame(dict(list(zip(['variables','coef'],[var,coef]))))\n"
   ]
  },
  {
   "cell_type": "code",
   "execution_count": 138,
   "metadata": {
    "collapsed": false
   },
   "outputs": [],
   "source": [
    "# Tuning the prediction probabilities and setting roc_curve\n",
    "adjusted_prediction=np.where(predprob>0.2,1,0)"
   ]
  },
  {
   "cell_type": "code",
   "execution_count": 139,
   "metadata": {
    "collapsed": false
   },
   "outputs": [
    {
     "data": {
      "text/html": [
       "<div>\n",
       "<table border=\"1\" class=\"dataframe\">\n",
       "  <thead>\n",
       "    <tr style=\"text-align: right;\">\n",
       "      <th>predicted</th>\n",
       "      <th>0</th>\n",
       "      <th>1</th>\n",
       "    </tr>\n",
       "    <tr>\n",
       "      <th>Actual</th>\n",
       "      <th></th>\n",
       "      <th></th>\n",
       "    </tr>\n",
       "  </thead>\n",
       "  <tbody>\n",
       "    <tr>\n",
       "      <th>0</th>\n",
       "      <td>12173</td>\n",
       "      <td>8367</td>\n",
       "    </tr>\n",
       "    <tr>\n",
       "      <th>1</th>\n",
       "      <td>141</td>\n",
       "      <td>1912</td>\n",
       "    </tr>\n",
       "  </tbody>\n",
       "</table>\n",
       "</div>"
      ],
      "text/plain": [
       "predicted      0     1\n",
       "Actual                \n",
       "0          12173  8367\n",
       "1            141  1912"
      ]
     },
     "execution_count": 139,
     "metadata": {},
     "output_type": "execute_result"
    }
   ],
   "source": [
    "pd.crosstab(y_test,adjusted_prediction,colnames=['predicted'],rownames=['Actual'])"
   ]
  },
  {
   "cell_type": "code",
   "execution_count": 35,
   "metadata": {
    "collapsed": false
   },
   "outputs": [
    {
     "data": {
      "image/png": "[encoded data removed]",
      "text/plain": [
       "<matplotlib.figure.Figure at 0x3a3b4a1f28>"
      ]
     },
     "metadata": {},
     "output_type": "display_data"
    }
   ],
   "source": [
    "#adjusting the decision line to 0.2\n",
    "distprob(predprob,0.2,adjusted=True, model='Logistic Regression')"
   ]
  },
  {
   "cell_type": "markdown",
   "metadata": {},
   "source": [
    "### Exploring the Randomforest model\n"
   ]
  },
  {
   "cell_type": "code",
   "execution_count": 115,
   "metadata": {
    "collapsed": false
   },
   "outputs": [
    {
     "data": {
      "text/plain": [
       "RandomForestClassifier(bootstrap=True, class_weight={0: 1, 1: 10},\n",
       "            criterion='gini', max_depth=None, max_features=27,\n",
       "            max_leaf_nodes=None, min_samples_leaf=1, min_samples_split=2,\n",
       "            min_weight_fraction_leaf=0.0, n_estimators=61, n_jobs=1,\n",
       "            oob_score=False, random_state=6, verbose=0, warm_start=False)"
      ]
     },
     "execution_count": 115,
     "metadata": {},
     "output_type": "execute_result"
    }
   ],
   "source": [
    "RandomF.best_estimator_"
   ]
  },
  {
   "cell_type": "code",
   "execution_count": 76,
   "metadata": {
    "collapsed": false
   },
   "outputs": [
    {
     "data": {
      "text/html": [
       "<div>\n",
       "<table border=\"1\" class=\"dataframe\">\n",
       "  <thead>\n",
       "    <tr style=\"text-align: right;\">\n",
       "      <th></th>\n",
       "      <th>features</th>\n",
       "      <th>values</th>\n",
       "    </tr>\n",
       "  </thead>\n",
       "  <tbody>\n",
       "    <tr>\n",
       "      <th>0</th>\n",
       "      <td>rnumstor</td>\n",
       "      <td>0.007258</td>\n",
       "    </tr>\n",
       "    <tr>\n",
       "      <th>1</th>\n",
       "      <td>propsize</td>\n",
       "      <td>0.024690</td>\n",
       "    </tr>\n",
       "    <tr>\n",
       "      <th>2</th>\n",
       "      <td>totusabl</td>\n",
       "      <td>0.027415</td>\n",
       "    </tr>\n",
       "    <tr>\n",
       "      <th>3</th>\n",
       "      <td>tmktval</td>\n",
       "      <td>0.039781</td>\n",
       "    </tr>\n",
       "    <tr>\n",
       "      <th>4</th>\n",
       "      <td>ownerocc_value</td>\n",
       "      <td>0.009037</td>\n",
       "    </tr>\n",
       "  </tbody>\n",
       "</table>\n",
       "</div>"
      ],
      "text/plain": [
       "         features    values\n",
       "0        rnumstor  0.007258\n",
       "1        propsize  0.024690\n",
       "2        totusabl  0.027415\n",
       "3         tmktval  0.039781\n",
       "4  ownerocc_value  0.009037"
      ]
     },
     "execution_count": 76,
     "metadata": {},
     "output_type": "execute_result"
    }
   ],
   "source": [
    "important_features=RandomF.best_estimator_.feature_importances_\n",
    "feature_map=dict(zip(['features','values'],[features,important_features]))\n",
    "pd.DataFrame(feature_map).head()"
   ]
  },
  {
   "cell_type": "code",
   "execution_count": 92,
   "metadata": {
    "collapsed": false
   },
   "outputs": [
    {
     "data": {
      "image/png": "[encoded data removed]",
      "text/plain": [
       "<matplotlib.figure.Figure at 0x28abff80f0>"
      ]
     },
     "metadata": {},
     "output_type": "display_data"
    }
   ],
   "source": [
    "#variable importance plotting utility\n",
    "\n",
    "\n",
    "def important_feature_plot(variables,values,model=''):\n",
    "    # Plot feature importance\n",
    "    sns.set_context('talk')\n",
    "\n",
    "    # make importances relative to max importance\n",
    "    features1=np.array(variables)\n",
    "    feature_importance = 100.0 * (values / values.max())\n",
    "    sorted_idx = np.argsort(feature_importance)\n",
    "    pos = np.arange(sorted_idx.shape[0]) + .5\n",
    "#     plt.subplot(1, 2, 2)\n",
    "    plt.barh(pos, feature_importance[sorted_idx], align='center')\n",
    "    plt.yticks(pos,features1[sorted_idx])\n",
    "    plt.xlabel('Relative Importance')\n",
    "    plt.title('Variable Importance: '+ model)\n",
    "    plt.show()\n",
    "    \n",
    "feature_lab=['Residential 1','Main property 1','Main property 1','Main property 2','Main property 3','Main property 4'\\\n",
    "            ,'Main property 5','Demographics','Land & Banks 1','Land & Banks 2','Tax 1','Tax 2','Tax 3','Tax 4','Tax 5','Tax 6'\\\n",
    "            ,'Tax 7','Tax 8','Postal vacancy','Violations 1','Violations 2','Complaints 1','Complaints 2','Complaints 3','Complaints 4',\\\n",
    "            'Foreclosure 1','Foreclosure 2','Foreclosure 3','Foreclosure 4','Transfer 1','Transfer 2','Transfer 3','Armslength 1','Armslength 2',\\\n",
    "            'Tax 9']\n",
    "\n",
    "important_feature_plot(feature_lab,important_features[:35],'Random forest')"
   ]
  },
  {
   "cell_type": "code",
   "execution_count": 93,
   "metadata": {
    "collapsed": false
   },
   "outputs": [
    {
     "data": {
      "text/html": [
       "<div>\n",
       "<table border=\"1\" class=\"dataframe\">\n",
       "  <thead>\n",
       "    <tr style=\"text-align: right;\">\n",
       "      <th></th>\n",
       "      <th>model variables</th>\n",
       "      <th>tick labels</th>\n",
       "    </tr>\n",
       "  </thead>\n",
       "  <tbody>\n",
       "    <tr>\n",
       "      <th>0</th>\n",
       "      <td>rnumstor</td>\n",
       "      <td>Residential 1</td>\n",
       "    </tr>\n",
       "    <tr>\n",
       "      <th>1</th>\n",
       "      <td>propsize</td>\n",
       "      <td>Main property 1</td>\n",
       "    </tr>\n",
       "    <tr>\n",
       "      <th>2</th>\n",
       "      <td>totusabl</td>\n",
       "      <td>Main property 1</td>\n",
       "    </tr>\n",
       "    <tr>\n",
       "      <th>3</th>\n",
       "      <td>tmktval</td>\n",
       "      <td>Main property 2</td>\n",
       "    </tr>\n",
       "    <tr>\n",
       "      <th>4</th>\n",
       "      <td>ownerocc_value</td>\n",
       "      <td>Main property 3</td>\n",
       "    </tr>\n",
       "    <tr>\n",
       "      <th>5</th>\n",
       "      <td>totbldgs</td>\n",
       "      <td>Main property 4</td>\n",
       "    </tr>\n",
       "    <tr>\n",
       "      <th>6</th>\n",
       "      <td>yrbuilt_filtered</td>\n",
       "      <td>Main property 5</td>\n",
       "    </tr>\n",
       "    <tr>\n",
       "      <th>7</th>\n",
       "      <td>bachelors.</td>\n",
       "      <td>Demographics</td>\n",
       "    </tr>\n",
       "    <tr>\n",
       "      <th>8</th>\n",
       "      <td>lb_acquired</td>\n",
       "      <td>Land &amp; Banks 1</td>\n",
       "    </tr>\n",
       "    <tr>\n",
       "      <th>9</th>\n",
       "      <td>lb_tax_fc</td>\n",
       "      <td>Land &amp; Banks 2</td>\n",
       "    </tr>\n",
       "    <tr>\n",
       "      <th>10</th>\n",
       "      <td>TOTAL_NET_DELQ_BALANCE</td>\n",
       "      <td>Tax 1</td>\n",
       "    </tr>\n",
       "    <tr>\n",
       "      <th>11</th>\n",
       "      <td>TAX_ASSESSED_LAND</td>\n",
       "      <td>Tax 2</td>\n",
       "    </tr>\n",
       "    <tr>\n",
       "      <th>12</th>\n",
       "      <td>TAX_MARKET_LAND</td>\n",
       "      <td>Tax 3</td>\n",
       "    </tr>\n",
       "    <tr>\n",
       "      <th>13</th>\n",
       "      <td>GRAND_TOTAL_BALANCE</td>\n",
       "      <td>Tax 4</td>\n",
       "    </tr>\n",
       "    <tr>\n",
       "      <th>14</th>\n",
       "      <td>GRAND_TOTAL_PAID</td>\n",
       "      <td>Tax 5</td>\n",
       "    </tr>\n",
       "    <tr>\n",
       "      <th>15</th>\n",
       "      <td>delq_total_ratio</td>\n",
       "      <td>Tax 6</td>\n",
       "    </tr>\n",
       "    <tr>\n",
       "      <th>16</th>\n",
       "      <td>paid_percent</td>\n",
       "      <td>Tax 7</td>\n",
       "    </tr>\n",
       "    <tr>\n",
       "      <th>17</th>\n",
       "      <td>GRAND_TOTAL_BALANCE_14</td>\n",
       "      <td>Tax 8</td>\n",
       "    </tr>\n",
       "    <tr>\n",
       "      <th>18</th>\n",
       "      <td>pv_count</td>\n",
       "      <td>Postal vacancy</td>\n",
       "    </tr>\n",
       "    <tr>\n",
       "      <th>19</th>\n",
       "      <td>v_total_1yr</td>\n",
       "      <td>Violations 1</td>\n",
       "    </tr>\n",
       "    <tr>\n",
       "      <th>20</th>\n",
       "      <td>v_total_2yr</td>\n",
       "      <td>Violations 2</td>\n",
       "    </tr>\n",
       "    <tr>\n",
       "      <th>21</th>\n",
       "      <td>days_since_ovv_board_up</td>\n",
       "      <td>Complaints 1</td>\n",
       "    </tr>\n",
       "    <tr>\n",
       "      <th>22</th>\n",
       "      <td>c_ovv_board_num</td>\n",
       "      <td>Complaints 2</td>\n",
       "    </tr>\n",
       "    <tr>\n",
       "      <th>23</th>\n",
       "      <td>days_since_ovv</td>\n",
       "      <td>Complaints 3</td>\n",
       "    </tr>\n",
       "    <tr>\n",
       "      <th>24</th>\n",
       "      <td>c_ovv_num</td>\n",
       "      <td>Complaints 4</td>\n",
       "    </tr>\n",
       "    <tr>\n",
       "      <th>25</th>\n",
       "      <td>active_fc</td>\n",
       "      <td>Foreclosure 1</td>\n",
       "    </tr>\n",
       "    <tr>\n",
       "      <th>26</th>\n",
       "      <td>fc_1yr</td>\n",
       "      <td>Foreclosure 2</td>\n",
       "    </tr>\n",
       "    <tr>\n",
       "      <th>27</th>\n",
       "      <td>fc_2yr</td>\n",
       "      <td>Foreclosure 3</td>\n",
       "    </tr>\n",
       "    <tr>\n",
       "      <th>28</th>\n",
       "      <td>fc_days</td>\n",
       "      <td>Foreclosure 4</td>\n",
       "    </tr>\n",
       "    <tr>\n",
       "      <th>29</th>\n",
       "      <td>t_days</td>\n",
       "      <td>Transfer 1</td>\n",
       "    </tr>\n",
       "    <tr>\n",
       "      <th>30</th>\n",
       "      <td>t_shf_deed</td>\n",
       "      <td>Transfer 2</td>\n",
       "    </tr>\n",
       "    <tr>\n",
       "      <th>31</th>\n",
       "      <td>t_num</td>\n",
       "      <td>Transfer 3</td>\n",
       "    </tr>\n",
       "    <tr>\n",
       "      <th>32</th>\n",
       "      <td>al_num</td>\n",
       "      <td>Armslength 1</td>\n",
       "    </tr>\n",
       "    <tr>\n",
       "      <th>33</th>\n",
       "      <td>al_days</td>\n",
       "      <td>Armslength 2</td>\n",
       "    </tr>\n",
       "    <tr>\n",
       "      <th>34</th>\n",
       "      <td>price_per_sqft</td>\n",
       "      <td>Tax 9</td>\n",
       "    </tr>\n",
       "  </tbody>\n",
       "</table>\n",
       "</div>"
      ],
      "text/plain": [
       "            model variables      tick labels\n",
       "0                  rnumstor    Residential 1\n",
       "1                  propsize  Main property 1\n",
       "2                  totusabl  Main property 1\n",
       "3                   tmktval  Main property 2\n",
       "4            ownerocc_value  Main property 3\n",
       "5                  totbldgs  Main property 4\n",
       "6          yrbuilt_filtered  Main property 5\n",
       "7                bachelors.     Demographics\n",
       "8               lb_acquired   Land & Banks 1\n",
       "9                 lb_tax_fc   Land & Banks 2\n",
       "10   TOTAL_NET_DELQ_BALANCE            Tax 1\n",
       "11        TAX_ASSESSED_LAND            Tax 2\n",
       "12          TAX_MARKET_LAND            Tax 3\n",
       "13      GRAND_TOTAL_BALANCE            Tax 4\n",
       "14         GRAND_TOTAL_PAID            Tax 5\n",
       "15         delq_total_ratio            Tax 6\n",
       "16             paid_percent            Tax 7\n",
       "17   GRAND_TOTAL_BALANCE_14            Tax 8\n",
       "18                 pv_count   Postal vacancy\n",
       "19              v_total_1yr     Violations 1\n",
       "20              v_total_2yr     Violations 2\n",
       "21  days_since_ovv_board_up     Complaints 1\n",
       "22          c_ovv_board_num     Complaints 2\n",
       "23           days_since_ovv     Complaints 3\n",
       "24                c_ovv_num     Complaints 4\n",
       "25                active_fc    Foreclosure 1\n",
       "26                   fc_1yr    Foreclosure 2\n",
       "27                   fc_2yr    Foreclosure 3\n",
       "28                  fc_days    Foreclosure 4\n",
       "29                   t_days       Transfer 1\n",
       "30               t_shf_deed       Transfer 2\n",
       "31                    t_num       Transfer 3\n",
       "32                   al_num     Armslength 1\n",
       "33                  al_days     Armslength 2\n",
       "34           price_per_sqft            Tax 9"
      ]
     },
     "execution_count": 93,
     "metadata": {},
     "output_type": "execute_result"
    }
   ],
   "source": [
    "pd.DataFrame(dict(zip(['tick labels','model variables'],[feature_lab,features[:35]])))"
   ]
  },
  {
   "cell_type": "code",
   "execution_count": 118,
   "metadata": {
    "collapsed": false
   },
   "outputs": [
    {
     "data": {
      "text/html": [
       "<div>\n",
       "<table border=\"1\" class=\"dataframe\">\n",
       "  <thead>\n",
       "    <tr style=\"text-align: right;\">\n",
       "      <th>predicted</th>\n",
       "      <th>0</th>\n",
       "      <th>1</th>\n",
       "    </tr>\n",
       "    <tr>\n",
       "      <th>Actual</th>\n",
       "      <th></th>\n",
       "      <th></th>\n",
       "    </tr>\n",
       "  </thead>\n",
       "  <tbody>\n",
       "    <tr>\n",
       "      <th>0</th>\n",
       "      <td>20288</td>\n",
       "      <td>252</td>\n",
       "    </tr>\n",
       "    <tr>\n",
       "      <th>1</th>\n",
       "      <td>1172</td>\n",
       "      <td>881</td>\n",
       "    </tr>\n",
       "  </tbody>\n",
       "</table>\n",
       "</div>"
      ],
      "text/plain": [
       "predicted      0    1\n",
       "Actual               \n",
       "0          20288  252\n",
       "1           1172  881"
      ]
     },
     "execution_count": 118,
     "metadata": {},
     "output_type": "execute_result"
    }
   ],
   "source": [
    "#Making a prediction\n",
    "predicted_rf=RandomF.predict(X_test)\n",
    "pd.crosstab(y_test,predicted_rf,colnames=['predicted'],rownames=['Actual'])"
   ]
  },
  {
   "cell_type": "code",
   "execution_count": 119,
   "metadata": {
    "collapsed": false
   },
   "outputs": [
    {
     "name": "stdout",
     "output_type": "stream",
     "text": [
      "Calculated score: 0.93697 \n",
      " RandomizedScore: 0.94175\n"
     ]
    }
   ],
   "source": [
    "print('Calculated score: %.5f \\n RandomizedScore: %.5f'%(metrics.accuracy_score(y_test,predicted_rf),RandomF.best_score_))"
   ]
  },
  {
   "cell_type": "code",
   "execution_count": null,
   "metadata": {
    "collapsed": false
   },
   "outputs": [],
   "source": [
    "#prediction probability\n",
    "prob_rf=RandomF.predict_proba(X_test)[:,1]\n",
    "plt.subplot(211)\n",
    "distprob(prob_rf,0.5,model='Random Forest')\n",
    "plt.subplot(212)\n",
    "distprob(prob_rf,0.2,model='Random Forest', adjusted=True)"
   ]
  },
  {
   "cell_type": "code",
   "execution_count": 29,
   "metadata": {
    "collapsed": false
   },
   "outputs": [
    {
     "data": {
      "image/png": "[encoded data removed]",
      "text/plain": [
       "<matplotlib.figure.Figure at 0x3a3b1b1828>"
      ]
     },
     "metadata": {},
     "output_type": "display_data"
    }
   ],
   "source": [
    "#prediction probability\n",
    "prob_rf=RandomF.predict_proba(X_test)[:,1]\n",
    "\n",
    "distprob(prob_rf,0.5,model='Random Forest')\n"
   ]
  },
  {
   "cell_type": "code",
   "execution_count": 30,
   "metadata": {
    "collapsed": false
   },
   "outputs": [
    {
     "data": {
      "image/png": "[encoded data removed]",
      "text/plain": [
       "<matplotlib.figure.Figure at 0x3a3b3874e0>"
      ]
     },
     "metadata": {},
     "output_type": "display_data"
    }
   ],
   "source": [
    "#prediction probability\n",
    "prob_rf=RandomF.predict_proba(X_test)[:,1]\n",
    "distprob(prob_rf,0.2,model='Random Forest', adjusted=True)"
   ]
  },
  {
   "cell_type": "code",
   "execution_count": 122,
   "metadata": {
    "collapsed": false
   },
   "outputs": [
    {
     "data": {
      "text/html": [
       "<div>\n",
       "<table border=\"1\" class=\"dataframe\">\n",
       "  <thead>\n",
       "    <tr style=\"text-align: right;\">\n",
       "      <th>predicted</th>\n",
       "      <th>0</th>\n",
       "      <th>1</th>\n",
       "    </tr>\n",
       "    <tr>\n",
       "      <th>Actual</th>\n",
       "      <th></th>\n",
       "      <th></th>\n",
       "    </tr>\n",
       "  </thead>\n",
       "  <tbody>\n",
       "    <tr>\n",
       "      <th>0</th>\n",
       "      <td>19341</td>\n",
       "      <td>1199</td>\n",
       "    </tr>\n",
       "    <tr>\n",
       "      <th>1</th>\n",
       "      <td>666</td>\n",
       "      <td>1387</td>\n",
       "    </tr>\n",
       "  </tbody>\n",
       "</table>\n",
       "</div>"
      ],
      "text/plain": [
       "predicted      0     1\n",
       "Actual                \n",
       "0          19341  1199\n",
       "1            666  1387"
      ]
     },
     "execution_count": 122,
     "metadata": {},
     "output_type": "execute_result"
    }
   ],
   "source": [
    "#Adjusting the thresholds and setting the roc curves\n",
    "newpred_rf=np.where(prob_rf>0.2,1,0)\n",
    "\n",
    "pd.crosstab(y_test,newpred_rf,colnames=['predicted'],rownames=['Actual'])"
   ]
  },
  {
   "cell_type": "markdown",
   "metadata": {},
   "source": [
    "### Gradient Boosting"
   ]
  },
  {
   "cell_type": "code",
   "execution_count": 123,
   "metadata": {
    "collapsed": false
   },
   "outputs": [
    {
     "data": {
      "text/plain": [
       "GradientBoostingClassifier(init=None, learning_rate=0.01, loss='deviance',\n",
       "              max_depth=7, max_features=24, max_leaf_nodes=None,\n",
       "              min_samples_leaf=1, min_samples_split=2,\n",
       "              min_weight_fraction_leaf=0.0, n_estimators=214,\n",
       "              presort='auto', random_state=10, subsample=1.0, verbose=0,\n",
       "              warm_start=False)"
      ]
     },
     "execution_count": 123,
     "metadata": {},
     "output_type": "execute_result"
    }
   ],
   "source": [
    "#checking the best estimator obtained from the Randomized grid parameter search\n",
    "gradientB.best_estimator_"
   ]
  },
  {
   "cell_type": "code",
   "execution_count": 94,
   "metadata": {
    "collapsed": false
   },
   "outputs": [
    {
     "data": {
      "image/png": "[encoded data removed]",
      "text/plain": [
       "<matplotlib.figure.Figure at 0x28a76b5eb8>"
      ]
     },
     "metadata": {},
     "output_type": "display_data"
    }
   ],
   "source": [
    "important_feat=gradientB.best_estimator_.feature_importances_\n",
    "\n",
    "important_feature_plot(feature_lab,important_feat[:35],'Gradient Boosting')"
   ]
  },
  {
   "cell_type": "code",
   "execution_count": 125,
   "metadata": {
    "collapsed": true
   },
   "outputs": [],
   "source": [
    "predictedgb=gradientB.predict(X_test)"
   ]
  },
  {
   "cell_type": "code",
   "execution_count": 126,
   "metadata": {
    "collapsed": false
   },
   "outputs": [
    {
     "data": {
      "text/html": [
       "<div>\n",
       "<table border=\"1\" class=\"dataframe\">\n",
       "  <thead>\n",
       "    <tr style=\"text-align: right;\">\n",
       "      <th>predicted</th>\n",
       "      <th>0</th>\n",
       "      <th>1</th>\n",
       "    </tr>\n",
       "    <tr>\n",
       "      <th>Actual</th>\n",
       "      <th></th>\n",
       "      <th></th>\n",
       "    </tr>\n",
       "  </thead>\n",
       "  <tbody>\n",
       "    <tr>\n",
       "      <th>0</th>\n",
       "      <td>20348</td>\n",
       "      <td>192</td>\n",
       "    </tr>\n",
       "    <tr>\n",
       "      <th>1</th>\n",
       "      <td>1222</td>\n",
       "      <td>831</td>\n",
       "    </tr>\n",
       "  </tbody>\n",
       "</table>\n",
       "</div>"
      ],
      "text/plain": [
       "predicted      0    1\n",
       "Actual               \n",
       "0          20348  192\n",
       "1           1222  831"
      ]
     },
     "execution_count": 126,
     "metadata": {},
     "output_type": "execute_result"
    }
   ],
   "source": [
    "pd.crosstab(y_test,predictedgb,colnames=['predicted'],rownames=['Actual'])"
   ]
  },
  {
   "cell_type": "code",
   "execution_count": 127,
   "metadata": {
    "collapsed": false
   },
   "outputs": [
    {
     "data": {
      "text/plain": [
       "0.93741424334971013"
      ]
     },
     "execution_count": 127,
     "metadata": {},
     "output_type": "execute_result"
    }
   ],
   "source": [
    "#Accuracy score\n",
    "metrics.accuracy_score(y_test,predictedgb)"
   ]
  },
  {
   "cell_type": "code",
   "execution_count": null,
   "metadata": {
    "collapsed": false
   },
   "outputs": [],
   "source": [
    "prob_gbm=gradientB.predict_proba(X_test)[:,1]\n",
    "plt.subplot(211)\n",
    "distprob(prob_gbm,0.5,model='Gradient Boosting')\n",
    "plt.subplot(212)\n",
    "distprob(prob_gbm,0.2,model='Gradient Boosting', adjusted=True)"
   ]
  },
  {
   "cell_type": "code",
   "execution_count": 31,
   "metadata": {
    "collapsed": false
   },
   "outputs": [
    {
     "data": {
      "image/png": "[encoded data removed]",
      "text/plain": [
       "<matplotlib.figure.Figure at 0x3a3b3876a0>"
      ]
     },
     "metadata": {},
     "output_type": "display_data"
    }
   ],
   "source": [
    "prob_gbm=gradientB.predict_proba(X_test)[:,1]\n",
    "\n",
    "distprob(prob_gbm,0.5,model='Gradient Boosting')\n"
   ]
  },
  {
   "cell_type": "code",
   "execution_count": 32,
   "metadata": {
    "collapsed": false
   },
   "outputs": [
    {
     "data": {
      "image/png": "[encoded data removed]",
      "text/plain": [
       "<matplotlib.figure.Figure at 0x3a3b92fdd8>"
      ]
     },
     "metadata": {},
     "output_type": "display_data"
    }
   ],
   "source": [
    "prob_gbm=gradientB.predict_proba(X_test)[:,1]\n",
    "\n",
    "distprob(prob_gbm,0.2,model='Gradient Boosting', adjusted=True)"
   ]
  },
  {
   "cell_type": "code",
   "execution_count": 129,
   "metadata": {
    "collapsed": false
   },
   "outputs": [
    {
     "data": {
      "text/html": [
       "<div>\n",
       "<table border=\"1\" class=\"dataframe\">\n",
       "  <thead>\n",
       "    <tr style=\"text-align: right;\">\n",
       "      <th>Predicted</th>\n",
       "      <th>0</th>\n",
       "      <th>1</th>\n",
       "    </tr>\n",
       "    <tr>\n",
       "      <th>Actual</th>\n",
       "      <th></th>\n",
       "      <th></th>\n",
       "    </tr>\n",
       "  </thead>\n",
       "  <tbody>\n",
       "    <tr>\n",
       "      <th>0</th>\n",
       "      <td>19715</td>\n",
       "      <td>825</td>\n",
       "    </tr>\n",
       "    <tr>\n",
       "      <th>1</th>\n",
       "      <td>760</td>\n",
       "      <td>1293</td>\n",
       "    </tr>\n",
       "  </tbody>\n",
       "</table>\n",
       "</div>"
      ],
      "text/plain": [
       "Predicted      0     1\n",
       "Actual                \n",
       "0          19715   825\n",
       "1            760  1293"
      ]
     },
     "execution_count": 129,
     "metadata": {},
     "output_type": "execute_result"
    }
   ],
   "source": [
    "adjustpredgb=np.where(prob_gbm>0.2,1,0)\n",
    "pd.crosstab(y_test,adjustpredgb,colnames=['Predicted'],rownames=['Actual'])"
   ]
  },
  {
   "cell_type": "markdown",
   "metadata": {},
   "source": [
    "## ROC CURVES"
   ]
  },
  {
   "cell_type": "code",
   "execution_count": 141,
   "metadata": {
    "collapsed": false
   },
   "outputs": [
    {
     "data": {
      "text/plain": [
       "<matplotlib.legend.Legend at 0x8f92c3bc18>"
      ]
     },
     "execution_count": 141,
     "metadata": {},
     "output_type": "execute_result"
    },
    {
     "data": {
      "image/png": "[encoded data removed]",
      "text/plain": [
       "<matplotlib.figure.Figure at 0x8f92aad198>"
      ]
     },
     "metadata": {},
     "output_type": "display_data"
    }
   ],
   "source": [
    "def roc_curve(actual,score,model=''):\n",
    "    fpr,tpr,thresholds=metrics.roc_curve(actual,score)\n",
    "    plt.plot(fpr,tpr,label=model)\n",
    "    plt.title('ROC curves')\n",
    "    plt.xlabel('False postive rate')\n",
    "    plt.ylabel('True positive rate')\n",
    "    \n",
    "roc_curve(y_test,predprob,'logistic')\n",
    "plt.hold('on')\n",
    "roc_curve(y_test,prob_rf,'Random Forest')\n",
    "plt.hold('on')\n",
    "roc_curve(y_test,prob_gbm,'Gradient Boosting')\n",
    "plt.hold('off')\n",
    "plt.legend(loc='lower right')"
   ]
  },
  {
   "cell_type": "markdown",
   "metadata": {},
   "source": [
    "## Specificity, and sensitivity of models"
   ]
  },
  {
   "cell_type": "code",
   "execution_count": 142,
   "metadata": {
    "collapsed": false
   },
   "outputs": [
    {
     "name": "stdout",
     "output_type": "stream",
     "text": [
      "Summary of model performance\n",
      "for gradient boosting\n",
      "             precision    recall  f1-score   support\n",
      "\n",
      "          0       0.97      0.88      0.92     20540\n",
      "          1       0.39      0.77      0.51      2053\n",
      "\n",
      "avg / total       0.92      0.87      0.89     22593\n",
      "\n",
      "\n",
      "\n",
      "For Logistic model\n",
      "             precision    recall  f1-score   support\n",
      "\n",
      "          0       0.95      0.99      0.97     20540\n",
      "          1       0.78      0.43      0.55      2053\n",
      "\n",
      "avg / total       0.93      0.94      0.93     22593\n",
      "\n",
      "\n",
      "\n",
      "For random forest\n",
      "             precision    recall  f1-score   support\n",
      "\n",
      "          0       0.94      0.99      0.97     20540\n",
      "          1       0.81      0.40      0.54      2053\n",
      "\n",
      "avg / total       0.93      0.94      0.93     22593\n",
      "\n",
      "\n",
      "\n"
     ]
    }
   ],
   "source": [
    "model_predictions=[predicted,predicted_rf,predictedgb]\n",
    "print('Summary of model performance')\n",
    "for i,pred in enumerate(model_predictions):\n",
    "    if i == 1:\n",
    "        print(\"For Logistic model\")\n",
    "    elif i == 2:\n",
    "        print('For random forest')\n",
    "    else:\n",
    "        print('for gradient boosting')\n",
    "        \n",
    "    print(metrics.classification_report(y_test,pred))\n",
    "    print('\\n')"
   ]
  },
  {
   "cell_type": "code",
   "execution_count": 143,
   "metadata": {
    "collapsed": false
   },
   "outputs": [],
   "source": [
    "results=pd.DataFrame({'Logistic':predicted,'Random_forest':predicted_rf,'Gradient_Boosting':predictedgb})\n",
    "results.to_csv('C:\\\\Users\\\\senatoduro8\\\\Poverty_center\\\\Predictions.csv')\n",
    "results.to_csv('Z:/largetransfer/luc/carter/data/predictions/Predictions.csv')"
   ]
  },
  {
   "cell_type": "code",
   "execution_count": null,
   "metadata": {
    "collapsed": true
   },
   "outputs": [],
   "source": []
  }
 ],
 "metadata": {
  "kernelspec": {
   "display_name": "Python 3",
   "language": "python",
   "name": "python3"
  },
  "language_info": {
   "codemirror_mode": {
    "name": "ipython",
    "version": 3
   },
   "file_extension": ".py",
   "mimetype": "text/x-python",
   "name": "python",
   "nbconvert_exporter": "python",
   "pygments_lexer": "ipython3",
   "version": "3.5.1"
  }
 },
 "nbformat": 4,
 "nbformat_minor": 0
}
